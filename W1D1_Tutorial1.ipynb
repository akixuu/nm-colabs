{
  "cells": [
    {
      "cell_type": "markdown",
      "metadata": {
        "id": "view-in-github",
        "colab_type": "text"
      },
      "source": [
        "<a href=\"https://colab.research.google.com/github/akixuu/nma-colabs/blob/main/W1D1_Tutorial1.ipynb\" target=\"_parent\"><img src=\"https://colab.research.google.com/assets/colab-badge.svg\" alt=\"Open In Colab\"/></a>"
      ]
    },
    {
      "cell_type": "markdown",
      "metadata": {
        "execution": {},
        "id": "Uft0giva1AEr"
      },
      "source": [
        "# Tutorial 1: \"What\" models\n",
        "\n",
        "**Week 1, Day 1: Model Types**\n",
        "\n",
        "**By Neuromatch Academy**\n",
        "\n",
        "__Content creators:__ Matt Laporte, Byron Galbraith, Konrad Kording\n",
        "\n",
        "__Content reviewers:__ Dalin Guo, Aishwarya Balwani, Madineh Sarvestani, Maryam Vaziri-Pashkam, Michael Waskom, Ella Batty\n",
        "\n",
        "__Production editors:__ Gagana B, Spiros Chavlis\n",
        "\n",
        "<br>\n",
        "\n",
        "We would like to acknowledge [Steinmetz _et al._ (2019)](https://www.nature.com/articles/s41586-019-1787-x) for sharing their data, a subset of which is used here."
      ]
    },
    {
      "cell_type": "markdown",
      "metadata": {
        "execution": {},
        "id": "xEXW6iQm1AEs"
      },
      "source": [
        "___\n",
        "# Tutorial Objectives\n",
        "\n",
        "*Estimated timing of tutorial: 50 minutes*\n",
        "\n",
        "This is tutorial 1 of a 3-part series on different flavors of models used to understand neural data. In this tutorial we will explore 'What' models, used to describe the data. To understand what our data looks like, we will visualize it in different ways. Then we will compare it to simple mathematical models. Specifically, we will:\n",
        "\n",
        "- Load a dataset with spiking activity from hundreds of neurons and understand how it is organized\n",
        "- Make plots to visualize characteristics of the spiking activity across the population\n",
        "- Compute the distribution of \"inter-spike intervals\" (ISIs) for a single neuron\n",
        "- Consider several formal models of this distribution's shape and fit them to the data \"by hand\""
      ]
    },
    {
      "cell_type": "code",
      "execution_count": null,
      "metadata": {
        "cellView": "form",
        "execution": {},
        "id": "inace1HL1AEu",
        "colab": {
          "base_uri": "https://localhost:8080/",
          "height": 519
        },
        "outputId": "a938f748-e536-400f-db5b-d2b5f289a93d"
      },
      "outputs": [
        {
          "output_type": "stream",
          "name": "stdout",
          "text": [
            "If you want to download the slides: https://osf.io/download/6dxwe/\n"
          ]
        },
        {
          "output_type": "execute_result",
          "data": {
            "text/plain": [
              "<IPython.lib.display.IFrame at 0x7b631ef48190>"
            ],
            "text/html": [
              "\n",
              "        <iframe\n",
              "            width=\"854\"\n",
              "            height=\"480\"\n",
              "            src=\"https://mfr.ca-1.osf.io/render?url=https://osf.io/6dxwe/?direct%26mode=render%26action=download%26mode=render\"\n",
              "            frameborder=\"0\"\n",
              "            allowfullscreen\n",
              "            \n",
              "        ></iframe>\n",
              "        "
            ]
          },
          "metadata": {},
          "execution_count": 1
        }
      ],
      "source": [
        "\n",
        "# @title Tutorial slides\n",
        "# @markdown These are the slides for the videos in all tutorials today\n",
        "from IPython.display import IFrame\n",
        "link_id = \"6dxwe\"\n",
        "print(f\"If you want to download the slides: https://osf.io/download/{link_id}/\")\n",
        "IFrame(src=f\"https://mfr.ca-1.osf.io/render?url=https://osf.io/{link_id}/?direct%26mode=render%26action=download%26mode=render\", width=854, height=480)"
      ]
    },
    {
      "cell_type": "markdown",
      "metadata": {
        "execution": {},
        "id": "E43PFSjV1AEv"
      },
      "source": [
        "---\n",
        "# Setup\n",
        "\n"
      ]
    },
    {
      "cell_type": "code",
      "execution_count": null,
      "metadata": {
        "cellView": "form",
        "execution": {},
        "id": "RsXCidYc1AEw",
        "colab": {
          "base_uri": "https://localhost:8080/"
        },
        "outputId": "ab716927-4121-4b65-84c0-22e1bb29558c"
      },
      "outputs": [
        {
          "output_type": "stream",
          "name": "stdout",
          "text": [
            "  Preparing metadata (setup.py) ... \u001b[?25l\u001b[?25hdone\n",
            "  Preparing metadata (setup.py) ... \u001b[?25l\u001b[?25hdone\n",
            "\u001b[2K   \u001b[90m━━━━━━━━━━━━━━━━━━━━━━━━━━━━━━━━━━━━━━━━\u001b[0m \u001b[32m1.6/1.6 MB\u001b[0m \u001b[31m20.8 MB/s\u001b[0m eta \u001b[36m0:00:00\u001b[0m\n",
            "\u001b[?25h  Building wheel for vibecheck (setup.py) ... \u001b[?25l\u001b[?25hdone\n",
            "  Building wheel for datatops (setup.py) ... \u001b[?25l\u001b[?25hdone\n"
          ]
        }
      ],
      "source": [
        "# @title Install and import feedback gadget\n",
        "\n",
        "!pip3 install vibecheck datatops --quiet\n",
        "\n",
        "from vibecheck import DatatopsContentReviewContainer\n",
        "def content_review(notebook_section: str):\n",
        "    return DatatopsContentReviewContainer(\n",
        "        \"\",  # No text prompt\n",
        "        notebook_section,\n",
        "        {\n",
        "            \"url\": \"https://pmyvdlilci.execute-api.us-east-1.amazonaws.com/klab\",\n",
        "            \"name\": \"neuromatch_cn\",\n",
        "            \"user_key\": \"y1x3mpx5\",\n",
        "        },\n",
        "    ).render()\n",
        "\n",
        "\n",
        "feedback_prefix = \"W1D1_T1\""
      ]
    },
    {
      "cell_type": "markdown",
      "metadata": {
        "execution": {},
        "id": "MpFSAFHx1AEw"
      },
      "source": [
        "Python requires you to explicitly \"import\" libraries before their functions are available to use. We will always specify our imports at the beginning of each notebook or script."
      ]
    },
    {
      "cell_type": "code",
      "execution_count": null,
      "metadata": {
        "execution": {},
        "pycharm": {
          "name": "#%%\n"
        },
        "id": "0FU6H1nM1AEx"
      },
      "outputs": [],
      "source": [
        "import numpy as np\n",
        "import matplotlib.pyplot as plt"
      ]
    },
    {
      "cell_type": "markdown",
      "metadata": {
        "execution": {},
        "id": "npNFp1Re1AEx"
      },
      "source": [
        "Tutorial notebooks typically begin with several set-up steps that are hidden from view by default.\n",
        "\n",
        "**Important:** Even though the code is hidden, you still need to run it so that the rest of the notebook can work properly. Step through each cell, either by pressing the play button in the upper-left-hand corner or with a keyboard shortcut (`Cmd-Return` on a Mac, `Ctrl-Enter` otherwise). A number will appear inside the brackets (e.g. `[3]`) to tell you that the cell was executed and what order that happened in.\n",
        "\n",
        "If you are curious to see what is going on inside each cell, you can double click to expand. Once expanded, double-click the white space to the right of the editor to collapse again."
      ]
    },
    {
      "cell_type": "code",
      "execution_count": null,
      "metadata": {
        "cellView": "form",
        "execution": {},
        "pycharm": {
          "name": "#%%\n"
        },
        "id": "mSRV8vru1AEx"
      },
      "outputs": [],
      "source": [
        "# @title Figure Settings\n",
        "import logging\n",
        "logging.getLogger('matplotlib.font_manager').disabled = True\n",
        "\n",
        "import ipywidgets as widgets  # interactive display\n",
        "%matplotlib inline\n",
        "%config InlineBackend.figure_format = 'retina'\n",
        "plt.style.use(\"https://raw.githubusercontent.com/NeuromatchAcademy/course-content/main/nma.mplstyle\")"
      ]
    },
    {
      "cell_type": "code",
      "execution_count": null,
      "metadata": {
        "cellView": "form",
        "execution": {},
        "id": "R-e1fTGy1AEy"
      },
      "outputs": [],
      "source": [
        "# @title Plotting functions\n",
        "\n",
        "def plot_isis(single_neuron_isis):\n",
        "  plt.hist(single_neuron_isis, bins=50, histtype=\"stepfilled\")\n",
        "  plt.axvline(single_neuron_isis.mean(), color=\"orange\", label=\"Mean ISI\")\n",
        "  plt.xlabel(\"ISI duration (s)\")\n",
        "  plt.ylabel(\"Number of spikes\")\n",
        "  plt.legend()"
      ]
    },
    {
      "cell_type": "code",
      "execution_count": null,
      "metadata": {
        "cellView": "form",
        "execution": {},
        "pycharm": {
          "name": "#%%\n"
        },
        "id": "f6Xh0qkg1AEy"
      },
      "outputs": [],
      "source": [
        "#@title Data retrieval\n",
        "#@markdown This cell downloads the example dataset that we will use in this tutorial.\n",
        "import io\n",
        "import requests\n",
        "r = requests.get('https://osf.io/sy5xt/download')\n",
        "if r.status_code != 200:\n",
        "  print('Failed to download data')\n",
        "else:\n",
        "  spike_times = np.load(io.BytesIO(r.content), allow_pickle=True)['spike_times']"
      ]
    },
    {
      "cell_type": "markdown",
      "metadata": {
        "execution": {},
        "id": "b8-wBXDK1AEy"
      },
      "source": [
        "---\n",
        "# \"What\" models"
      ]
    },
    {
      "cell_type": "code",
      "execution_count": null,
      "metadata": {
        "cellView": "form",
        "execution": {},
        "id": "iqsLB8Dq1AEz",
        "colab": {
          "base_uri": "https://localhost:8080/",
          "height": 581,
          "referenced_widgets": [
            "82ab739ff843476abf2ee27544d168a5",
            "593c737303264f35b9e6af5698f0743a",
            "e6329dd1e37841a9abecca7f0f784483",
            "1650219bf0764a1f97daeddbcd4a7d79",
            "6cf053606f3d412397b9269b407b9e23",
            "f0b402ad9ea84d469ab7ec215b964990"
          ]
        },
        "outputId": "74fc5159-6843-4d4d-9bf5-28a6c2f573ca"
      },
      "outputs": [
        {
          "output_type": "display_data",
          "data": {
            "text/plain": [
              "Tab(children=(Output(), Output()), _titles={'0': 'Youtube', '1': 'Bilibili'})"
            ],
            "application/vnd.jupyter.widget-view+json": {
              "version_major": 2,
              "version_minor": 0,
              "model_id": "82ab739ff843476abf2ee27544d168a5"
            }
          },
          "metadata": {}
        }
      ],
      "source": [
        "# @title Video 1: \"What\" Models\n",
        "from ipywidgets import widgets\n",
        "from IPython.display import YouTubeVideo\n",
        "from IPython.display import IFrame\n",
        "from IPython.display import display\n",
        "\n",
        "\n",
        "class PlayVideo(IFrame):\n",
        "  def __init__(self, id, source, page=1, width=400, height=300, **kwargs):\n",
        "    self.id = id\n",
        "    if source == 'Bilibili':\n",
        "      src = f'https://player.bilibili.com/player.html?bvid={id}&page={page}'\n",
        "    elif source == 'Osf':\n",
        "      src = f'https://mfr.ca-1.osf.io/render?url=https://osf.io/download/{id}/?direct%26mode=render'\n",
        "    super(PlayVideo, self).__init__(src, width, height, **kwargs)\n",
        "\n",
        "\n",
        "def display_videos(video_ids, W=400, H=300, fs=1):\n",
        "  tab_contents = []\n",
        "  for i, video_id in enumerate(video_ids):\n",
        "    out = widgets.Output()\n",
        "    with out:\n",
        "      if video_ids[i][0] == 'Youtube':\n",
        "        video = YouTubeVideo(id=video_ids[i][1], width=W,\n",
        "                             height=H, fs=fs, rel=0)\n",
        "        print(f'Video available at https://youtube.com/watch?v={video.id}')\n",
        "      else:\n",
        "        video = PlayVideo(id=video_ids[i][1], source=video_ids[i][0], width=W,\n",
        "                          height=H, fs=fs, autoplay=False)\n",
        "        if video_ids[i][0] == 'Bilibili':\n",
        "          print(f'Video available at https://www.bilibili.com/video/{video.id}')\n",
        "        elif video_ids[i][0] == 'Osf':\n",
        "          print(f'Video available at https://osf.io/{video.id}')\n",
        "      display(video)\n",
        "    tab_contents.append(out)\n",
        "  return tab_contents\n",
        "\n",
        "\n",
        "video_ids = [('Youtube', 'KgqR_jbjMQg'), ('Bilibili', 'BV1mz4y1X7ot')]\n",
        "tab_contents = display_videos(video_ids, W=854, H=480)\n",
        "tabs = widgets.Tab()\n",
        "tabs.children = tab_contents\n",
        "for i in range(len(tab_contents)):\n",
        "  tabs.set_title(i, video_ids[i][0])\n",
        "display(tabs)"
      ]
    },
    {
      "cell_type": "code",
      "execution_count": null,
      "metadata": {
        "cellView": "form",
        "execution": {},
        "id": "WfxCF56-1AEz",
        "colab": {
          "base_uri": "https://localhost:8080/",
          "height": 62,
          "referenced_widgets": [
            "99168c73937b480da4f409e62e900a0d",
            "12c5962788e146359d7eb93a6f589149",
            "aed9e58246594f82a55467bc3d81fbcc",
            "7119d30f74664886ae61cee7dbc90eb1",
            "c713cdb635f64b26a14acd489bebed4c",
            "3f7b87331a314cf99792939a4c4c0621",
            "3d2ddbaafa394af6980321b83b89507e",
            "caba920b69c94053a1a52fda631b216b",
            "b5ad35bc413c46e482566273bcf19a21",
            "cd685ca0a23440b495d15da69bb17e2a",
            "fde8c90dedea40aeb082e993e72e7648",
            "f43082ffdc0e42958c0fbeeea678261a",
            "e00c7f77e23d495881d2c44620eb89b1",
            "fc148fc3da1245e781f6d880ee39eb37",
            "470a0b311919465d95b93086ca073053",
            "fa4a07285538425f9b0da077481f6410",
            "8ed6ed3eae9e4f3c8691f47f7093a7dc",
            "7b3f4989479b451ab595cbe1e75fa554",
            "ca3705e2387945ca904a31bc9e961b4d",
            "02d08299a0a14b9ca62bc05d3ad5126e",
            "773d0ca36c104b23ad6c0a4a410bf20b",
            "000d78a602f744a7bd2cd376f82f320c",
            "89a4d5bff4d34525987beab8cef03ccd",
            "4aeec5d5988643b1a1802ac8cbc51d7d",
            "c9369fb397eb4d4c8e13a93880d96c65",
            "676df7dcf66d42abbda6ab89278b2e8a"
          ]
        },
        "outputId": "9b60462f-e878-48fa-ef81-a8475427ec2a"
      },
      "outputs": [
        {
          "output_type": "display_data",
          "data": {
            "text/plain": [
              "VBox(children=(VBox(children=(HBox(children=(Button(description='🙂', layout=Layout(height='auto', padding='0.5…"
            ],
            "application/vnd.jupyter.widget-view+json": {
              "version_major": 2,
              "version_minor": 0,
              "model_id": "99168c73937b480da4f409e62e900a0d"
            }
          },
          "metadata": {}
        }
      ],
      "source": [
        "# @title Submit your feedback\n",
        "content_review(f\"{feedback_prefix}_What_models_Video\")"
      ]
    },
    {
      "cell_type": "markdown",
      "metadata": {
        "execution": {},
        "id": "p6ISxis01AEz"
      },
      "source": [
        "---\n",
        "\n",
        "# Section 1: Exploring the Steinmetz dataset\n",
        "\n",
        "In this tutorial we will explore the structure of a neuroscience dataset.\n",
        "\n",
        "We consider a subset of data from a study of [Steinmetz _et al._ (2019)](https://www.nature.com/articles/s41586-019-1787-x). In this study, Neuropixels probes were implanted in the brains of mice. Electrical potentials were measured by hundreds of electrodes along the length of each probe. Each electrode's measurements captured local variations in the electric field due to nearby spiking neurons. A spike sorting algorithm was used to infer spike times and cluster spikes according to common origin: a single cluster of sorted spikes is causally attributed to a single neuron.\n",
        "\n",
        "In particular, a single recording session of spike times and neuron assignments was loaded and assigned to `spike_times` in the preceding setup.\n",
        "\n",
        "Typically a dataset comes with some information about its structure. However, this information may be incomplete. You might also apply some transformations or \"pre-processing\" to create a working representation of the data of interest, which might go partly undocumented depending on the circumstances. In any case it is important to be able to use the available tools to investigate unfamiliar aspects of a data structure.\n",
        "\n",
        "Let's see what our data looks like..."
      ]
    },
    {
      "cell_type": "markdown",
      "metadata": {
        "execution": {},
        "id": "2NzdejUb1AE0"
      },
      "source": [
        "## Section 1.1: Warming up with `spike_times`"
      ]
    },
    {
      "cell_type": "markdown",
      "metadata": {
        "execution": {},
        "id": "0F-6i_o91AE0"
      },
      "source": [
        "What is the Python type of our variable?"
      ]
    },
    {
      "cell_type": "code",
      "execution_count": null,
      "metadata": {
        "execution": {},
        "pycharm": {
          "name": "#%%\n"
        },
        "id": "1Fl9n9PT1AE0",
        "colab": {
          "base_uri": "https://localhost:8080/"
        },
        "outputId": "399e2988-5fe7-4993-e051-7976e24d14c6"
      },
      "outputs": [
        {
          "output_type": "execute_result",
          "data": {
            "text/plain": [
              "numpy.ndarray"
            ]
          },
          "metadata": {},
          "execution_count": 9
        }
      ],
      "source": [
        "type(spike_times)"
      ]
    },
    {
      "cell_type": "markdown",
      "metadata": {
        "execution": {},
        "id": "x5uvsh5G1AE0"
      },
      "source": [
        "You should see `numpy.ndarray`, which means that it's a normal NumPy array.\n",
        "\n",
        "If you see an error message, it probably means that you did not execute the set-up cells at the top of the notebook. So go ahead and make sure to do that.\n",
        "\n",
        "Once everything is running properly, we can ask the next question about the dataset: what's its shape?"
      ]
    },
    {
      "cell_type": "code",
      "execution_count": null,
      "metadata": {
        "execution": {},
        "pycharm": {
          "name": "#%%\n"
        },
        "id": "tc6Uuu9f1AE1",
        "colab": {
          "base_uri": "https://localhost:8080/"
        },
        "outputId": "a56b3b8f-53ab-42ac-ed87-22e4dfcf6fa9"
      },
      "outputs": [
        {
          "output_type": "execute_result",
          "data": {
            "text/plain": [
              "(734,)"
            ]
          },
          "metadata": {},
          "execution_count": 10
        }
      ],
      "source": [
        "spike_times.shape"
      ]
    },
    {
      "cell_type": "markdown",
      "metadata": {
        "execution": {},
        "id": "3YvVIcch1AE1"
      },
      "source": [
        "There are 734 entries in one dimension, and no other dimensions. What is the Python type of the first entry, and what is *its* shape?"
      ]
    },
    {
      "cell_type": "code",
      "execution_count": null,
      "metadata": {
        "execution": {},
        "pycharm": {
          "name": "#%%\n"
        },
        "id": "Sc1SYQIt1AE1",
        "colab": {
          "base_uri": "https://localhost:8080/"
        },
        "outputId": "b3e564d5-f5bc-484f-af50-a06900d8a1ed"
      },
      "outputs": [
        {
          "output_type": "stream",
          "name": "stdout",
          "text": [
            "<class 'numpy.ndarray'>\n",
            "(826,)\n"
          ]
        }
      ],
      "source": [
        "idx = 0\n",
        "print(\n",
        "  type(spike_times[idx]),\n",
        "  spike_times[idx].shape,\n",
        "  sep=\"\\n\",\n",
        ")"
      ]
    },
    {
      "cell_type": "markdown",
      "metadata": {
        "execution": {},
        "id": "YBrdtIfb1AE1"
      },
      "source": [
        "It's also a NumPy array with a 1D shape! Why didn't this show up as a second dimension in the shape of `spike_times`? That is, why not `spike_times.shape == (734, 826)`?\n",
        "\n",
        "To investigate, let's check another entry."
      ]
    },
    {
      "cell_type": "code",
      "execution_count": null,
      "metadata": {
        "execution": {},
        "pycharm": {
          "name": "#%%\n"
        },
        "id": "TWOzfZOy1AE1",
        "colab": {
          "base_uri": "https://localhost:8080/"
        },
        "outputId": "5d7ee6a7-fc47-4f07-b7b4-295fa222c6ee"
      },
      "outputs": [
        {
          "output_type": "stream",
          "name": "stdout",
          "text": [
            "<class 'numpy.ndarray'>\n",
            "(9723,)\n"
          ]
        }
      ],
      "source": [
        "idx = 321\n",
        "print(\n",
        "  type(spike_times[idx]),\n",
        "  spike_times[idx].shape,\n",
        "  sep=\"\\n\",\n",
        ")"
      ]
    },
    {
      "cell_type": "markdown",
      "metadata": {
        "execution": {},
        "id": "l8qsi60g1AE2"
      },
      "source": [
        "It's also a 1D NumPy array, but it has a different shape. Checking the NumPy types of the values in these arrays, and their first few elements, we see they are composed of floating point numbers (not another level of `np.ndarray`):"
      ]
    },
    {
      "cell_type": "code",
      "execution_count": null,
      "metadata": {
        "execution": {},
        "pycharm": {
          "name": "#%%\n"
        },
        "id": "tV6f3Ixu1AE2",
        "colab": {
          "base_uri": "https://localhost:8080/"
        },
        "outputId": "f5187824-3a4c-4e26-838f-0eb8826c8b13"
      },
      "outputs": [
        {
          "output_type": "stream",
          "name": "stdout",
          "text": [
            "Neuron 0:\n",
            "float32\n",
            "[ 0.8149   14.822467 24.9646   25.1436   38.8709  ]\n",
            "\n",
            "\n",
            "Neuron 321:\n",
            "float32\n",
            "[1.0698667 1.1536334 1.2403667 1.7072    1.799    ]\n",
            "\n",
            "\n"
          ]
        }
      ],
      "source": [
        "i_neurons = [0, 321]\n",
        "i_print = slice(0, 5)\n",
        "\n",
        "for i in i_neurons:\n",
        "  print(\n",
        "    \"Neuron {}:\".format(i),\n",
        "    spike_times[i].dtype,\n",
        "    spike_times[i][i_print],\n",
        "    \"\\n\",\n",
        "    sep=\"\\n\"\n",
        "  )"
      ]
    },
    {
      "cell_type": "markdown",
      "metadata": {
        "execution": {},
        "id": "D3WnVrE_1AE2"
      },
      "source": [
        "Note that this time we've checked the NumPy `dtype` rather than the Python variable type. These two arrays contain floating point numbers (\"floats\") with 32 bits of precision.\n",
        "\n",
        "The basic picture is coming together:\n",
        "- `spike_times` is 1D, its entries are NumPy arrays, and its length is the number of neurons (734): by indexing it, we select a subset of neurons.\n",
        "- An array in `spike_times` is also 1D and corresponds to a single neuron; its entries are floating point numbers, and its length is the number of spikes attributed to that neuron. By indexing it, we select a subset of spike times for that neuron.\n",
        "\n",
        "Visually, you can think of the data structure as looking something like this:\n",
        "\n",
        "```\n",
        "| . . . . . |\n",
        "| . . . . . . . . |\n",
        "| . . . |\n",
        "| . . . . . . . |\n",
        "```\n",
        "\n",
        "Before moving on, we'll calculate and store the number of neurons in the dataset and the number of spikes per neuron:"
      ]
    },
    {
      "cell_type": "code",
      "execution_count": null,
      "metadata": {
        "execution": {},
        "pycharm": {
          "name": "#%%\n"
        },
        "id": "Y_sSjzzt1AE2",
        "colab": {
          "base_uri": "https://localhost:8080/"
        },
        "outputId": "cf0c6ebc-3140-43fa-a008-806aa8f63e86"
      },
      "outputs": [
        {
          "output_type": "stream",
          "name": "stdout",
          "text": [
            "Number of neurons: 734\n",
            "Number of spikes for first five neurons: [826, 2818, 3953, 646, 1115]\n"
          ]
        }
      ],
      "source": [
        "n_neurons = len(spike_times)\n",
        "total_spikes_per_neuron = [len(spike_times_i) for spike_times_i in spike_times]\n",
        "\n",
        "print(f\"Number of neurons: {n_neurons}\")\n",
        "print(f\"Number of spikes for first five neurons: {total_spikes_per_neuron[:5]}\")"
      ]
    },
    {
      "cell_type": "code",
      "execution_count": null,
      "metadata": {
        "cellView": "form",
        "execution": {},
        "id": "AXTfA-801AE2",
        "colab": {
          "base_uri": "https://localhost:8080/",
          "height": 581,
          "referenced_widgets": [
            "5ab1e07cdb4444238c0357f754aa4049",
            "88f5b2d4c20244cdbc0c0defad84f259",
            "d1a106bc765a4ecaa1e768b27ebfa072",
            "87c399d5c06a43d5a9a269ccb46e1186",
            "c592ceef7b2d437da141af437bee3186",
            "3ba56a83ff194ae4833e2e655d50db43"
          ]
        },
        "outputId": "afee5302-6be6-4154-f9d5-7b0f424e4bab"
      },
      "outputs": [
        {
          "output_type": "display_data",
          "data": {
            "text/plain": [
              "Tab(children=(Output(), Output()), _titles={'0': 'Youtube', '1': 'Bilibili'})"
            ],
            "application/vnd.jupyter.widget-view+json": {
              "version_major": 2,
              "version_minor": 0,
              "model_id": "5ab1e07cdb4444238c0357f754aa4049"
            }
          },
          "metadata": {}
        }
      ],
      "source": [
        "# @title Video 2: Exploring the dataset\n",
        "from ipywidgets import widgets\n",
        "from IPython.display import YouTubeVideo\n",
        "from IPython.display import IFrame\n",
        "from IPython.display import display\n",
        "\n",
        "\n",
        "class PlayVideo(IFrame):\n",
        "  def __init__(self, id, source, page=1, width=400, height=300, **kwargs):\n",
        "    self.id = id\n",
        "    if source == 'Bilibili':\n",
        "      src = f'https://player.bilibili.com/player.html?bvid={id}&page={page}'\n",
        "    elif source == 'Osf':\n",
        "      src = f'https://mfr.ca-1.osf.io/render?url=https://osf.io/download/{id}/?direct%26mode=render'\n",
        "    super(PlayVideo, self).__init__(src, width, height, **kwargs)\n",
        "\n",
        "\n",
        "def display_videos(video_ids, W=400, H=300, fs=1):\n",
        "  tab_contents = []\n",
        "  for i, video_id in enumerate(video_ids):\n",
        "    out = widgets.Output()\n",
        "    with out:\n",
        "      if video_ids[i][0] == 'Youtube':\n",
        "        video = YouTubeVideo(id=video_ids[i][1], width=W,\n",
        "                             height=H, fs=fs, rel=0)\n",
        "        print(f'Video available at https://youtube.com/watch?v={video.id}')\n",
        "      else:\n",
        "        video = PlayVideo(id=video_ids[i][1], source=video_ids[i][0], width=W,\n",
        "                          height=H, fs=fs, autoplay=False)\n",
        "        if video_ids[i][0] == 'Bilibili':\n",
        "          print(f'Video available at https://www.bilibili.com/video/{video.id}')\n",
        "        elif video_ids[i][0] == 'Osf':\n",
        "          print(f'Video available at https://osf.io/{video.id}')\n",
        "      display(video)\n",
        "    tab_contents.append(out)\n",
        "  return tab_contents\n",
        "\n",
        "\n",
        "video_ids = [('Youtube', 'oHwYWUI_o1U'), ('Bilibili', 'BV1Hp4y1S7Au')]\n",
        "tab_contents = display_videos(video_ids, W=854, H=480)\n",
        "tabs = widgets.Tab()\n",
        "tabs.children = tab_contents\n",
        "for i in range(len(tab_contents)):\n",
        "  tabs.set_title(i, video_ids[i][0])\n",
        "display(tabs)"
      ]
    },
    {
      "cell_type": "code",
      "execution_count": null,
      "metadata": {
        "cellView": "form",
        "execution": {},
        "id": "S1Dcez3G1AE2",
        "colab": {
          "base_uri": "https://localhost:8080/",
          "height": 62,
          "referenced_widgets": [
            "72c9e31f04014c31a8dae627a2ed4c6f",
            "a85e58fd8a8642c5a6eef2ead4d98313",
            "15f0971f3dea4e349113a1b09f3b46f4",
            "9a6c1dc0dfa44896b943405468d9e3fc",
            "3bff01edc27848618b84001ab8a8d8f4",
            "609f620e854c45ca8151aa8c98292c3a",
            "43c6d6ab65d948e197c5fd131ce01776",
            "9d90352bd7264445bcf98250158f59c8",
            "73bfca7722cd43b8884cf3207078c498",
            "fbdb2850a28345a3b5062eedd694249c",
            "2da7292167e3424f99ee4d2ee32a9eb7",
            "8c07057d4b7649e4a81c9afe04f921cc",
            "ed2b5b6cdf14453d9aa0194ae69e8200",
            "2a5a84e66924474780870f3becc56152",
            "90a2e3fd802d46bd89f71c7c4c057dfc",
            "f590a6484bd34731965dd58953a1089c",
            "be439089d839438da3920b35e7ecb2c3",
            "b5e6ca4857004739909d3ae82856595b",
            "7cbda1e32f4a423b82074e65ed7a7290",
            "2359b3184c7942eabeb4b4c4ef5d90f9",
            "bab2533501aa409ea5222ae4d34aebf0",
            "bf8f929829b8403b8e0419aef1ad7567",
            "ae08a62011e144e6bc418bc61599b50f",
            "df3f5a7028eb4c03aa0f1737de145e32",
            "a6e4f9b5e59a466f83a41ac39b13a851",
            "2648b372affe4066ab7b576ff86e4e4a"
          ]
        },
        "outputId": "19e5c806-a76e-4752-c31f-3d950e9be165"
      },
      "outputs": [
        {
          "output_type": "display_data",
          "data": {
            "text/plain": [
              "VBox(children=(VBox(children=(HBox(children=(Button(description='🙂', layout=Layout(height='auto', padding='0.5…"
            ],
            "application/vnd.jupyter.widget-view+json": {
              "version_major": 2,
              "version_minor": 0,
              "model_id": "72c9e31f04014c31a8dae627a2ed4c6f"
            }
          },
          "metadata": {}
        }
      ],
      "source": [
        "# @title Submit your feedback\n",
        "content_review(f\"{feedback_prefix}_Exploring_the_dataset_Video\")"
      ]
    },
    {
      "cell_type": "markdown",
      "metadata": {
        "execution": {},
        "id": "bV1F5yv91AE3"
      },
      "source": [
        "## Section 1.2: Getting warmer: counting and plotting total spike counts\n",
        "\n",
        "As we've seen, the number of spikes over the entire recording is variable between neurons. More generally, some neurons tend to spike more than others in a given period. Let's explore what the distribution of spiking looks like across all the neurons in the dataset."
      ]
    },
    {
      "cell_type": "markdown",
      "metadata": {
        "execution": {},
        "id": "48ETh4fQ1AE3"
      },
      "source": [
        "Are most neurons \"loud\" or \"quiet\", compared to the average? To see, we'll define bins of constant width in terms of total spikes and count the neurons that fall in each bin. This is known as a \"histogram\".\n",
        "\n",
        "You can plot a histogram with the matplotlib function `plt.hist`. If you just need to compute it, you can use the numpy function `np.histogram` instead."
      ]
    },
    {
      "cell_type": "code",
      "execution_count": null,
      "metadata": {
        "execution": {},
        "pycharm": {
          "name": "#%%\n"
        },
        "id": "3gmfTR3z1AE3",
        "colab": {
          "base_uri": "https://localhost:8080/",
          "height": 592
        },
        "outputId": "105d4e1f-76a8-483d-b58d-8907504cbbe1"
      },
      "outputs": [
        {
          "output_type": "display_data",
          "data": {
            "text/plain": [
              "<Figure size 800x600 with 1 Axes>"
            ],
            "image/png": "[encoded data removed]"
          },
          "metadata": {
            "image/png": {
              "width": 775,
              "height": 575
            }
          }
        }
      ],
      "source": [
        "plt.hist(total_spikes_per_neuron, bins=50, histtype=\"stepfilled\")\n",
        "plt.xlabel(\"Total spikes per neuron\")\n",
        "plt.ylabel(\"Number of neurons\");"
      ]
    },
    {
      "cell_type": "markdown",
      "metadata": {
        "execution": {},
        "id": "tZQjp2Fm1AE3"
      },
      "source": [
        "Let's see what percentage of neurons have a below-average spike count:"
      ]
    },
    {
      "cell_type": "code",
      "execution_count": null,
      "metadata": {
        "execution": {},
        "pycharm": {
          "name": "#%%\n"
        },
        "id": "SOtRD3w41AE3",
        "colab": {
          "base_uri": "https://localhost:8080/"
        },
        "outputId": "eccab4a0-1428-4ae9-8210-965b4d23e830"
      },
      "outputs": [
        {
          "output_type": "stream",
          "name": "stdout",
          "text": [
            "68.0% of neurons are below the mean\n"
          ]
        }
      ],
      "source": [
        "mean_spike_count = np.mean(total_spikes_per_neuron) # calculates average\n",
        "frac_below_mean = (total_spikes_per_neuron < mean_spike_count).mean() # remember, total_spikes_per_neuron is a list of spikes for each neuron (counter)\n",
        "print(f\"{frac_below_mean:2.1%} of neurons are below the mean\") #todo"
      ]
    },
    {
      "cell_type": "markdown",
      "metadata": {
        "execution": {},
        "id": "arxDyxfn1AE3"
      },
      "source": [
        "We can also see this by adding the average spike count to the histogram plot:"
      ]
    },
    {
      "cell_type": "code",
      "execution_count": null,
      "metadata": {
        "execution": {},
        "pycharm": {
          "name": "#%%\n"
        },
        "id": "VjrCOMe21AE3",
        "colab": {
          "base_uri": "https://localhost:8080/",
          "height": 592
        },
        "outputId": "5bbde3ed-89ba-4216-d4a1-62363034ccb9"
      },
      "outputs": [
        {
          "output_type": "display_data",
          "data": {
            "text/plain": [
              "<Figure size 800x600 with 1 Axes>"
            ],
            "image/png": "[encoded data removed]"
          },
          "metadata": {
            "image/png": {
              "width": 775,
              "height": 575
            }
          }
        }
      ],
      "source": [
        "plt.hist(total_spikes_per_neuron, bins=50, histtype=\"stepfilled\")\n",
        "plt.xlabel(\"Total spikes per neuron\")\n",
        "plt.ylabel(\"Number of neurons\")\n",
        "plt.axvline(mean_spike_count, color=\"orange\", label=\"Mean neuron\")\n",
        "plt.legend();"
      ]
    },
    {
      "cell_type": "markdown",
      "metadata": {
        "execution": {},
        "id": "b25COmSl1AE4"
      },
      "source": [
        "This shows that the majority of neurons are relatively \"quiet\" compared to the mean, while a small number of neurons are exceptionally \"loud\": they must have spiked more often to reach a large count.\n",
        "\n",
        "### Coding Exercise 1.2: Comparing mean and median neurons\n",
        "\n",
        "If the mean neuron is more active than 68% of the population, what does that imply about the relationship between the mean neuron and the median neuron?\n",
        "\n",
        "*Exercise objective:* Reproduce the plot above, but add the median neuron.\n"
      ]
    },
    {
      "cell_type": "code",
      "execution_count": null,
      "metadata": {
        "execution": {},
        "pycharm": {
          "name": "#%%\n"
        },
        "id": "2LvebRzP1AE4",
        "colab": {
          "base_uri": "https://localhost:8080/",
          "height": 609
        },
        "outputId": "fa82fa60-a885-44e4-ced8-7d51cc9198d8"
      },
      "outputs": [
        {
          "output_type": "execute_result",
          "data": {
            "text/plain": [
              "<matplotlib.legend.Legend at 0x7b630615e250>"
            ]
          },
          "metadata": {},
          "execution_count": 21
        },
        {
          "output_type": "display_data",
          "data": {
            "text/plain": [
              "<Figure size 800x600 with 1 Axes>"
            ],
            "image/png": "[encoded data removed]"
          },
          "metadata": {
            "image/png": {
              "width": 775,
              "height": 575
            }
          }
        }
      ],
      "source": [
        "#################################################################################\n",
        "## TODO for students:\n",
        "# Fill out function and remove\n",
        "# raise NotImplementedError(\"Student exercise: complete histogram plotting with median\")\n",
        "#################################################################################\n",
        "\n",
        "# Compute median spike count\n",
        "median_spike_count = np.median(total_spikes_per_neuron)  # Hint: Try the function np.median\n",
        "# median = common\n",
        "\n",
        "# Visualize median, mean, and histogram\n",
        "plt.hist(total_spikes_per_neuron, bins=50, histtype=\"stepfilled\")\n",
        "plt.axvline(median_spike_count, color=\"limegreen\", label=\"Median neuron\")\n",
        "plt.axvline(mean_spike_count, color=\"orange\", label=\"Mean neuron\")\n",
        "plt.xlabel(\"Total spikes per neuron\")\n",
        "plt.ylabel(\"Number of neurons\")\n",
        "plt.legend()"
      ]
    },
    {
      "cell_type": "markdown",
      "metadata": {
        "execution": {},
        "pycharm": {
          "name": "#%%\n"
        },
        "id": "O2JLe5_q1AE9"
      },
      "source": [
        "[*Click for solution*](https://github.com/NeuromatchAcademy/course-content/tree/main/tutorials/W1D1_ModelTypes/solutions/W1D1_Tutorial1_Solution_9af91fe0.py)\n",
        "\n",
        "*Example output:*\n",
        "\n",
        "<img alt='Solution hint' align='left' width=775.0 height=575.0 src=https://raw.githubusercontent.com/NeuromatchAcademy/course-content/main/tutorials/W1D1_ModelTypes/static/W1D1_Tutorial1_Solution_9af91fe0_0.png>\n",
        "\n"
      ]
    },
    {
      "cell_type": "markdown",
      "metadata": {
        "execution": {},
        "id": "pZT442DR1AE-"
      },
      "source": [
        "\n",
        "\n",
        "```\n",
        "# This is formatted as code\n",
        "```\n",
        "\n",
        "\n",
        "*Bonus:* The median is the 50th percentile. What about other percentiles? Can you show the interquartile range on the histogram? #todo"
      ]
    },
    {
      "cell_type": "code",
      "execution_count": null,
      "metadata": {
        "cellView": "form",
        "execution": {},
        "id": "d66nelRx1AE-",
        "colab": {
          "base_uri": "https://localhost:8080/",
          "height": 97,
          "referenced_widgets": [
            "d7a6d5ad29db443b838abbd5ddf838d3",
            "e607f1c19e304e878fb1ca634bf59394",
            "076131e812f54282b5e69109aa59ebcd",
            "dc46535c138e48f7955fca4b653450d3",
            "29a3eb3fde20489abac97a5feb76742a",
            "47ac642bfe954b16a007f82c198c47ea",
            "5918fe6ce7884db2a99b196018ebb70d",
            "634b95f1738b4868b367c044f9572d21",
            "49a20f9727fc461ebf4d93903d798fb7",
            "d771b59061e943f3b9d9a7c23e419480",
            "aef36f1f43e540d88859a566a2b88d58",
            "f61d8a8931d34962adaba90eb7a2f66c",
            "eb4bfac24caf406f8f283ac05b9eeaa1",
            "c8888bdcb2b2418da531bc9b74850204",
            "2ed5ad0e08d54200893afe65ac8b1af9",
            "a30877ddcb8e49ef9849d046c3d60d59",
            "cef60f6c683d4a6a9b54e3164d520576",
            "0f0514b10a9e4512b8401850ef0bfb8e",
            "79fe7620eee64c04bcf6cc1ba9e01ea0",
            "242dbcd47b134f2fa73956337d48d036",
            "72dc25dfaee243d2a519cfb322166dcb",
            "983c3baabdcf4329b0a2297e65d2fdbd",
            "aaeb2f513bfa4a43b0975da2328b0baa",
            "c470fe8d1ef34e81a26506c3f1f9699c",
            "dc9c73b63cdc4f58bd2a351df3f8a2de",
            "07375837a20d4c01afece1af07b0f26f"
          ]
        },
        "outputId": "6b3123b0-252f-4315-d0dd-c6ef98890040"
      },
      "outputs": [
        {
          "output_type": "display_data",
          "data": {
            "text/plain": [
              "VBox(children=(VBox(children=(HBox(children=(Button(description='🙂', layout=Layout(height='auto', padding='0.5…"
            ],
            "application/vnd.jupyter.widget-view+json": {
              "version_major": 2,
              "version_minor": 0,
              "model_id": "d7a6d5ad29db443b838abbd5ddf838d3"
            }
          },
          "metadata": {}
        }
      ],
      "source": [
        "# @title Submit your feedback\n",
        "content_review(f\"{feedback_prefix}_Comparing_mean_and_median_neurons_Exercise\")"
      ]
    },
    {
      "cell_type": "markdown",
      "metadata": {
        "execution": {},
        "id": "8UOBFDt41AE_"
      },
      "source": [
        "---\n",
        "\n",
        "# Section 2: Visualizing neuronal spiking activity\n",
        "\n",
        "*Estimated timing to here from start of tutorial: 15 min*"
      ]
    },
    {
      "cell_type": "markdown",
      "metadata": {
        "execution": {},
        "id": "JD1kjrCb1AE_"
      },
      "source": [
        "## Section 2.1: Getting a subset of the data\n",
        "\n",
        "Now we'll visualize trains of spikes. Because the recordings are long, we will first define a short time interval and restrict the visualization to only the spikes in this interval. We defined a helper function, `restrict_spike_times`, to do this for you. If you call `help()` on the function, it will tell you a little bit about itself:"
      ]
    },
    {
      "cell_type": "code",
      "execution_count": null,
      "metadata": {
        "execution": {},
        "id": "QKkNQduB1AE_"
      },
      "outputs": [],
      "source": [
        "# @markdown Execute this cell for helper function `restrict_spike_times`\n",
        "def restrict_spike_times(spike_times, interval):\n",
        "  \"\"\"Given a spike_time dataset, restrict to spikes within given interval.\n",
        "\n",
        "  Args:\n",
        "    spike_times (sequence of np.ndarray): List or array of arrays,\n",
        "      each inner array has spike times for a single neuron.\n",
        "    interval (tuple): Min, max time values; keep min <= t < max.\n",
        "\n",
        "  Returns:\n",
        "    np.ndarray: like `spike_times`, but only within `interval`\n",
        "  \"\"\"\n",
        "  interval_spike_times = []\n",
        "  for spikes in spike_times:\n",
        "    interval_mask = (spikes >= interval[0]) & (spikes < interval[1])\n",
        "    interval_spike_times.append(spikes[interval_mask])\n",
        "  return np.array(interval_spike_times, object)"
      ]
    },
    {
      "cell_type": "code",
      "execution_count": null,
      "metadata": {
        "execution": {},
        "pycharm": {
          "name": "#%%\n"
        },
        "id": "kVT0VQO01AE_",
        "colab": {
          "base_uri": "https://localhost:8080/"
        },
        "outputId": "4052d525-2166-4b96-cdc9-e50ac9d28dac"
      },
      "outputs": [
        {
          "output_type": "stream",
          "name": "stdout",
          "text": [
            "Help on function restrict_spike_times in module __main__:\n",
            "\n",
            "restrict_spike_times(spike_times, interval)\n",
            "    Given a spike_time dataset, restrict to spikes within given interval.\n",
            "    \n",
            "    Args:\n",
            "      spike_times (sequence of np.ndarray): List or array of arrays,\n",
            "        each inner array has spike times for a single neuron.\n",
            "      interval (tuple): Min, max time values; keep min <= t < max.\n",
            "    \n",
            "    Returns:\n",
            "      np.ndarray: like `spike_times`, but only within `interval`\n",
            "\n"
          ]
        }
      ],
      "source": [
        "help(restrict_spike_times)"
      ]
    },
    {
      "cell_type": "code",
      "execution_count": null,
      "metadata": {
        "execution": {},
        "pycharm": {
          "name": "#%%\n"
        },
        "id": "iydsp4rh1AFA"
      },
      "outputs": [],
      "source": [
        "t_interval = (5, 15)  # units are seconds after start of recording\n",
        "interval_spike_times = restrict_spike_times(spike_times, t_interval)"
      ]
    },
    {
      "cell_type": "markdown",
      "metadata": {
        "execution": {},
        "id": "QZ_JLWjX1AFA"
      },
      "source": [
        "Is this a representative interval? What fraction of the total spikes fall in this interval?"
      ]
    },
    {
      "cell_type": "code",
      "execution_count": null,
      "metadata": {
        "execution": {},
        "pycharm": {
          "name": "#%%\n"
        },
        "id": "nv1_BjK01AFA",
        "colab": {
          "base_uri": "https://localhost:8080/"
        },
        "outputId": "83bbd018-389a-4a29-ce45-1ef4d29fb83c"
      },
      "outputs": [
        {
          "output_type": "stream",
          "name": "stdout",
          "text": [
            "0.33% of the total spikes are in the interval\n"
          ]
        }
      ],
      "source": [
        "original_counts = sum([len(spikes) for spikes in spike_times])\n",
        "interval_counts = sum([len(spikes) for spikes in interval_spike_times])\n",
        "frac_interval_spikes = interval_counts / original_counts\n",
        "print(f\"{frac_interval_spikes:.2%} of the total spikes are in the interval\")"
      ]
    },
    {
      "cell_type": "markdown",
      "metadata": {
        "execution": {},
        "id": "1IK92N7h1AFA"
      },
      "source": [
        "How does this compare to the ratio between the interval duration and the experiment duration? (What fraction of the total time is in this interval?)\n",
        "\n",
        "We can approximate the experiment duration by taking the minimum and maximum spike time in the whole dataset. To do that, we \"concatenate\" all of the neurons into one array and then use `np.ptp` (\"peak-to-peak\") to get the difference between the maximum and minimum value:"
      ]
    },
    {
      "cell_type": "code",
      "execution_count": null,
      "metadata": {
        "execution": {},
        "pycharm": {
          "name": "#%%\n"
        },
        "id": "1HkoIXqc1AFA",
        "colab": {
          "base_uri": "https://localhost:8080/"
        },
        "outputId": "b5dc79b2-3ba2-4e53-e404-ab63debc8310"
      },
      "outputs": [
        {
          "output_type": "stream",
          "name": "stdout",
          "text": [
            "0.37% of the total time is in the interval\n",
            "Help on _ArrayFunctionDispatcher in module numpy:\n",
            "\n",
            "ptp(a, axis=None, out=None, keepdims=<no value>)\n",
            "    Range of values (maximum - minimum) along an axis.\n",
            "    \n",
            "    The name of the function comes from the acronym for 'peak to peak'.\n",
            "    \n",
            "    .. warning::\n",
            "        `ptp` preserves the data type of the array. This means the\n",
            "        return value for an input of signed integers with n bits\n",
            "        (e.g. `numpy.int8`, `numpy.int16`, etc) is also a signed integer\n",
            "        with n bits.  In that case, peak-to-peak values greater than\n",
            "        ``2**(n-1)-1`` will be returned as negative values. An example\n",
            "        with a work-around is shown below.\n",
            "    \n",
            "    Parameters\n",
            "    ----------\n",
            "    a : array_like\n",
            "        Input values.\n",
            "    axis : None or int or tuple of ints, optional\n",
            "        Axis along which to find the peaks.  By default, flatten the\n",
            "        array.  `axis` may be negative, in\n",
            "        which case it counts from the last to the first axis.\n",
            "    \n",
            "        .. versionadded:: 1.15.0\n",
            "    \n",
            "        If this is a tuple of ints, a reduction is performed on multiple\n",
            "        axes, instead of a single axis or all the axes as before.\n",
            "    out : array_like\n",
            "        Alternative output array in which to place the result. It must\n",
            "        have the same shape and buffer length as the expected output,\n",
            "        but the type of the output values will be cast if necessary.\n",
            "    \n",
            "    keepdims : bool, optional\n",
            "        If this is set to True, the axes which are reduced are left\n",
            "        in the result as dimensions with size one. With this option,\n",
            "        the result will broadcast correctly against the input array.\n",
            "    \n",
            "        If the default value is passed, then `keepdims` will not be\n",
            "        passed through to the `ptp` method of sub-classes of\n",
            "        `ndarray`, however any non-default value will be.  If the\n",
            "        sub-class' method does not implement `keepdims` any\n",
            "        exceptions will be raised.\n",
            "    \n",
            "    Returns\n",
            "    -------\n",
            "    ptp : ndarray or scalar\n",
            "        The range of a given array - `scalar` if array is one-dimensional\n",
            "        or a new array holding the result along the given axis\n",
            "    \n",
            "    Examples\n",
            "    --------\n",
            "    >>> x = np.array([[4, 9, 2, 10],\n",
            "    ...               [6, 9, 7, 12]])\n",
            "    \n",
            "    >>> np.ptp(x, axis=1)\n",
            "    array([8, 6])\n",
            "    \n",
            "    >>> np.ptp(x, axis=0)\n",
            "    array([2, 0, 5, 2])\n",
            "    \n",
            "    >>> np.ptp(x)\n",
            "    10\n",
            "    \n",
            "    This example shows that a negative value can be returned when\n",
            "    the input is an array of signed integers.\n",
            "    \n",
            "    >>> y = np.array([[1, 127],\n",
            "    ...               [0, 127],\n",
            "    ...               [-1, 127],\n",
            "    ...               [-2, 127]], dtype=np.int8)\n",
            "    >>> np.ptp(y, axis=1)\n",
            "    array([ 126,  127, -128, -127], dtype=int8)\n",
            "    \n",
            "    A work-around is to use the `view()` method to view the result as\n",
            "    unsigned integers with the same bit width:\n",
            "    \n",
            "    >>> np.ptp(y, axis=1).view(np.uint8)\n",
            "    array([126, 127, 128, 129], dtype=uint8)\n",
            "\n"
          ]
        }
      ],
      "source": [
        "spike_times_flat = np.concatenate(spike_times)\n",
        "experiment_duration = np.ptp(spike_times_flat)\n",
        "interval_duration = t_interval[1] - t_interval[0] #remember\n",
        "\n",
        "frac_interval_time = interval_duration / experiment_duration\n",
        "print(f\"{frac_interval_time:.2%} of the total time is in the interval\")\n",
        "\n",
        "# help(np.ptp)"
      ]
    },
    {
      "cell_type": "markdown",
      "metadata": {
        "execution": {},
        "id": "GkXmQQNS1AFB"
      },
      "source": [
        "These two values—the fraction of total spikes and the fraction of total time—are similar. This suggests the average spike rate of the neuronal population is not very different in this interval compared to the entire recording. #todo\n",
        "\n",
        "## Section 2.2: Plotting spike trains and rasters\n",
        "\n",
        "Now that we have a representative subset, we're ready to plot the spikes, using the matplotlib `plt.eventplot` function. Let's look at a single neuron first:"
      ]
    },
    {
      "cell_type": "code",
      "execution_count": null,
      "metadata": {
        "execution": {},
        "pycharm": {
          "name": "#%%\n"
        },
        "id": "7Quu45Nb1AFB",
        "colab": {
          "base_uri": "https://localhost:8080/",
          "height": 592
        },
        "outputId": "aabf25bc-7bbb-4d14-b84c-50bfb1133bd3"
      },
      "outputs": [
        {
          "output_type": "display_data",
          "data": {
            "text/plain": [
              "<Figure size 800x600 with 1 Axes>"
            ],
            "image/png": "[encoded data removed]"
          },
          "metadata": {
            "image/png": {
              "width": 775,
              "height": 575
            }
          }
        }
      ],
      "source": [
        "neuron_idx = 1\n",
        "plt.eventplot(interval_spike_times[neuron_idx], color=\".2\")\n",
        "plt.xlabel(\"Time (s)\")\n",
        "plt.yticks([]); #what does this line do"
      ]
    },
    {
      "cell_type": "markdown",
      "metadata": {
        "execution": {},
        "id": "JBd1rRS81AFB"
      },
      "source": [
        "We can also plot multiple neurons. Here are three:"
      ]
    },
    {
      "cell_type": "code",
      "execution_count": null,
      "metadata": {
        "execution": {},
        "pycharm": {
          "name": "#%%\n"
        },
        "id": "qhviqVFu1AFC"
      },
      "outputs": [],
      "source": [
        "neuron_idx = [1, 11, 51]\n",
        "plt.eventplot(interval_spike_times[neuron_idx], color=\".2\")\n",
        "plt.xlabel(\"Time (s)\")\n",
        "plt.yticks([]);"
      ]
    },
    {
      "cell_type": "markdown",
      "metadata": {
        "execution": {},
        "id": "4Jc-glnm1AFC"
      },
      "source": [
        "This makes a \"raster\" plot, where the spikes from each neuron appear in a different row.\n",
        "\n",
        "Plotting a large number of neurons can give you a sense for the characteristics in the population. Let's show every 5th neuron that was recorded:"
      ]
    },
    {
      "cell_type": "code",
      "execution_count": null,
      "metadata": {
        "execution": {},
        "pycharm": {
          "name": "#%%\n"
        },
        "id": "wZMa1PHx1AFC"
      },
      "outputs": [],
      "source": [
        "neuron_idx = np.arange(0, len(spike_times), 5)\n",
        "plt.eventplot(interval_spike_times[neuron_idx], color=\".2\")\n",
        "plt.xlabel(\"Time (s)\")\n",
        "plt.yticks([]);"
      ]
    },
    {
      "cell_type": "markdown",
      "metadata": {
        "execution": {},
        "id": "kBNY84Lc1AFC"
      },
      "source": [
        "*Question*: How does the information in this plot relate to the histogram of total spike counts that you saw above?\n",
        "\n",
        "while the histogram shows the activity levels across the different neurons, or a broad overview of it's culmulative sums, this plot shows the actual activity of each neuron"
      ]
    },
    {
      "cell_type": "markdown",
      "metadata": {
        "execution": {},
        "id": "qqxygao21AFC"
      },
      "source": [
        "[*Click for solution*](https://github.com/NeuromatchAcademy/course-content/tree/main/tutorials/W1D1_ModelTypes/solutions/W1D1_Tutorial1_Solution_60e8b44b.py)\n",
        "\n"
      ]
    },
    {
      "cell_type": "code",
      "execution_count": null,
      "metadata": {
        "cellView": "form",
        "execution": {},
        "id": "-hX9ZHgX1AFD",
        "colab": {
          "base_uri": "https://localhost:8080/",
          "height": 581,
          "referenced_widgets": [
            "9b266abf035e44f68800dc035ed25c87",
            "eeac79a1ea8b49728dc3d3e08d5d9fc5",
            "bc1ce0744f584448aee68c3517fec322",
            "85d1fd8ccc8f40b982256933dc81175b",
            "b8a76c1ab3e04be19f882ad2b9551d41",
            "598e8d7b902c4bd5b807c5548a8efcde"
          ]
        },
        "outputId": "7e15099c-7731-4729-eef6-8e27f713f65c"
      },
      "outputs": [
        {
          "output_type": "display_data",
          "data": {
            "text/plain": [
              "Tab(children=(Output(), Output()), _titles={'0': 'Youtube', '1': 'Bilibili'})"
            ],
            "application/vnd.jupyter.widget-view+json": {
              "version_major": 2,
              "version_minor": 0,
              "model_id": "9b266abf035e44f68800dc035ed25c87"
            }
          },
          "metadata": {}
        }
      ],
      "source": [
        "# @title Video 3: Visualizing activity\n",
        "from ipywidgets import widgets\n",
        "from IPython.display import YouTubeVideo\n",
        "from IPython.display import IFrame\n",
        "from IPython.display import display\n",
        "\n",
        "\n",
        "class PlayVideo(IFrame):\n",
        "  def __init__(self, id, source, page=1, width=400, height=300, **kwargs):\n",
        "    self.id = id\n",
        "    if source == 'Bilibili':\n",
        "      src = f'https://player.bilibili.com/player.html?bvid={id}&page={page}'\n",
        "    elif source == 'Osf':\n",
        "      src = f'https://mfr.ca-1.osf.io/render?url=https://osf.io/download/{id}/?direct%26mode=render'\n",
        "    super(PlayVideo, self).__init__(src, width, height, **kwargs)\n",
        "\n",
        "\n",
        "def display_videos(video_ids, W=400, H=300, fs=1):\n",
        "  tab_contents = []\n",
        "  for i, video_id in enumerate(video_ids):\n",
        "    out = widgets.Output()\n",
        "    with out:\n",
        "      if video_ids[i][0] == 'Youtube':\n",
        "        video = YouTubeVideo(id=video_ids[i][1], width=W,\n",
        "                             height=H, fs=fs, rel=0)\n",
        "        print(f'Video available at https://youtube.com/watch?v={video.id}')\n",
        "      else:\n",
        "        video = PlayVideo(id=video_ids[i][1], source=video_ids[i][0], width=W,\n",
        "                          height=H, fs=fs, autoplay=False)\n",
        "        if video_ids[i][0] == 'Bilibili':\n",
        "          print(f'Video available at https://www.bilibili.com/video/{video.id}')\n",
        "        elif video_ids[i][0] == 'Osf':\n",
        "          print(f'Video available at https://osf.io/{video.id}')\n",
        "      display(video)\n",
        "    tab_contents.append(out)\n",
        "  return tab_contents\n",
        "\n",
        "\n",
        "video_ids = [('Youtube', 'QGA5FCW7kkA'), ('Bilibili', 'BV1dt4y1Q7C5')]\n",
        "tab_contents = display_videos(video_ids, W=854, H=480)\n",
        "tabs = widgets.Tab()\n",
        "tabs.children = tab_contents\n",
        "for i in range(len(tab_contents)):\n",
        "  tabs.set_title(i, video_ids[i][0])\n",
        "display(tabs)"
      ]
    },
    {
      "cell_type": "code",
      "execution_count": null,
      "metadata": {
        "cellView": "form",
        "execution": {},
        "id": "I_VCBo9Z1AFD",
        "colab": {
          "base_uri": "https://localhost:8080/",
          "height": 97,
          "referenced_widgets": [
            "32e68a2ccb7645f9aefeef1c439b2044",
            "bcead51717ed46849450b954514a314d",
            "05a34ebc1d444291ac22e9797c41b240",
            "8e5e91a8267c4ae2b7504355ba69be5a",
            "ee7deee1f26b4b1d9dd87f1cba43a4fa",
            "16e65f74fe1f42a78e924ff805f846ff",
            "e6f3f01935224f6b917fd4ee7f627354",
            "ae1cf61fecb948a78b826da55fd809df",
            "4544088d49c04f6ba7ca3a7e6e078b56",
            "137348a71d4f44b5a01465012b77891d",
            "b98acc91b1444a65a963cf8a1edbb27d",
            "89062ce8cb3a486fa315fd43109442c7",
            "ffa5a068a89f413a93107b362ec5e7fa",
            "76d5e7d236f64ee6a3e1bd364c2182e2",
            "816f475526294a5ea12e30a41df0b17d",
            "bd5af9e60aef4effb562bd4f9dbd9417",
            "d5c6bb9f574b49ccb39e444ca402b90a",
            "e83937a3c37c43c3865fc0e825e6bc77",
            "9cae1f3654ee46b3b3a68870c8184fee",
            "532317f3b1f64d3bb7a59e83b3e5d8a4",
            "ce5ec8c7475b48bd87271e0bc63b1108",
            "43088d6970f5491b854d2496ae119b14",
            "61fb702185ee45ef980ad232cccdb952",
            "29a001a3b3a64160a135c28360df4e02",
            "89cad681cb0d4b2189d2b7c15f54c57a",
            "a90a57a833964bac9c238fe7bd37b1c2"
          ]
        },
        "outputId": "0e65e7e3-a359-41e0-bd16-2ca35855316d"
      },
      "outputs": [
        {
          "output_type": "display_data",
          "data": {
            "text/plain": [
              "VBox(children=(VBox(children=(HBox(children=(Button(description='🙂', layout=Layout(height='auto', padding='0.5…"
            ],
            "application/vnd.jupyter.widget-view+json": {
              "version_major": 2,
              "version_minor": 0,
              "model_id": "32e68a2ccb7645f9aefeef1c439b2044"
            }
          },
          "metadata": {}
        }
      ],
      "source": [
        "# @title Submit your feedback\n",
        "content_review(f\"{feedback_prefix}_Visualizing_activity_Video\")"
      ]
    },
    {
      "cell_type": "markdown",
      "metadata": {
        "execution": {},
        "id": "jsHEBP521AFD"
      },
      "source": [
        "---\n",
        "\n",
        "# Section 3: Inter-spike intervals and their distributions\n",
        "\n",
        "*Estimated timing to here from start of tutorial: 25 min*"
      ]
    },
    {
      "cell_type": "markdown",
      "metadata": {
        "execution": {},
        "id": "Tk8paalo1AFD"
      },
      "source": [
        "Given the ordered arrays of spike times for each neuron in `spike_times`, which we've just visualized, what can we ask next?\n",
        "\n",
        "Scientific questions are informed by existing models. So, what knowledge do we already have that can inform questions about this data?\n",
        "\n",
        "We know that there are physical constraints on neuron spiking. Spiking costs energy, which the neuron's cellular machinery can only obtain at a finite rate. Therefore neurons should have a refractory period: they can only fire as quickly as their metabolic processes can support, and there is a minimum delay between consecutive spikes of the same neuron.\n",
        "\n",
        "More generally, we can ask \"how long does a neuron wait to spike again?\" or \"what is the longest a neuron will wait?\" Can we transform spike times into something else, to address questions like these more directly?\n",
        "\n",
        "We can consider the inter-spike times (or interspike intervals: ISIs). These are simply the time differences between consecutive spikes of the same neuron.\n",
        "\n",
        "### Exercise 3: Plot the distribution of ISIs for a single neuron\n",
        "\n",
        "*Exercise objective:* make a histogram, like we did for spike counts, to show the distribution of ISIs for one of the neurons in the dataset.\n",
        "\n",
        "Do this in three steps:\n",
        "\n",
        "1. Extract the spike times for one of the neurons\n",
        "2. Compute the ISIs (the amount of time between spikes, or equivalently, the difference between adjacent spike times)\n",
        "3. Plot a histogram with the array of individual ISIs"
      ]
    },
    {
      "cell_type": "code",
      "execution_count": 31,
      "metadata": {
        "execution": {},
        "pycharm": {
          "name": "#%%\n"
        },
        "id": "CCPA6kQU1AFD",
        "colab": {
          "base_uri": "https://localhost:8080/",
          "height": 592
        },
        "outputId": "e9fd9b3a-e491-4ea0-cfa1-2818668be6bb"
      },
      "outputs": [
        {
          "output_type": "display_data",
          "data": {
            "text/plain": [
              "<Figure size 800x600 with 1 Axes>"
            ],
            "image/png": "[encoded data removed]"
          },
          "metadata": {
            "image/png": {
              "width": 775,
              "height": 575
            }
          }
        }
      ],
      "source": [
        "def compute_single_neuron_isis(spike_times, neuron_idx):\n",
        "  \"\"\"Compute a vector of ISIs for a single neuron given spike times.\n",
        "\n",
        "  Args:\n",
        "    spike_times (list of 1D arrays): Spike time dataset, with the first\n",
        "      dimension corresponding to different neurons.\n",
        "    neuron_idx (int): Index of the unit to compute ISIs for.\n",
        "\n",
        "  Returns:\n",
        "    isis (1D array): Duration of time between each spike from one neuron.\n",
        "  \"\"\"\n",
        "  #############################################################################\n",
        "  # Students: Fill in missing code (...) and comment or remove the next line\n",
        "  # raise NotImplementedError(\"Exercise: compute single neuron ISIs\")\n",
        "  #############################################################################\n",
        "\n",
        "  # Extract the spike times for the specified neuron\n",
        "  single_neuron_spikes = spike_times[neuron_idx]\n",
        "\n",
        "  # Compute the ISIs for this set of spikes\n",
        "  # Hint: the function np.diff computes discrete differences along an array\n",
        "  isis = np.diff(single_neuron_spikes)\n",
        "\n",
        "  return isis\n",
        "\n",
        "# Compute ISIs\n",
        "single_neuron_isis = compute_single_neuron_isis(spike_times, neuron_idx=283)\n",
        "\n",
        "# Visualize ISIs\n",
        "plot_isis(single_neuron_isis)"
      ]
    },
    {
      "cell_type": "markdown",
      "metadata": {
        "execution": {},
        "pycharm": {
          "name": "#%%\n"
        },
        "id": "o3NGUzSO1AFE"
      },
      "source": [
        "[*Click for solution*](https://github.com/NeuromatchAcademy/course-content/tree/main/tutorials/W1D1_ModelTypes/solutions/W1D1_Tutorial1_Solution_2972c168.py)\n",
        "\n",
        "*Example output:*\n",
        "\n",
        "<img alt='Solution hint' align='left' width=775.0 height=575.0 src=https://raw.githubusercontent.com/NeuromatchAcademy/course-content/main/tutorials/W1D1_ModelTypes/static/W1D1_Tutorial1_Solution_2972c168_0.png>\n",
        "\n"
      ]
    },
    {
      "cell_type": "markdown",
      "metadata": {
        "execution": {},
        "id": "cjwvpSJo1AFE"
      },
      "source": [
        "In general, the shorter ISIs are predominant, with counts decreasing rapidly (and smoothly, more or less) with increasing ISI. However, counts also rapidly decrease to zero with _decreasing_ ISI below the maximum of the distribution (8-11 ms). The absence of these very low ISIs agrees with the refractory period hypothesis: the neuron cannot fire quickly enough to populate this region of the ISI distribution.\n",
        "\n",
        "Check the distributions of some other neurons. To resolve various features of the distributions, you might need to play with the value of `bins` in the call to `plt.hist`. Using too few bins might smooth over interesting details, but if you use too many bins, the random variability will start to dominate. #todo\n",
        "\n",
        "You might also want to restrict the range to see the shape of the distribution when focusing on relatively short or long ISIs. *Hint:* `plt.hist` takes a `range` argument #todo"
      ]
    },
    {
      "cell_type": "code",
      "execution_count": 32,
      "metadata": {
        "cellView": "form",
        "execution": {},
        "id": "JqUv8pgu1AFE",
        "colab": {
          "base_uri": "https://localhost:8080/",
          "height": 62,
          "referenced_widgets": [
            "fb65967cb3904693a647274ca6051795",
            "fb34a759c37641dcba0586165e9e0201",
            "b1e991e09c1947748fb9cda5dbd58132",
            "e44eac639c0a4777ae6406fe1363bdc3",
            "f3bc9e67bc17415e995bb520a7e1a2b8",
            "2f863ef0ce9c41c793c8bf32a4016e4f",
            "6d1bdde6afc44396af60ab094e828714",
            "83f79b440cc74426913db9112ddee9bc",
            "238814bbb6f747f3a16588dde49540ba",
            "115f8cb813774deab08c66e90d43c1e7",
            "69cffdac6c8c4e2a83fbbced8d8bba89",
            "f9a32d765b9a469c83da6fe37c4cc22a",
            "798b81920332449795a55f27804314cc",
            "e9b9ec297eed41e48b5bb46129441665",
            "e0dab4858c864cdcbaf4b85aae80b360",
            "8f057fe8ca11466b9342a7bfb3f37898",
            "ccc96a45dd4746f194f06b1712d87b12",
            "bd8c9b9918c543a4a414fd8b0b4ec9cc",
            "4f4ba6bfebb74a8a9833abd3956868cd",
            "a7573e2857f749fda4b7f1f7e37795b0",
            "98c38dd8b9d3414e9f6010a62f691512",
            "87c19e1312d9492699eeb2957ad003d0",
            "1d383357e1a64954a9ea67d8fd56e092",
            "57b79547835444a1a104fbb657aa8b80",
            "b1645bf6a59043faa716415ce77ee6ff",
            "aff2d3ea057d4e2abffd5211c61ea334"
          ]
        },
        "outputId": "889b53ee-995a-4dde-8ab7-8a61c37098cf"
      },
      "outputs": [
        {
          "output_type": "display_data",
          "data": {
            "text/plain": [
              "VBox(children=(VBox(children=(HBox(children=(Button(description='🙂', layout=Layout(height='auto', padding='0.5…"
            ],
            "application/vnd.jupyter.widget-view+json": {
              "version_major": 2,
              "version_minor": 0,
              "model_id": "fb65967cb3904693a647274ca6051795"
            }
          },
          "metadata": {}
        }
      ],
      "source": [
        "# @title Submit your feedback\n",
        "content_review(f\"{feedback_prefix}_ISIs_and_their_distributions_Exercise\")"
      ]
    },
    {
      "cell_type": "markdown",
      "metadata": {
        "execution": {},
        "id": "cetWiB2c1AFE"
      },
      "source": [
        "---\n",
        "\n",
        "# Section 4: What is the functional form of an ISI distribution?\n",
        "\n",
        "*Estimated timing to here from start of tutorial: 35 min*"
      ]
    },
    {
      "cell_type": "code",
      "execution_count": 33,
      "metadata": {
        "cellView": "form",
        "execution": {},
        "id": "2lBkzUSo1AFE",
        "colab": {
          "base_uri": "https://localhost:8080/",
          "height": 581,
          "referenced_widgets": [
            "70f0f3c223db47a48d20b8597ee59519",
            "59933826eda6484390cd7a94360a7875",
            "09a3a119fd1d47e38d3f13795d6c7355",
            "83226e0daf114cc3831a7a992c427d3c",
            "9eab5d2eea2441d0bf2b95f46ef2b23c",
            "1156810f86eb495faec4688aeae8f1f2"
          ]
        },
        "outputId": "32368335-9f87-4417-954e-20efbfba0976"
      },
      "outputs": [
        {
          "output_type": "display_data",
          "data": {
            "text/plain": [
              "Tab(children=(Output(), Output()), _titles={'0': 'Youtube', '1': 'Bilibili'})"
            ],
            "application/vnd.jupyter.widget-view+json": {
              "version_major": 2,
              "version_minor": 0,
              "model_id": "70f0f3c223db47a48d20b8597ee59519"
            }
          },
          "metadata": {}
        }
      ],
      "source": [
        "# @title Video 4: ISI distribution\n",
        "from ipywidgets import widgets\n",
        "from IPython.display import YouTubeVideo\n",
        "from IPython.display import IFrame\n",
        "from IPython.display import display\n",
        "\n",
        "\n",
        "class PlayVideo(IFrame):\n",
        "  def __init__(self, id, source, page=1, width=400, height=300, **kwargs):\n",
        "    self.id = id\n",
        "    if source == 'Bilibili':\n",
        "      src = f'https://player.bilibili.com/player.html?bvid={id}&page={page}'\n",
        "    elif source == 'Osf':\n",
        "      src = f'https://mfr.ca-1.osf.io/render?url=https://osf.io/download/{id}/?direct%26mode=render'\n",
        "    super(PlayVideo, self).__init__(src, width, height, **kwargs)\n",
        "\n",
        "\n",
        "def display_videos(video_ids, W=400, H=300, fs=1):\n",
        "  tab_contents = []\n",
        "  for i, video_id in enumerate(video_ids):\n",
        "    out = widgets.Output()\n",
        "    with out:\n",
        "      if video_ids[i][0] == 'Youtube':\n",
        "        video = YouTubeVideo(id=video_ids[i][1], width=W,\n",
        "                             height=H, fs=fs, rel=0)\n",
        "        print(f'Video available at https://youtube.com/watch?v={video.id}')\n",
        "      else:\n",
        "        video = PlayVideo(id=video_ids[i][1], source=video_ids[i][0], width=W,\n",
        "                          height=H, fs=fs, autoplay=False)\n",
        "        if video_ids[i][0] == 'Bilibili':\n",
        "          print(f'Video available at https://www.bilibili.com/video/{video.id}')\n",
        "        elif video_ids[i][0] == 'Osf':\n",
        "          print(f'Video available at https://osf.io/{video.id}')\n",
        "      display(video)\n",
        "    tab_contents.append(out)\n",
        "  return tab_contents\n",
        "\n",
        "\n",
        "video_ids = [('Youtube', 'DHhM80MOTe8'), ('Bilibili', 'BV1ov411B7Pm')]\n",
        "tab_contents = display_videos(video_ids, W=854, H=480)\n",
        "tabs = widgets.Tab()\n",
        "tabs.children = tab_contents\n",
        "for i in range(len(tab_contents)):\n",
        "  tabs.set_title(i, video_ids[i][0])\n",
        "display(tabs)"
      ]
    },
    {
      "cell_type": "code",
      "execution_count": null,
      "metadata": {
        "cellView": "form",
        "execution": {},
        "id": "BOlcrj9X1AFF"
      },
      "outputs": [],
      "source": [
        "# @title Submit your feedback\n",
        "content_review(f\"{feedback_prefix}_ISI_distribution_Video\")"
      ]
    },
    {
      "cell_type": "markdown",
      "metadata": {
        "execution": {},
        "id": "6lNRMm4s1AFF"
      },
      "source": [
        "The ISI histograms seem to follow continuous, monotonically decreasing functions above their maxima. The function is clearly non-linear. Could it belong to a single family of functions?\n",
        "\n",
        "To motivate the idea of using a mathematical function to explain physiological phenomena, let's define a few different function forms that we might expect the relationship to follow: exponential, inverse, and linear."
      ]
    },
    {
      "cell_type": "code",
      "execution_count": 34,
      "metadata": {
        "execution": {},
        "pycharm": {
          "name": "#%%\n"
        },
        "id": "iQsDgxvr1AFF"
      },
      "outputs": [],
      "source": [
        "def exponential(xs, scale, rate, x0):\n",
        "  \"\"\"A simple parameterized exponential function, applied element-wise.\n",
        "\n",
        "  Args:\n",
        "    xs (np.ndarray or float): Input(s) to the function.\n",
        "    scale (float): Linear scaling factor.\n",
        "    rate (float): Exponential growth (positive) or decay (negative) rate.\n",
        "    x0 (float): Horizontal offset.\n",
        "\n",
        "  \"\"\"\n",
        "  ys = scale * np.exp(rate * (xs - x0))\n",
        "  return ys\n",
        "\n",
        "def inverse(xs, scale, x0):\n",
        "  \"\"\"A simple parameterized inverse function (`1/x`), applied element-wise.\n",
        "\n",
        "  Args:\n",
        "    xs (np.ndarray or float): Input(s) to the function.\n",
        "    scale (float): Linear scaling factor.\n",
        "    x0 (float): Horizontal offset.\n",
        "\n",
        "  \"\"\"\n",
        "  ys = scale / (xs - x0)\n",
        "  return ys\n",
        "\n",
        "def linear(xs, slope, y0):\n",
        "  \"\"\"A simple linear function, applied element-wise.\n",
        "\n",
        "  Args:\n",
        "    xs (np.ndarray or float): Input(s) to the function.\n",
        "    slope (float): Slope of the line.\n",
        "    y0 (float): y-intercept of the line.\n",
        "\n",
        "  \"\"\"\n",
        "  ys = slope * xs + y0\n",
        "  return ys"
      ]
    },
    {
      "cell_type": "markdown",
      "metadata": {
        "execution": {},
        "id": "QWOc3O2c1AFF"
      },
      "source": [
        "### Interactive Demo 4: ISI functions explorer\n",
        "\n",
        "Here is an interactive demo where you can vary the parameters of these functions and see how well the resulting outputs correspond to the data. Adjust the parameters by moving the sliders and see how close you can get the lines to follow the falling curve of the histogram. This will give you a taste of what you're trying to do when you *fit a model* to data.\n",
        "\n",
        "\"Interactive demo\" cells have hidden code that defines an interface where you can play with the parameters of some function using sliders. You don't need to worry about how the code works – but you do need to **run the cell** to enable the sliders.\n",
        "\n",
        "- Which type of function (exponential/inverse/linear) can you make match the data best?\n"
      ]
    },
    {
      "cell_type": "code",
      "execution_count": 35,
      "metadata": {
        "cellView": "form",
        "execution": {},
        "pycharm": {
          "name": "#%%\n"
        },
        "id": "nlaFJmbM1AFF",
        "colab": {
          "base_uri": "https://localhost:8080/",
          "height": 816,
          "referenced_widgets": [
            "611fe21c73b04151a59f57495911e006",
            "70d807ad33e547bc87fe3ef982bc54cf",
            "d42d25084b874d37affe797c4198fad4",
            "0931a75816864759997beeb2186eb9d0",
            "8417f4b69bb84fd3ab8840243b2fe5c3",
            "70542384764d44838105772eff0dc784",
            "acd86463898a49deb4d1d7fa26f17330",
            "076ea04570f84ee29e7f41d1f538bf43",
            "b9fe1220eade47e3b446ad0edc16a039",
            "83ae41e41b7d433092977a97f0d010a8",
            "1ba286b853324b0e8ee4f1c45e288c99",
            "b1893816072e49769f3f54eda861fb3c",
            "6beeed0ab4bb490e85a23c7cf9795c6a",
            "71942650a31f4d4f81f3362a414cbc8a",
            "f883435644284ab4b48c4288282768b0",
            "40074fa2f91f43efbe607972b4ba4b54",
            "0f52ea5ac6724a59a5ab4d6e9dc468e6",
            "ec38f0c2ebae40beaa5a62c299dc36dd",
            "6eb346eb81ef47469ca3f7b84ac19e57",
            "ca79cbc04b384ab28e452ab0a4c5b993",
            "6b261c180153472b8431dd9be18acc1b",
            "6d2ad7293f7e4646a171e680a908696b",
            "2243de9557d04a849a902ba8e07ad82c",
            "afed0bb1c859446ea0620105db5e6554",
            "aff4ed1f826e40518528aa5543e13c08"
          ]
        },
        "outputId": "d6f7dfe0-eac9-4f3e-deaf-45a7dfb3d728"
      },
      "outputs": [
        {
          "output_type": "display_data",
          "data": {
            "text/plain": [
              "interactive(children=(FloatSlider(value=1000.0, description='exp_scale', max=20000.0, step=250.0), FloatSlider…"
            ],
            "application/vnd.jupyter.widget-view+json": {
              "version_major": 2,
              "version_minor": 0,
              "model_id": "611fe21c73b04151a59f57495911e006"
            }
          },
          "metadata": {}
        }
      ],
      "source": [
        "#@markdown Be sure to run this cell to enable the demo\n",
        "# Don't worry about understanding this code! It's to setup an interactive plot.\n",
        "single_neuron_idx = 283\n",
        "single_neuron_spikes = spike_times[single_neuron_idx]\n",
        "single_neuron_isis = np.diff(single_neuron_spikes)\n",
        "\n",
        "counts, edges = np.histogram(\n",
        "  single_neuron_isis,\n",
        "  bins=50,\n",
        "  range=(0, single_neuron_isis.max())\n",
        ")\n",
        "\n",
        "functions = dict(\n",
        "  exponential=exponential,\n",
        "  inverse=inverse,\n",
        "  linear=linear,\n",
        ")\n",
        "\n",
        "colors = dict(\n",
        "  exponential=\"C1\",\n",
        "  inverse=\"C2\",\n",
        "  linear=\"C4\",\n",
        ")\n",
        "\n",
        "@widgets.interact(\n",
        "  exp_scale=widgets.FloatSlider(1000, min=0, max=20000, step=250),\n",
        "  exp_rate=widgets.FloatSlider(-10, min=-200, max=50, step=1),\n",
        "  exp_x0=widgets.FloatSlider(0.1, min=-0.5, max=0.5, step=0.005),\n",
        "  inv_scale=widgets.FloatSlider(1000, min=0, max=3e2, step=10),\n",
        "  inv_x0=widgets.FloatSlider(0, min=-0.2, max=0.2, step=0.01),\n",
        "  lin_slope=widgets.FloatSlider(-1e5, min=-6e5, max=1e5, step=10000),\n",
        "  lin_y0=widgets.FloatSlider(10000, min=0, max=4e4, step=1000),\n",
        ")\n",
        "def fit_plot(\n",
        "  exp_scale=1000, exp_rate=-10, exp_x0=0.1,\n",
        "  inv_scale=1000, inv_x0=0,\n",
        "  lin_slope=-1e5, lin_y0=2000,\n",
        "):\n",
        "  \"\"\"Helper function for plotting function fits with interactive sliders.\"\"\"\n",
        "  func_params = dict(\n",
        "    exponential=(exp_scale, exp_rate, exp_x0),\n",
        "    inverse=(inv_scale, inv_x0),\n",
        "    linear=(lin_slope, lin_y0),\n",
        "  )\n",
        "  f, ax = plt.subplots()\n",
        "  ax.fill_between(edges[:-1], counts, step=\"post\", alpha=.5)\n",
        "  xs = np.linspace(1e-10, edges.max())\n",
        "  for name, function in functions.items():\n",
        "    ys = function(xs, *func_params[name])\n",
        "    ax.plot(xs, ys, lw=3, color=colors[name], label=name);\n",
        "  ax.set(\n",
        "      xlim=(edges.min(), edges.max()),\n",
        "      ylim=(0, counts.max() * 1.1),\n",
        "      xlabel=\"ISI (s)\",\n",
        "      ylabel=\"Number of spikes\",\n",
        "  )\n",
        "  ax.legend()\n",
        "  plt.show()"
      ]
    },
    {
      "cell_type": "markdown",
      "metadata": {
        "execution": {},
        "id": "vJwIXs0w1AFG"
      },
      "source": [
        "[*Click for solution*](https://github.com/NeuromatchAcademy/course-content/tree/main/tutorials/W1D1_ModelTypes/solutions/W1D1_Tutorial1_Solution_1bfa4ab0.py)\n",
        "\n"
      ]
    },
    {
      "cell_type": "code",
      "execution_count": 36,
      "metadata": {
        "cellView": "form",
        "execution": {},
        "id": "LURGBQwE1AFG",
        "colab": {
          "base_uri": "https://localhost:8080/",
          "height": 97,
          "referenced_widgets": [
            "7fda0ec74ff346cf89daa6d1fafa48d2",
            "5fb2fead3b1d447ea08984c5d284f4d8",
            "2c0731dd7f624f14b5263a9fd230342a",
            "18e38d1ab326445396f8c021c470d14a",
            "820aa216d6034fe0bcf4465f660fcbcb",
            "45764a59fa32438ea0a7a9f851667294",
            "7e332dfc4eb84b06802c567a583449d6",
            "b5e0679f8cf54711926513a5c10fcec4",
            "9970cd62649c4f349a5d755b22f56ac8",
            "a54b16e4360c452fb78140bef5804e6b",
            "aad8f00624204a09a759e5f6999d3f22",
            "f949a9b41b2947c2b0ecffebfc1d9e2b",
            "1fb1ccba741545a286609a0c133053a2",
            "eb7bd36de3934c91b7b4775f04aa0c9c",
            "21c2e775cde8418cab1607879f0033c9",
            "c87189855e6b4736895f93f9205eff01",
            "7f331dc572ed40369b19d3eef2489c09",
            "d41089f36eb44d06a9e0d0869d0d759a",
            "14f1517e66ca444f8c67862f0f305dc4",
            "79f17fe18f07478895367f9df02db311",
            "7cc6d10a4ac4462ab82385cb6c136ec8",
            "00df1ffc35f04f84a44d103dca3b27f6",
            "8473e48dcaf44b1691c426462f2f3975",
            "52e36ba4d6594c6280ef544094365b2b",
            "840f4586a4384dca8ea3892ddb41b1bf",
            "d63ebba26c2b46b38195cedaea4a2aac"
          ]
        },
        "outputId": "3cfcdb49-bd4b-4543-94fd-0c4257dd79b4"
      },
      "outputs": [
        {
          "output_type": "display_data",
          "data": {
            "text/plain": [
              "VBox(children=(VBox(children=(HBox(children=(Button(description='🙂', layout=Layout(height='auto', padding='0.5…"
            ],
            "application/vnd.jupyter.widget-view+json": {
              "version_major": 2,
              "version_minor": 0,
              "model_id": "7fda0ec74ff346cf89daa6d1fafa48d2"
            }
          },
          "metadata": {}
        }
      ],
      "source": [
        "# @title Submit your feedback\n",
        "content_review(f\"{feedback_prefix}_ISI_functions_explorer_Interactive_Demo_and_Discussion\")"
      ]
    },
    {
      "cell_type": "code",
      "execution_count": 37,
      "metadata": {
        "cellView": "form",
        "execution": {},
        "id": "61JwdWgt1AFG",
        "colab": {
          "base_uri": "https://localhost:8080/",
          "height": 581,
          "referenced_widgets": [
            "854ccf9369aa4641b210f38702aa1713",
            "d6a1719f4ecf43faa76ec83ad9d7499c",
            "d3ca150ee46148a99621419c409d2a1a",
            "d29813a4b41545f29b90ce5e9a4ab6aa",
            "717b65dde0dc4d8eb3693f3801ebad04",
            "92599969bc5c44ecb5272a74245540a5"
          ]
        },
        "outputId": "478dbe59-35a4-44e4-c9c0-73850e8596b0"
      },
      "outputs": [
        {
          "output_type": "display_data",
          "data": {
            "text/plain": [
              "Tab(children=(Output(), Output()), _titles={'0': 'Youtube', '1': 'Bilibili'})"
            ],
            "application/vnd.jupyter.widget-view+json": {
              "version_major": 2,
              "version_minor": 0,
              "model_id": "854ccf9369aa4641b210f38702aa1713"
            }
          },
          "metadata": {}
        }
      ],
      "source": [
        "# @title Video 5: Fitting models by hand\n",
        "from ipywidgets import widgets\n",
        "from IPython.display import YouTubeVideo\n",
        "from IPython.display import IFrame\n",
        "from IPython.display import display\n",
        "\n",
        "\n",
        "class PlayVideo(IFrame):\n",
        "  def __init__(self, id, source, page=1, width=400, height=300, **kwargs):\n",
        "    self.id = id\n",
        "    if source == 'Bilibili':\n",
        "      src = f'https://player.bilibili.com/player.html?bvid={id}&page={page}'\n",
        "    elif source == 'Osf':\n",
        "      src = f'https://mfr.ca-1.osf.io/render?url=https://osf.io/download/{id}/?direct%26mode=render'\n",
        "    super(PlayVideo, self).__init__(src, width, height, **kwargs)\n",
        "\n",
        "\n",
        "def display_videos(video_ids, W=400, H=300, fs=1):\n",
        "  tab_contents = []\n",
        "  for i, video_id in enumerate(video_ids):\n",
        "    out = widgets.Output()\n",
        "    with out:\n",
        "      if video_ids[i][0] == 'Youtube':\n",
        "        video = YouTubeVideo(id=video_ids[i][1], width=W,\n",
        "                             height=H, fs=fs, rel=0)\n",
        "        print(f'Video available at https://youtube.com/watch?v={video.id}')\n",
        "      else:\n",
        "        video = PlayVideo(id=video_ids[i][1], source=video_ids[i][0], width=W,\n",
        "                          height=H, fs=fs, autoplay=False)\n",
        "        if video_ids[i][0] == 'Bilibili':\n",
        "          print(f'Video available at https://www.bilibili.com/video/{video.id}')\n",
        "        elif video_ids[i][0] == 'Osf':\n",
        "          print(f'Video available at https://osf.io/{video.id}')\n",
        "      display(video)\n",
        "    tab_contents.append(out)\n",
        "  return tab_contents\n",
        "\n",
        "\n",
        "video_ids = [('Youtube', 'uW2HDk_4-wk'), ('Bilibili', 'BV1w54y1S7Eb')]\n",
        "tab_contents = display_videos(video_ids, W=854, H=480)\n",
        "tabs = widgets.Tab()\n",
        "tabs.children = tab_contents\n",
        "for i in range(len(tab_contents)):\n",
        "  tabs.set_title(i, video_ids[i][0])\n",
        "display(tabs)"
      ]
    },
    {
      "cell_type": "code",
      "execution_count": null,
      "metadata": {
        "cellView": "form",
        "execution": {},
        "id": "f5c46D1N1AFH"
      },
      "outputs": [],
      "source": [
        "# @title Submit your feedback\n",
        "content_review(f\"{feedback_prefix}_Fitting_models_by_hand_Video\")"
      ]
    },
    {
      "cell_type": "markdown",
      "metadata": {
        "execution": {},
        "id": "0S-1jEud1AFH"
      },
      "source": [
        "---\n",
        "# Section 5: Reflecting on what models\n",
        "\n",
        "*Estimated timing to here from start of tutorial: 40 min*"
      ]
    },
    {
      "cell_type": "markdown",
      "metadata": {
        "execution": {},
        "id": "a_N8GLpg1AFH"
      },
      "source": [
        "## Think! 5: Reflecting on what models\n",
        "\n",
        "Please discuss the following questions for around 10 minutes with your group:\n",
        "\n",
        "**Have you seen what models before?**\n",
        "Yes. At school, in physics labs, you often measure some phenomena (e.g. gravity) and find a function to describe relationships within the data. They are the direct reflection of observed data, restructured and reorginized to interpret meaning.\n",
        "\n",
        "**Have you ever done one?**\n",
        "At school labs, physics.\n",
        "\n",
        "**Why are what models useful?**\n",
        "\"what\" models are useful because, even if you don't have an understanding about \"how\" something works, or the \"why\" of it, the model can still provide accurate predictions of phenomena. Based on the resulting equation, you can also start uncovering what variables are important to produce the function.\n",
        "\n",
        "\n",
        "**When are they possible? Does your field have what models?**\n",
        "Uhhhhhh wat\n",
        "\n",
        "**What do we learn from constructing them?**\n",
        "We learn how to model the behaviour of the thing we are studying, and create accurate predictions about them. It can also help us lay the foundations to begin asking \"how\" or \"why\" something works.\n"
      ]
    },
    {
      "cell_type": "code",
      "execution_count": 38,
      "metadata": {
        "cellView": "form",
        "execution": {},
        "id": "6kpfZomI1AFH",
        "colab": {
          "base_uri": "https://localhost:8080/",
          "height": 97,
          "referenced_widgets": [
            "af36d298083c4ffeb590475317fe77a4",
            "526762f4a57147119c4ef159f4ed64eb",
            "9137c6193ab84c1680abc06bf5848c5c",
            "e1805e7cd73245afa7e973b4c2b6376b",
            "a58e83fb6503455990da3037e7f7ebe6",
            "9d5678d264cf465684875042410c8d0d",
            "910bd5ba68644097aef946a861bbf588",
            "cb10a7105f1244c890e7eeeb2a01a840",
            "984af238e8284c93aa9c03317f89868d",
            "982008c8e27346b884e5a3b7f1318ed2",
            "5193379d98bc43c390630ee089cef8ee",
            "95c6e5d3274443e0a873bd2b4455a6fa",
            "a633a3740f5c4e96bd46d76b12eadf47",
            "1b08dac5e0474394a22b21ef22144c75",
            "31e328d57fa34bffa8bfcdd47db1d5b1",
            "c64885eafc4e4cff9060b6510038ab67",
            "c36be2028b4a461eb2875e1880668769",
            "56818a349cab40a385fe4ec77d938165",
            "02c2d3e406a047aeb5aac7fe5d94f22d",
            "e2c84f7573c04c2999dc0205f754d2b4",
            "a28305eb005b4d7e8a1dfa8d9c6c7278",
            "f357fd94dde44f8ca02d7a22a7b6d910",
            "b10f0a8451c84c068a140d59581ba0b2",
            "934e2fde8e094986b7702b81728228ad",
            "3ed77ce3bae944688e72fef39dae6514",
            "09167880d76e42e78e40fc63e80bffe8"
          ]
        },
        "outputId": "dc7ba88c-1c08-4eec-f3fa-b8d1d6929d4a"
      },
      "outputs": [
        {
          "output_type": "display_data",
          "data": {
            "text/plain": [
              "VBox(children=(VBox(children=(HBox(children=(Button(description='🙂', layout=Layout(height='auto', padding='0.5…"
            ],
            "application/vnd.jupyter.widget-view+json": {
              "version_major": 2,
              "version_minor": 0,
              "model_id": "af36d298083c4ffeb590475317fe77a4"
            }
          },
          "metadata": {}
        }
      ],
      "source": [
        "# @title Submit your feedback\n",
        "content_review(f\"{feedback_prefix}_Reflecting_on_what_models_Discussion\")"
      ]
    },
    {
      "cell_type": "markdown",
      "metadata": {
        "execution": {},
        "id": "8Mm_trAI1AFH"
      },
      "source": [
        "---\n",
        "# Summary\n",
        "\n",
        "*Estimated timing of tutorial: 50 minutes*\n",
        "\n",
        "In this tutorial, we loaded some neural data and poked at it to understand how the dataset is organized. Then we made some basic plots to visualize (1) the average level of activity across the population and (2) the distribution of ISIs for an individual neuron. In the very last bit, we started to think about using mathematical formalisms to understand or explain some physiological phenomenon. All of this only allowed us to understand \"What\" the data looks like.\n",
        "\n",
        "This is the first step towards developing models that can tell us something about the brain. That's what we'll focus on in the next two tutorials."
      ]
    }
  ],
  "metadata": {
    "colab": {
      "provenance": [],
      "include_colab_link": true
    },
    "kernel": {
      "display_name": "Python 3",
      "language": "python",
      "name": "python3"
    },
    "kernelspec": {
      "display_name": "Python 3",
      "name": "python3"
    },
    "language_info": {
      "codemirror_mode": {
        "name": "ipython",
        "version": 3
      },
      "file_extension": ".py",
      "mimetype": "text/x-python",
      "name": "python",
      "nbconvert_exporter": "python",
      "pygments_lexer": "ipython3",
      "version": "3.9.21"
    },
    "widgets": {
      "application/vnd.jupyter.widget-state+json": {
        "82ab739ff843476abf2ee27544d168a5": {
          "model_module": "@jupyter-widgets/controls",
          "model_name": "TabModel",
          "model_module_version": "1.5.0",
          "state": {
            "_dom_classes": [],
            "_model_module": "@jupyter-widgets/controls",
            "_model_module_version": "1.5.0",
            "_model_name": "TabModel",
            "_titles": {
              "0": "Youtube",
              "1": "Bilibili"
            },
            "_view_count": null,
            "_view_module": "@jupyter-widgets/controls",
            "_view_module_version": "1.5.0",
            "_view_name": "TabView",
            "box_style": "",
            "children": [
              "IPY_MODEL_593c737303264f35b9e6af5698f0743a",
              "IPY_MODEL_e6329dd1e37841a9abecca7f0f784483"
            ],
            "layout": "IPY_MODEL_1650219bf0764a1f97daeddbcd4a7d79",
            "selected_index": 0
          }
        },
        "593c737303264f35b9e6af5698f0743a": {
          "model_module": "@jupyter-widgets/output",
          "model_name": "OutputModel",
          "model_module_version": "1.0.0",
          "state": {
            "_dom_classes": [],
            "_model_module": "@jupyter-widgets/output",
            "_model_module_version": "1.0.0",
            "_model_name": "OutputModel",
            "_view_count": null,
            "_view_module": "@jupyter-widgets/output",
            "_view_module_version": "1.0.0",
            "_view_name": "OutputView",
            "layout": "IPY_MODEL_6cf053606f3d412397b9269b407b9e23",
            "msg_id": "",
            "outputs": [
              {
                "output_type": "stream",
                "name": "stdout",
                "text": [
                  "Video available at https://youtube.com/watch?v=KgqR_jbjMQg\n"
                ]
              },
              {
                "output_type": "display_data",
                "data": {
                  "text/plain": "<IPython.lib.display.YouTubeVideo at 0x7b631c4efe90>",
                  "text/html": "\n        <iframe\n            width=\"854\"\n            height=\"480\"\n            src=\"https://www.youtube.com/embed/KgqR_jbjMQg?fs=1&rel=0\"\n            frameborder=\"0\"\n            allowfullscreen\n            \n        ></iframe>\n        ",
                  "image/jpeg": "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\n"
                },
                "metadata": {}
              }
            ]
          }
        },
        "e6329dd1e37841a9abecca7f0f784483": {
          "model_module": "@jupyter-widgets/output",
          "model_name": "OutputModel",
          "model_module_version": "1.0.0",
          "state": {
            "_dom_classes": [],
            "_model_module": "@jupyter-widgets/output",
            "_model_module_version": "1.0.0",
            "_model_name": "OutputModel",
            "_view_count": null,
            "_view_module": "@jupyter-widgets/output",
            "_view_module_version": "1.0.0",
            "_view_name": "OutputView",
            "layout": "IPY_MODEL_f0b402ad9ea84d469ab7ec215b964990",
            "msg_id": "",
            "outputs": [
              {
                "output_type": "stream",
                "name": "stdout",
                "text": [
                  "Video available at https://www.bilibili.com/video/BV1mz4y1X7ot\n"
                ]
              },
              {
                "output_type": "display_data",
                "data": {
                  "text/plain": "<__main__.PlayVideo at 0x7b630610df90>",
                  "text/html": "\n        <iframe\n            width=\"854\"\n            height=\"480\"\n            src=\"https://player.bilibili.com/player.html?bvid=BV1mz4y1X7ot&page=1?fs=1&autoplay=False\"\n            frameborder=\"0\"\n            allowfullscreen\n            \n        ></iframe>\n        "
                },
                "metadata": {}
              }
            ]
          }
        },
        "1650219bf0764a1f97daeddbcd4a7d79": {
          "model_module": "@jupyter-widgets/base",
          "model_name": "LayoutModel",
          "model_module_version": "1.2.0",
          "state": {
            "_model_module": "@jupyter-widgets/base",
            "_model_module_version": "1.2.0",
            "_model_name": "LayoutModel",
            "_view_count": null,
            "_view_module": "@jupyter-widgets/base",
            "_view_module_version": "1.2.0",
            "_view_name": "LayoutView",
            "align_content": null,
            "align_items": null,
            "align_self": null,
            "border": null,
            "bottom": null,
            "display": null,
            "flex": null,
            "flex_flow": null,
            "grid_area": null,
            "grid_auto_columns": null,
            "grid_auto_flow": null,
            "grid_auto_rows": null,
            "grid_column": null,
            "grid_gap": null,
            "grid_row": null,
            "grid_template_areas": null,
            "grid_template_columns": null,
            "grid_template_rows": null,
            "height": null,
            "justify_content": null,
            "justify_items": null,
            "left": null,
            "margin": null,
            "max_height": null,
            "max_width": null,
            "min_height": null,
            "min_width": null,
            "object_fit": null,
            "object_position": null,
            "order": null,
            "overflow": null,
            "overflow_x": null,
            "overflow_y": null,
            "padding": null,
            "right": null,
            "top": null,
            "visibility": null,
            "width": null
          }
        },
        "6cf053606f3d412397b9269b407b9e23": {
          "model_module": "@jupyter-widgets/base",
          "model_name": "LayoutModel",
          "model_module_version": "1.2.0",
          "state": {
            "_model_module": "@jupyter-widgets/base",
            "_model_module_version": "1.2.0",
            "_model_name": "LayoutModel",
            "_view_count": null,
            "_view_module": "@jupyter-widgets/base",
            "_view_module_version": "1.2.0",
            "_view_name": "LayoutView",
            "align_content": null,
            "align_items": null,
            "align_self": null,
            "border": null,
            "bottom": null,
            "display": null,
            "flex": null,
            "flex_flow": null,
            "grid_area": null,
            "grid_auto_columns": null,
            "grid_auto_flow": null,
            "grid_auto_rows": null,
            "grid_column": null,
            "grid_gap": null,
            "grid_row": null,
            "grid_template_areas": null,
            "grid_template_columns": null,
            "grid_template_rows": null,
            "height": null,
            "justify_content": null,
            "justify_items": null,
            "left": null,
            "margin": null,
            "max_height": null,
            "max_width": null,
            "min_height": null,
            "min_width": null,
            "object_fit": null,
            "object_position": null,
            "order": null,
            "overflow": null,
            "overflow_x": null,
            "overflow_y": null,
            "padding": null,
            "right": null,
            "top": null,
            "visibility": null,
            "width": null
          }
        },
        "f0b402ad9ea84d469ab7ec215b964990": {
          "model_module": "@jupyter-widgets/base",
          "model_name": "LayoutModel",
          "model_module_version": "1.2.0",
          "state": {
            "_model_module": "@jupyter-widgets/base",
            "_model_module_version": "1.2.0",
            "_model_name": "LayoutModel",
            "_view_count": null,
            "_view_module": "@jupyter-widgets/base",
            "_view_module_version": "1.2.0",
            "_view_name": "LayoutView",
            "align_content": null,
            "align_items": null,
            "align_self": null,
            "border": null,
            "bottom": null,
            "display": null,
            "flex": null,
            "flex_flow": null,
            "grid_area": null,
            "grid_auto_columns": null,
            "grid_auto_flow": null,
            "grid_auto_rows": null,
            "grid_column": null,
            "grid_gap": null,
            "grid_row": null,
            "grid_template_areas": null,
            "grid_template_columns": null,
            "grid_template_rows": null,
            "height": null,
            "justify_content": null,
            "justify_items": null,
            "left": null,
            "margin": null,
            "max_height": null,
            "max_width": null,
            "min_height": null,
            "min_width": null,
            "object_fit": null,
            "object_position": null,
            "order": null,
            "overflow": null,
            "overflow_x": null,
            "overflow_y": null,
            "padding": null,
            "right": null,
            "top": null,
            "visibility": null,
            "width": null
          }
        },
        "99168c73937b480da4f409e62e900a0d": {
          "model_module": "@jupyter-widgets/controls",
          "model_name": "VBoxModel",
          "model_module_version": "1.5.0",
          "state": {
            "_dom_classes": [],
            "_model_module": "@jupyter-widgets/controls",
            "_model_module_version": "1.5.0",
            "_model_name": "VBoxModel",
            "_view_count": null,
            "_view_module": "@jupyter-widgets/controls",
            "_view_module_version": "1.5.0",
            "_view_name": "VBoxView",
            "box_style": "",
            "children": [
              "IPY_MODEL_12c5962788e146359d7eb93a6f589149"
            ],
            "layout": "IPY_MODEL_aed9e58246594f82a55467bc3d81fbcc"
          }
        },
        "12c5962788e146359d7eb93a6f589149": {
          "model_module": "@jupyter-widgets/controls",
          "model_name": "VBoxModel",
          "model_module_version": "1.5.0",
          "state": {
            "_dom_classes": [],
            "_model_module": "@jupyter-widgets/controls",
            "_model_module_version": "1.5.0",
            "_model_name": "VBoxModel",
            "_view_count": null,
            "_view_module": "@jupyter-widgets/controls",
            "_view_module_version": "1.5.0",
            "_view_name": "VBoxView",
            "box_style": "",
            "children": [
              "IPY_MODEL_7119d30f74664886ae61cee7dbc90eb1",
              "IPY_MODEL_c713cdb635f64b26a14acd489bebed4c",
              "IPY_MODEL_3f7b87331a314cf99792939a4c4c0621"
            ],
            "layout": "IPY_MODEL_3d2ddbaafa394af6980321b83b89507e"
          }
        },
        "aed9e58246594f82a55467bc3d81fbcc": {
          "model_module": "@jupyter-widgets/base",
          "model_name": "LayoutModel",
          "model_module_version": "1.2.0",
          "state": {
            "_model_module": "@jupyter-widgets/base",
            "_model_module_version": "1.2.0",
            "_model_name": "LayoutModel",
            "_view_count": null,
            "_view_module": "@jupyter-widgets/base",
            "_view_module_version": "1.2.0",
            "_view_name": "LayoutView",
            "align_content": null,
            "align_items": null,
            "align_self": null,
            "border": null,
            "bottom": null,
            "display": null,
            "flex": null,
            "flex_flow": null,
            "grid_area": null,
            "grid_auto_columns": null,
            "grid_auto_flow": null,
            "grid_auto_rows": null,
            "grid_column": null,
            "grid_gap": null,
            "grid_row": null,
            "grid_template_areas": null,
            "grid_template_columns": null,
            "grid_template_rows": null,
            "height": null,
            "justify_content": null,
            "justify_items": null,
            "left": null,
            "margin": null,
            "max_height": null,
            "max_width": null,
            "min_height": null,
            "min_width": null,
            "object_fit": null,
            "object_position": null,
            "order": null,
            "overflow": null,
            "overflow_x": null,
            "overflow_y": null,
            "padding": null,
            "right": null,
            "top": null,
            "visibility": null,
            "width": null
          }
        },
        "7119d30f74664886ae61cee7dbc90eb1": {
          "model_module": "@jupyter-widgets/controls",
          "model_name": "HBoxModel",
          "model_module_version": "1.5.0",
          "state": {
            "_dom_classes": [],
            "_model_module": "@jupyter-widgets/controls",
            "_model_module_version": "1.5.0",
            "_model_name": "HBoxModel",
            "_view_count": null,
            "_view_module": "@jupyter-widgets/controls",
            "_view_module_version": "1.5.0",
            "_view_name": "HBoxView",
            "box_style": "",
            "children": [
              "IPY_MODEL_caba920b69c94053a1a52fda631b216b",
              "IPY_MODEL_b5ad35bc413c46e482566273bcf19a21",
              "IPY_MODEL_cd685ca0a23440b495d15da69bb17e2a"
            ],
            "layout": "IPY_MODEL_fde8c90dedea40aeb082e993e72e7648"
          }
        },
        "c713cdb635f64b26a14acd489bebed4c": {
          "model_module": "@jupyter-widgets/controls",
          "model_name": "HBoxModel",
          "model_module_version": "1.5.0",
          "state": {
            "_dom_classes": [],
            "_model_module": "@jupyter-widgets/controls",
            "_model_module_version": "1.5.0",
            "_model_name": "HBoxModel",
            "_view_count": null,
            "_view_module": "@jupyter-widgets/controls",
            "_view_module_version": "1.5.0",
            "_view_name": "HBoxView",
            "box_style": "",
            "children": [
              "IPY_MODEL_f43082ffdc0e42958c0fbeeea678261a",
              "IPY_MODEL_e00c7f77e23d495881d2c44620eb89b1"
            ],
            "layout": "IPY_MODEL_fc148fc3da1245e781f6d880ee39eb37"
          }
        },
        "3f7b87331a314cf99792939a4c4c0621": {
          "model_module": "@jupyter-widgets/controls",
          "model_name": "LabelModel",
          "model_module_version": "1.5.0",
          "state": {
            "_dom_classes": [],
            "_model_module": "@jupyter-widgets/controls",
            "_model_module_version": "1.5.0",
            "_model_name": "LabelModel",
            "_view_count": null,
            "_view_module": "@jupyter-widgets/controls",
            "_view_module_version": "1.5.0",
            "_view_name": "LabelView",
            "description": "",
            "description_tooltip": null,
            "layout": "IPY_MODEL_470a0b311919465d95b93086ca073053",
            "placeholder": "​",
            "style": "IPY_MODEL_fa4a07285538425f9b0da077481f6410",
            "value": "Thanks for your feedback!"
          }
        },
        "3d2ddbaafa394af6980321b83b89507e": {
          "model_module": "@jupyter-widgets/base",
          "model_name": "LayoutModel",
          "model_module_version": "1.2.0",
          "state": {
            "_model_module": "@jupyter-widgets/base",
            "_model_module_version": "1.2.0",
            "_model_name": "LayoutModel",
            "_view_count": null,
            "_view_module": "@jupyter-widgets/base",
            "_view_module_version": "1.2.0",
            "_view_name": "LayoutView",
            "align_content": null,
            "align_items": null,
            "align_self": null,
            "border": null,
            "bottom": null,
            "display": null,
            "flex": null,
            "flex_flow": null,
            "grid_area": null,
            "grid_auto_columns": null,
            "grid_auto_flow": null,
            "grid_auto_rows": null,
            "grid_column": null,
            "grid_gap": null,
            "grid_row": null,
            "grid_template_areas": null,
            "grid_template_columns": null,
            "grid_template_rows": null,
            "height": null,
            "justify_content": null,
            "justify_items": null,
            "left": null,
            "margin": null,
            "max_height": null,
            "max_width": null,
            "min_height": null,
            "min_width": null,
            "object_fit": null,
            "object_position": null,
            "order": null,
            "overflow": null,
            "overflow_x": null,
            "overflow_y": null,
            "padding": null,
            "right": null,
            "top": null,
            "visibility": null,
            "width": null
          }
        },
        "caba920b69c94053a1a52fda631b216b": {
          "model_module": "@jupyter-widgets/controls",
          "model_name": "ButtonModel",
          "model_module_version": "1.5.0",
          "state": {
            "_dom_classes": [
              "happy"
            ],
            "_model_module": "@jupyter-widgets/controls",
            "_model_module_version": "1.5.0",
            "_model_name": "ButtonModel",
            "_view_count": null,
            "_view_module": "@jupyter-widgets/controls",
            "_view_module_version": "1.5.0",
            "_view_name": "ButtonView",
            "button_style": "",
            "description": "🙂",
            "disabled": false,
            "icon": "",
            "layout": "IPY_MODEL_8ed6ed3eae9e4f3c8691f47f7093a7dc",
            "style": "IPY_MODEL_7b3f4989479b451ab595cbe1e75fa554",
            "tooltip": "happy"
          }
        },
        "b5ad35bc413c46e482566273bcf19a21": {
          "model_module": "@jupyter-widgets/controls",
          "model_name": "ButtonModel",
          "model_module_version": "1.5.0",
          "state": {
            "_dom_classes": [
              "medium"
            ],
            "_model_module": "@jupyter-widgets/controls",
            "_model_module_version": "1.5.0",
            "_model_name": "ButtonModel",
            "_view_count": null,
            "_view_module": "@jupyter-widgets/controls",
            "_view_module_version": "1.5.0",
            "_view_name": "ButtonView",
            "button_style": "",
            "description": "😐",
            "disabled": false,
            "icon": "",
            "layout": "IPY_MODEL_ca3705e2387945ca904a31bc9e961b4d",
            "style": "IPY_MODEL_02d08299a0a14b9ca62bc05d3ad5126e",
            "tooltip": "medium"
          }
        },
        "cd685ca0a23440b495d15da69bb17e2a": {
          "model_module": "@jupyter-widgets/controls",
          "model_name": "ButtonModel",
          "model_module_version": "1.5.0",
          "state": {
            "_dom_classes": [
              "sad"
            ],
            "_model_module": "@jupyter-widgets/controls",
            "_model_module_version": "1.5.0",
            "_model_name": "ButtonModel",
            "_view_count": null,
            "_view_module": "@jupyter-widgets/controls",
            "_view_module_version": "1.5.0",
            "_view_name": "ButtonView",
            "button_style": "",
            "description": "🙁",
            "disabled": false,
            "icon": "",
            "layout": "IPY_MODEL_773d0ca36c104b23ad6c0a4a410bf20b",
            "style": "IPY_MODEL_000d78a602f744a7bd2cd376f82f320c",
            "tooltip": "sad"
          }
        },
        "fde8c90dedea40aeb082e993e72e7648": {
          "model_module": "@jupyter-widgets/base",
          "model_name": "LayoutModel",
          "model_module_version": "1.2.0",
          "state": {
            "_model_module": "@jupyter-widgets/base",
            "_model_module_version": "1.2.0",
            "_model_name": "LayoutModel",
            "_view_count": null,
            "_view_module": "@jupyter-widgets/base",
            "_view_module_version": "1.2.0",
            "_view_name": "LayoutView",
            "align_content": null,
            "align_items": null,
            "align_self": null,
            "border": null,
            "bottom": null,
            "display": null,
            "flex": null,
            "flex_flow": null,
            "grid_area": null,
            "grid_auto_columns": null,
            "grid_auto_flow": null,
            "grid_auto_rows": null,
            "grid_column": null,
            "grid_gap": null,
            "grid_row": null,
            "grid_template_areas": null,
            "grid_template_columns": null,
            "grid_template_rows": null,
            "height": null,
            "justify_content": null,
            "justify_items": null,
            "left": null,
            "margin": null,
            "max_height": null,
            "max_width": null,
            "min_height": null,
            "min_width": null,
            "object_fit": null,
            "object_position": null,
            "order": null,
            "overflow": null,
            "overflow_x": null,
            "overflow_y": null,
            "padding": null,
            "right": null,
            "top": null,
            "visibility": null,
            "width": null
          }
        },
        "f43082ffdc0e42958c0fbeeea678261a": {
          "model_module": "@jupyter-widgets/controls",
          "model_name": "TextareaModel",
          "model_module_version": "1.5.0",
          "state": {
            "_dom_classes": [],
            "_model_module": "@jupyter-widgets/controls",
            "_model_module_version": "1.5.0",
            "_model_name": "TextareaModel",
            "_view_count": null,
            "_view_module": "@jupyter-widgets/controls",
            "_view_module_version": "1.5.0",
            "_view_name": "TextareaView",
            "continuous_update": true,
            "description": "",
            "description_tooltip": null,
            "disabled": false,
            "layout": "IPY_MODEL_89a4d5bff4d34525987beab8cef03ccd",
            "placeholder": "We want your feedback!",
            "rows": null,
            "style": "IPY_MODEL_4aeec5d5988643b1a1802ac8cbc51d7d",
            "value": ""
          }
        },
        "e00c7f77e23d495881d2c44620eb89b1": {
          "model_module": "@jupyter-widgets/controls",
          "model_name": "ButtonModel",
          "model_module_version": "1.5.0",
          "state": {
            "_dom_classes": [],
            "_model_module": "@jupyter-widgets/controls",
            "_model_module_version": "1.5.0",
            "_model_name": "ButtonModel",
            "_view_count": null,
            "_view_module": "@jupyter-widgets/controls",
            "_view_module_version": "1.5.0",
            "_view_name": "ButtonView",
            "button_style": "",
            "description": "Submit",
            "disabled": false,
            "icon": "",
            "layout": "IPY_MODEL_c9369fb397eb4d4c8e13a93880d96c65",
            "style": "IPY_MODEL_676df7dcf66d42abbda6ab89278b2e8a",
            "tooltip": ""
          }
        },
        "fc148fc3da1245e781f6d880ee39eb37": {
          "model_module": "@jupyter-widgets/base",
          "model_name": "LayoutModel",
          "model_module_version": "1.2.0",
          "state": {
            "_model_module": "@jupyter-widgets/base",
            "_model_module_version": "1.2.0",
            "_model_name": "LayoutModel",
            "_view_count": null,
            "_view_module": "@jupyter-widgets/base",
            "_view_module_version": "1.2.0",
            "_view_name": "LayoutView",
            "align_content": null,
            "align_items": null,
            "align_self": null,
            "border": null,
            "bottom": null,
            "display": "none",
            "flex": null,
            "flex_flow": null,
            "grid_area": null,
            "grid_auto_columns": null,
            "grid_auto_flow": null,
            "grid_auto_rows": null,
            "grid_column": null,
            "grid_gap": null,
            "grid_row": null,
            "grid_template_areas": null,
            "grid_template_columns": null,
            "grid_template_rows": null,
            "height": null,
            "justify_content": null,
            "justify_items": null,
            "left": null,
            "margin": null,
            "max_height": null,
            "max_width": null,
            "min_height": null,
            "min_width": null,
            "object_fit": null,
            "object_position": null,
            "order": null,
            "overflow": null,
            "overflow_x": null,
            "overflow_y": null,
            "padding": null,
            "right": null,
            "top": null,
            "visibility": null,
            "width": null
          }
        },
        "470a0b311919465d95b93086ca073053": {
          "model_module": "@jupyter-widgets/base",
          "model_name": "LayoutModel",
          "model_module_version": "1.2.0",
          "state": {
            "_model_module": "@jupyter-widgets/base",
            "_model_module_version": "1.2.0",
            "_model_name": "LayoutModel",
            "_view_count": null,
            "_view_module": "@jupyter-widgets/base",
            "_view_module_version": "1.2.0",
            "_view_name": "LayoutView",
            "align_content": null,
            "align_items": null,
            "align_self": null,
            "border": null,
            "bottom": null,
            "display": "none",
            "flex": null,
            "flex_flow": null,
            "grid_area": null,
            "grid_auto_columns": null,
            "grid_auto_flow": null,
            "grid_auto_rows": null,
            "grid_column": null,
            "grid_gap": null,
            "grid_row": null,
            "grid_template_areas": null,
            "grid_template_columns": null,
            "grid_template_rows": null,
            "height": null,
            "justify_content": null,
            "justify_items": null,
            "left": null,
            "margin": null,
            "max_height": null,
            "max_width": null,
            "min_height": null,
            "min_width": null,
            "object_fit": null,
            "object_position": null,
            "order": null,
            "overflow": null,
            "overflow_x": null,
            "overflow_y": null,
            "padding": null,
            "right": null,
            "top": null,
            "visibility": null,
            "width": null
          }
        },
        "fa4a07285538425f9b0da077481f6410": {
          "model_module": "@jupyter-widgets/controls",
          "model_name": "DescriptionStyleModel",
          "model_module_version": "1.5.0",
          "state": {
            "_model_module": "@jupyter-widgets/controls",
            "_model_module_version": "1.5.0",
            "_model_name": "DescriptionStyleModel",
            "_view_count": null,
            "_view_module": "@jupyter-widgets/base",
            "_view_module_version": "1.2.0",
            "_view_name": "StyleView",
            "description_width": ""
          }
        },
        "8ed6ed3eae9e4f3c8691f47f7093a7dc": {
          "model_module": "@jupyter-widgets/base",
          "model_name": "LayoutModel",
          "model_module_version": "1.2.0",
          "state": {
            "_model_module": "@jupyter-widgets/base",
            "_model_module_version": "1.2.0",
            "_model_name": "LayoutModel",
            "_view_count": null,
            "_view_module": "@jupyter-widgets/base",
            "_view_module_version": "1.2.0",
            "_view_name": "LayoutView",
            "align_content": null,
            "align_items": null,
            "align_self": null,
            "border": null,
            "bottom": null,
            "display": null,
            "flex": null,
            "flex_flow": null,
            "grid_area": null,
            "grid_auto_columns": null,
            "grid_auto_flow": null,
            "grid_auto_rows": null,
            "grid_column": null,
            "grid_gap": null,
            "grid_row": null,
            "grid_template_areas": null,
            "grid_template_columns": null,
            "grid_template_rows": null,
            "height": "auto",
            "justify_content": null,
            "justify_items": null,
            "left": null,
            "margin": null,
            "max_height": null,
            "max_width": null,
            "min_height": null,
            "min_width": null,
            "object_fit": null,
            "object_position": null,
            "order": null,
            "overflow": null,
            "overflow_x": null,
            "overflow_y": null,
            "padding": "0.5em",
            "right": null,
            "top": null,
            "visibility": null,
            "width": "auto"
          }
        },
        "7b3f4989479b451ab595cbe1e75fa554": {
          "model_module": "@jupyter-widgets/controls",
          "model_name": "ButtonStyleModel",
          "model_module_version": "1.5.0",
          "state": {
            "_model_module": "@jupyter-widgets/controls",
            "_model_module_version": "1.5.0",
            "_model_name": "ButtonStyleModel",
            "_view_count": null,
            "_view_module": "@jupyter-widgets/base",
            "_view_module_version": "1.2.0",
            "_view_name": "StyleView",
            "button_color": "#aaffaa",
            "font_weight": ""
          }
        },
        "ca3705e2387945ca904a31bc9e961b4d": {
          "model_module": "@jupyter-widgets/base",
          "model_name": "LayoutModel",
          "model_module_version": "1.2.0",
          "state": {
            "_model_module": "@jupyter-widgets/base",
            "_model_module_version": "1.2.0",
            "_model_name": "LayoutModel",
            "_view_count": null,
            "_view_module": "@jupyter-widgets/base",
            "_view_module_version": "1.2.0",
            "_view_name": "LayoutView",
            "align_content": null,
            "align_items": null,
            "align_self": null,
            "border": null,
            "bottom": null,
            "display": null,
            "flex": null,
            "flex_flow": null,
            "grid_area": null,
            "grid_auto_columns": null,
            "grid_auto_flow": null,
            "grid_auto_rows": null,
            "grid_column": null,
            "grid_gap": null,
            "grid_row": null,
            "grid_template_areas": null,
            "grid_template_columns": null,
            "grid_template_rows": null,
            "height": "auto",
            "justify_content": null,
            "justify_items": null,
            "left": null,
            "margin": null,
            "max_height": null,
            "max_width": null,
            "min_height": null,
            "min_width": null,
            "object_fit": null,
            "object_position": null,
            "order": null,
            "overflow": null,
            "overflow_x": null,
            "overflow_y": null,
            "padding": "0.5em",
            "right": null,
            "top": null,
            "visibility": null,
            "width": "auto"
          }
        },
        "02d08299a0a14b9ca62bc05d3ad5126e": {
          "model_module": "@jupyter-widgets/controls",
          "model_name": "ButtonStyleModel",
          "model_module_version": "1.5.0",
          "state": {
            "_model_module": "@jupyter-widgets/controls",
            "_model_module_version": "1.5.0",
            "_model_name": "ButtonStyleModel",
            "_view_count": null,
            "_view_module": "@jupyter-widgets/base",
            "_view_module_version": "1.2.0",
            "_view_name": "StyleView",
            "button_color": "#dddd77",
            "font_weight": ""
          }
        },
        "773d0ca36c104b23ad6c0a4a410bf20b": {
          "model_module": "@jupyter-widgets/base",
          "model_name": "LayoutModel",
          "model_module_version": "1.2.0",
          "state": {
            "_model_module": "@jupyter-widgets/base",
            "_model_module_version": "1.2.0",
            "_model_name": "LayoutModel",
            "_view_count": null,
            "_view_module": "@jupyter-widgets/base",
            "_view_module_version": "1.2.0",
            "_view_name": "LayoutView",
            "align_content": null,
            "align_items": null,
            "align_self": null,
            "border": null,
            "bottom": null,
            "display": null,
            "flex": null,
            "flex_flow": null,
            "grid_area": null,
            "grid_auto_columns": null,
            "grid_auto_flow": null,
            "grid_auto_rows": null,
            "grid_column": null,
            "grid_gap": null,
            "grid_row": null,
            "grid_template_areas": null,
            "grid_template_columns": null,
            "grid_template_rows": null,
            "height": "auto",
            "justify_content": null,
            "justify_items": null,
            "left": null,
            "margin": null,
            "max_height": null,
            "max_width": null,
            "min_height": null,
            "min_width": null,
            "object_fit": null,
            "object_position": null,
            "order": null,
            "overflow": null,
            "overflow_x": null,
            "overflow_y": null,
            "padding": "0.5em",
            "right": null,
            "top": null,
            "visibility": null,
            "width": "auto"
          }
        },
        "000d78a602f744a7bd2cd376f82f320c": {
          "model_module": "@jupyter-widgets/controls",
          "model_name": "ButtonStyleModel",
          "model_module_version": "1.5.0",
          "state": {
            "_model_module": "@jupyter-widgets/controls",
            "_model_module_version": "1.5.0",
            "_model_name": "ButtonStyleModel",
            "_view_count": null,
            "_view_module": "@jupyter-widgets/base",
            "_view_module_version": "1.2.0",
            "_view_name": "StyleView",
            "button_color": "#ffaaaa",
            "font_weight": ""
          }
        },
        "89a4d5bff4d34525987beab8cef03ccd": {
          "model_module": "@jupyter-widgets/base",
          "model_name": "LayoutModel",
          "model_module_version": "1.2.0",
          "state": {
            "_model_module": "@jupyter-widgets/base",
            "_model_module_version": "1.2.0",
            "_model_name": "LayoutModel",
            "_view_count": null,
            "_view_module": "@jupyter-widgets/base",
            "_view_module_version": "1.2.0",
            "_view_name": "LayoutView",
            "align_content": null,
            "align_items": null,
            "align_self": null,
            "border": null,
            "bottom": null,
            "display": null,
            "flex": null,
            "flex_flow": null,
            "grid_area": null,
            "grid_auto_columns": null,
            "grid_auto_flow": null,
            "grid_auto_rows": null,
            "grid_column": null,
            "grid_gap": null,
            "grid_row": null,
            "grid_template_areas": null,
            "grid_template_columns": null,
            "grid_template_rows": null,
            "height": "auto",
            "justify_content": null,
            "justify_items": null,
            "left": null,
            "margin": null,
            "max_height": null,
            "max_width": null,
            "min_height": null,
            "min_width": null,
            "object_fit": null,
            "object_position": null,
            "order": null,
            "overflow": null,
            "overflow_x": null,
            "overflow_y": null,
            "padding": null,
            "right": null,
            "top": null,
            "visibility": null,
            "width": "auto"
          }
        },
        "4aeec5d5988643b1a1802ac8cbc51d7d": {
          "model_module": "@jupyter-widgets/controls",
          "model_name": "DescriptionStyleModel",
          "model_module_version": "1.5.0",
          "state": {
            "_model_module": "@jupyter-widgets/controls",
            "_model_module_version": "1.5.0",
            "_model_name": "DescriptionStyleModel",
            "_view_count": null,
            "_view_module": "@jupyter-widgets/base",
            "_view_module_version": "1.2.0",
            "_view_name": "StyleView",
            "description_width": ""
          }
        },
        "c9369fb397eb4d4c8e13a93880d96c65": {
          "model_module": "@jupyter-widgets/base",
          "model_name": "LayoutModel",
          "model_module_version": "1.2.0",
          "state": {
            "_model_module": "@jupyter-widgets/base",
            "_model_module_version": "1.2.0",
            "_model_name": "LayoutModel",
            "_view_count": null,
            "_view_module": "@jupyter-widgets/base",
            "_view_module_version": "1.2.0",
            "_view_name": "LayoutView",
            "align_content": null,
            "align_items": null,
            "align_self": null,
            "border": null,
            "bottom": null,
            "display": null,
            "flex": null,
            "flex_flow": null,
            "grid_area": null,
            "grid_auto_columns": null,
            "grid_auto_flow": null,
            "grid_auto_rows": null,
            "grid_column": null,
            "grid_gap": null,
            "grid_row": null,
            "grid_template_areas": null,
            "grid_template_columns": null,
            "grid_template_rows": null,
            "height": "auto",
            "justify_content": null,
            "justify_items": null,
            "left": null,
            "margin": null,
            "max_height": null,
            "max_width": null,
            "min_height": null,
            "min_width": null,
            "object_fit": null,
            "object_position": null,
            "order": null,
            "overflow": null,
            "overflow_x": null,
            "overflow_y": null,
            "padding": null,
            "right": null,
            "top": null,
            "visibility": null,
            "width": "auto"
          }
        },
        "676df7dcf66d42abbda6ab89278b2e8a": {
          "model_module": "@jupyter-widgets/controls",
          "model_name": "ButtonStyleModel",
          "model_module_version": "1.5.0",
          "state": {
            "_model_module": "@jupyter-widgets/controls",
            "_model_module_version": "1.5.0",
            "_model_name": "ButtonStyleModel",
            "_view_count": null,
            "_view_module": "@jupyter-widgets/base",
            "_view_module_version": "1.2.0",
            "_view_name": "StyleView",
            "button_color": null,
            "font_weight": ""
          }
        },
        "5ab1e07cdb4444238c0357f754aa4049": {
          "model_module": "@jupyter-widgets/controls",
          "model_name": "TabModel",
          "model_module_version": "1.5.0",
          "state": {
            "_dom_classes": [],
            "_model_module": "@jupyter-widgets/controls",
            "_model_module_version": "1.5.0",
            "_model_name": "TabModel",
            "_titles": {
              "0": "Youtube",
              "1": "Bilibili"
            },
            "_view_count": null,
            "_view_module": "@jupyter-widgets/controls",
            "_view_module_version": "1.5.0",
            "_view_name": "TabView",
            "box_style": "",
            "children": [
              "IPY_MODEL_88f5b2d4c20244cdbc0c0defad84f259",
              "IPY_MODEL_d1a106bc765a4ecaa1e768b27ebfa072"
            ],
            "layout": "IPY_MODEL_87c399d5c06a43d5a9a269ccb46e1186",
            "selected_index": 0
          }
        },
        "88f5b2d4c20244cdbc0c0defad84f259": {
          "model_module": "@jupyter-widgets/output",
          "model_name": "OutputModel",
          "model_module_version": "1.0.0",
          "state": {
            "_dom_classes": [],
            "_model_module": "@jupyter-widgets/output",
            "_model_module_version": "1.0.0",
            "_model_name": "OutputModel",
            "_view_count": null,
            "_view_module": "@jupyter-widgets/output",
            "_view_module_version": "1.0.0",
            "_view_name": "OutputView",
            "layout": "IPY_MODEL_c592ceef7b2d437da141af437bee3186",
            "msg_id": "",
            "outputs": [
              {
                "output_type": "stream",
                "name": "stdout",
                "text": [
                  "Video available at https://youtube.com/watch?v=oHwYWUI_o1U\n"
                ]
              },
              {
                "output_type": "display_data",
                "data": {
                  "text/plain": "<IPython.lib.display.YouTubeVideo at 0x7b631fb4fe10>",
                  "text/html": "\n        <iframe\n            width=\"854\"\n            height=\"480\"\n            src=\"https://www.youtube.com/embed/oHwYWUI_o1U?fs=1&rel=0\"\n            frameborder=\"0\"\n            allowfullscreen\n            \n        ></iframe>\n        ",
                  "image/jpeg": "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\n"
                },
                "metadata": {}
              }
            ]
          }
        },
        "d1a106bc765a4ecaa1e768b27ebfa072": {
          "model_module": "@jupyter-widgets/output",
          "model_name": "OutputModel",
          "model_module_version": "1.0.0",
          "state": {
            "_dom_classes": [],
            "_model_module": "@jupyter-widgets/output",
            "_model_module_version": "1.0.0",
            "_model_name": "OutputModel",
            "_view_count": null,
            "_view_module": "@jupyter-widgets/output",
            "_view_module_version": "1.0.0",
            "_view_name": "OutputView",
            "layout": "IPY_MODEL_3ba56a83ff194ae4833e2e655d50db43",
            "msg_id": "",
            "outputs": [
              {
                "output_type": "stream",
                "name": "stdout",
                "text": [
                  "Video available at https://www.bilibili.com/video/BV1Hp4y1S7Au\n"
                ]
              },
              {
                "output_type": "display_data",
                "data": {
                  "text/plain": "<__main__.PlayVideo at 0x7b63343f13d0>",
                  "text/html": "\n        <iframe\n            width=\"854\"\n            height=\"480\"\n            src=\"https://player.bilibili.com/player.html?bvid=BV1Hp4y1S7Au&page=1?fs=1&autoplay=False\"\n            frameborder=\"0\"\n            allowfullscreen\n            \n        ></iframe>\n        "
                },
                "metadata": {}
              }
            ]
          }
        },
        "87c399d5c06a43d5a9a269ccb46e1186": {
          "model_module": "@jupyter-widgets/base",
          "model_name": "LayoutModel",
          "model_module_version": "1.2.0",
          "state": {
            "_model_module": "@jupyter-widgets/base",
            "_model_module_version": "1.2.0",
            "_model_name": "LayoutModel",
            "_view_count": null,
            "_view_module": "@jupyter-widgets/base",
            "_view_module_version": "1.2.0",
            "_view_name": "LayoutView",
            "align_content": null,
            "align_items": null,
            "align_self": null,
            "border": null,
            "bottom": null,
            "display": null,
            "flex": null,
            "flex_flow": null,
            "grid_area": null,
            "grid_auto_columns": null,
            "grid_auto_flow": null,
            "grid_auto_rows": null,
            "grid_column": null,
            "grid_gap": null,
            "grid_row": null,
            "grid_template_areas": null,
            "grid_template_columns": null,
            "grid_template_rows": null,
            "height": null,
            "justify_content": null,
            "justify_items": null,
            "left": null,
            "margin": null,
            "max_height": null,
            "max_width": null,
            "min_height": null,
            "min_width": null,
            "object_fit": null,
            "object_position": null,
            "order": null,
            "overflow": null,
            "overflow_x": null,
            "overflow_y": null,
            "padding": null,
            "right": null,
            "top": null,
            "visibility": null,
            "width": null
          }
        },
        "c592ceef7b2d437da141af437bee3186": {
          "model_module": "@jupyter-widgets/base",
          "model_name": "LayoutModel",
          "model_module_version": "1.2.0",
          "state": {
            "_model_module": "@jupyter-widgets/base",
            "_model_module_version": "1.2.0",
            "_model_name": "LayoutModel",
            "_view_count": null,
            "_view_module": "@jupyter-widgets/base",
            "_view_module_version": "1.2.0",
            "_view_name": "LayoutView",
            "align_content": null,
            "align_items": null,
            "align_self": null,
            "border": null,
            "bottom": null,
            "display": null,
            "flex": null,
            "flex_flow": null,
            "grid_area": null,
            "grid_auto_columns": null,
            "grid_auto_flow": null,
            "grid_auto_rows": null,
            "grid_column": null,
            "grid_gap": null,
            "grid_row": null,
            "grid_template_areas": null,
            "grid_template_columns": null,
            "grid_template_rows": null,
            "height": null,
            "justify_content": null,
            "justify_items": null,
            "left": null,
            "margin": null,
            "max_height": null,
            "max_width": null,
            "min_height": null,
            "min_width": null,
            "object_fit": null,
            "object_position": null,
            "order": null,
            "overflow": null,
            "overflow_x": null,
            "overflow_y": null,
            "padding": null,
            "right": null,
            "top": null,
            "visibility": null,
            "width": null
          }
        },
        "3ba56a83ff194ae4833e2e655d50db43": {
          "model_module": "@jupyter-widgets/base",
          "model_name": "LayoutModel",
          "model_module_version": "1.2.0",
          "state": {
            "_model_module": "@jupyter-widgets/base",
            "_model_module_version": "1.2.0",
            "_model_name": "LayoutModel",
            "_view_count": null,
            "_view_module": "@jupyter-widgets/base",
            "_view_module_version": "1.2.0",
            "_view_name": "LayoutView",
            "align_content": null,
            "align_items": null,
            "align_self": null,
            "border": null,
            "bottom": null,
            "display": null,
            "flex": null,
            "flex_flow": null,
            "grid_area": null,
            "grid_auto_columns": null,
            "grid_auto_flow": null,
            "grid_auto_rows": null,
            "grid_column": null,
            "grid_gap": null,
            "grid_row": null,
            "grid_template_areas": null,
            "grid_template_columns": null,
            "grid_template_rows": null,
            "height": null,
            "justify_content": null,
            "justify_items": null,
            "left": null,
            "margin": null,
            "max_height": null,
            "max_width": null,
            "min_height": null,
            "min_width": null,
            "object_fit": null,
            "object_position": null,
            "order": null,
            "overflow": null,
            "overflow_x": null,
            "overflow_y": null,
            "padding": null,
            "right": null,
            "top": null,
            "visibility": null,
            "width": null
          }
        },
        "72c9e31f04014c31a8dae627a2ed4c6f": {
          "model_module": "@jupyter-widgets/controls",
          "model_name": "VBoxModel",
          "model_module_version": "1.5.0",
          "state": {
            "_dom_classes": [],
            "_model_module": "@jupyter-widgets/controls",
            "_model_module_version": "1.5.0",
            "_model_name": "VBoxModel",
            "_view_count": null,
            "_view_module": "@jupyter-widgets/controls",
            "_view_module_version": "1.5.0",
            "_view_name": "VBoxView",
            "box_style": "",
            "children": [
              "IPY_MODEL_a85e58fd8a8642c5a6eef2ead4d98313"
            ],
            "layout": "IPY_MODEL_15f0971f3dea4e349113a1b09f3b46f4"
          }
        },
        "a85e58fd8a8642c5a6eef2ead4d98313": {
          "model_module": "@jupyter-widgets/controls",
          "model_name": "VBoxModel",
          "model_module_version": "1.5.0",
          "state": {
            "_dom_classes": [],
            "_model_module": "@jupyter-widgets/controls",
            "_model_module_version": "1.5.0",
            "_model_name": "VBoxModel",
            "_view_count": null,
            "_view_module": "@jupyter-widgets/controls",
            "_view_module_version": "1.5.0",
            "_view_name": "VBoxView",
            "box_style": "",
            "children": [
              "IPY_MODEL_9a6c1dc0dfa44896b943405468d9e3fc",
              "IPY_MODEL_3bff01edc27848618b84001ab8a8d8f4",
              "IPY_MODEL_609f620e854c45ca8151aa8c98292c3a"
            ],
            "layout": "IPY_MODEL_43c6d6ab65d948e197c5fd131ce01776"
          }
        },
        "15f0971f3dea4e349113a1b09f3b46f4": {
          "model_module": "@jupyter-widgets/base",
          "model_name": "LayoutModel",
          "model_module_version": "1.2.0",
          "state": {
            "_model_module": "@jupyter-widgets/base",
            "_model_module_version": "1.2.0",
            "_model_name": "LayoutModel",
            "_view_count": null,
            "_view_module": "@jupyter-widgets/base",
            "_view_module_version": "1.2.0",
            "_view_name": "LayoutView",
            "align_content": null,
            "align_items": null,
            "align_self": null,
            "border": null,
            "bottom": null,
            "display": null,
            "flex": null,
            "flex_flow": null,
            "grid_area": null,
            "grid_auto_columns": null,
            "grid_auto_flow": null,
            "grid_auto_rows": null,
            "grid_column": null,
            "grid_gap": null,
            "grid_row": null,
            "grid_template_areas": null,
            "grid_template_columns": null,
            "grid_template_rows": null,
            "height": null,
            "justify_content": null,
            "justify_items": null,
            "left": null,
            "margin": null,
            "max_height": null,
            "max_width": null,
            "min_height": null,
            "min_width": null,
            "object_fit": null,
            "object_position": null,
            "order": null,
            "overflow": null,
            "overflow_x": null,
            "overflow_y": null,
            "padding": null,
            "right": null,
            "top": null,
            "visibility": null,
            "width": null
          }
        },
        "9a6c1dc0dfa44896b943405468d9e3fc": {
          "model_module": "@jupyter-widgets/controls",
          "model_name": "HBoxModel",
          "model_module_version": "1.5.0",
          "state": {
            "_dom_classes": [],
            "_model_module": "@jupyter-widgets/controls",
            "_model_module_version": "1.5.0",
            "_model_name": "HBoxModel",
            "_view_count": null,
            "_view_module": "@jupyter-widgets/controls",
            "_view_module_version": "1.5.0",
            "_view_name": "HBoxView",
            "box_style": "",
            "children": [
              "IPY_MODEL_9d90352bd7264445bcf98250158f59c8",
              "IPY_MODEL_73bfca7722cd43b8884cf3207078c498",
              "IPY_MODEL_fbdb2850a28345a3b5062eedd694249c"
            ],
            "layout": "IPY_MODEL_2da7292167e3424f99ee4d2ee32a9eb7"
          }
        },
        "3bff01edc27848618b84001ab8a8d8f4": {
          "model_module": "@jupyter-widgets/controls",
          "model_name": "HBoxModel",
          "model_module_version": "1.5.0",
          "state": {
            "_dom_classes": [],
            "_model_module": "@jupyter-widgets/controls",
            "_model_module_version": "1.5.0",
            "_model_name": "HBoxModel",
            "_view_count": null,
            "_view_module": "@jupyter-widgets/controls",
            "_view_module_version": "1.5.0",
            "_view_name": "HBoxView",
            "box_style": "",
            "children": [
              "IPY_MODEL_8c07057d4b7649e4a81c9afe04f921cc",
              "IPY_MODEL_ed2b5b6cdf14453d9aa0194ae69e8200"
            ],
            "layout": "IPY_MODEL_2a5a84e66924474780870f3becc56152"
          }
        },
        "609f620e854c45ca8151aa8c98292c3a": {
          "model_module": "@jupyter-widgets/controls",
          "model_name": "LabelModel",
          "model_module_version": "1.5.0",
          "state": {
            "_dom_classes": [],
            "_model_module": "@jupyter-widgets/controls",
            "_model_module_version": "1.5.0",
            "_model_name": "LabelModel",
            "_view_count": null,
            "_view_module": "@jupyter-widgets/controls",
            "_view_module_version": "1.5.0",
            "_view_name": "LabelView",
            "description": "",
            "description_tooltip": null,
            "layout": "IPY_MODEL_90a2e3fd802d46bd89f71c7c4c057dfc",
            "placeholder": "​",
            "style": "IPY_MODEL_f590a6484bd34731965dd58953a1089c",
            "value": "Thanks for your feedback!"
          }
        },
        "43c6d6ab65d948e197c5fd131ce01776": {
          "model_module": "@jupyter-widgets/base",
          "model_name": "LayoutModel",
          "model_module_version": "1.2.0",
          "state": {
            "_model_module": "@jupyter-widgets/base",
            "_model_module_version": "1.2.0",
            "_model_name": "LayoutModel",
            "_view_count": null,
            "_view_module": "@jupyter-widgets/base",
            "_view_module_version": "1.2.0",
            "_view_name": "LayoutView",
            "align_content": null,
            "align_items": null,
            "align_self": null,
            "border": null,
            "bottom": null,
            "display": null,
            "flex": null,
            "flex_flow": null,
            "grid_area": null,
            "grid_auto_columns": null,
            "grid_auto_flow": null,
            "grid_auto_rows": null,
            "grid_column": null,
            "grid_gap": null,
            "grid_row": null,
            "grid_template_areas": null,
            "grid_template_columns": null,
            "grid_template_rows": null,
            "height": null,
            "justify_content": null,
            "justify_items": null,
            "left": null,
            "margin": null,
            "max_height": null,
            "max_width": null,
            "min_height": null,
            "min_width": null,
            "object_fit": null,
            "object_position": null,
            "order": null,
            "overflow": null,
            "overflow_x": null,
            "overflow_y": null,
            "padding": null,
            "right": null,
            "top": null,
            "visibility": null,
            "width": null
          }
        },
        "9d90352bd7264445bcf98250158f59c8": {
          "model_module": "@jupyter-widgets/controls",
          "model_name": "ButtonModel",
          "model_module_version": "1.5.0",
          "state": {
            "_dom_classes": [
              "happy"
            ],
            "_model_module": "@jupyter-widgets/controls",
            "_model_module_version": "1.5.0",
            "_model_name": "ButtonModel",
            "_view_count": null,
            "_view_module": "@jupyter-widgets/controls",
            "_view_module_version": "1.5.0",
            "_view_name": "ButtonView",
            "button_style": "",
            "description": "🙂",
            "disabled": false,
            "icon": "",
            "layout": "IPY_MODEL_be439089d839438da3920b35e7ecb2c3",
            "style": "IPY_MODEL_b5e6ca4857004739909d3ae82856595b",
            "tooltip": "happy"
          }
        },
        "73bfca7722cd43b8884cf3207078c498": {
          "model_module": "@jupyter-widgets/controls",
          "model_name": "ButtonModel",
          "model_module_version": "1.5.0",
          "state": {
            "_dom_classes": [
              "medium"
            ],
            "_model_module": "@jupyter-widgets/controls",
            "_model_module_version": "1.5.0",
            "_model_name": "ButtonModel",
            "_view_count": null,
            "_view_module": "@jupyter-widgets/controls",
            "_view_module_version": "1.5.0",
            "_view_name": "ButtonView",
            "button_style": "",
            "description": "😐",
            "disabled": false,
            "icon": "",
            "layout": "IPY_MODEL_7cbda1e32f4a423b82074e65ed7a7290",
            "style": "IPY_MODEL_2359b3184c7942eabeb4b4c4ef5d90f9",
            "tooltip": "medium"
          }
        },
        "fbdb2850a28345a3b5062eedd694249c": {
          "model_module": "@jupyter-widgets/controls",
          "model_name": "ButtonModel",
          "model_module_version": "1.5.0",
          "state": {
            "_dom_classes": [
              "sad"
            ],
            "_model_module": "@jupyter-widgets/controls",
            "_model_module_version": "1.5.0",
            "_model_name": "ButtonModel",
            "_view_count": null,
            "_view_module": "@jupyter-widgets/controls",
            "_view_module_version": "1.5.0",
            "_view_name": "ButtonView",
            "button_style": "",
            "description": "🙁",
            "disabled": false,
            "icon": "",
            "layout": "IPY_MODEL_bab2533501aa409ea5222ae4d34aebf0",
            "style": "IPY_MODEL_bf8f929829b8403b8e0419aef1ad7567",
            "tooltip": "sad"
          }
        },
        "2da7292167e3424f99ee4d2ee32a9eb7": {
          "model_module": "@jupyter-widgets/base",
          "model_name": "LayoutModel",
          "model_module_version": "1.2.0",
          "state": {
            "_model_module": "@jupyter-widgets/base",
            "_model_module_version": "1.2.0",
            "_model_name": "LayoutModel",
            "_view_count": null,
            "_view_module": "@jupyter-widgets/base",
            "_view_module_version": "1.2.0",
            "_view_name": "LayoutView",
            "align_content": null,
            "align_items": null,
            "align_self": null,
            "border": null,
            "bottom": null,
            "display": null,
            "flex": null,
            "flex_flow": null,
            "grid_area": null,
            "grid_auto_columns": null,
            "grid_auto_flow": null,
            "grid_auto_rows": null,
            "grid_column": null,
            "grid_gap": null,
            "grid_row": null,
            "grid_template_areas": null,
            "grid_template_columns": null,
            "grid_template_rows": null,
            "height": null,
            "justify_content": null,
            "justify_items": null,
            "left": null,
            "margin": null,
            "max_height": null,
            "max_width": null,
            "min_height": null,
            "min_width": null,
            "object_fit": null,
            "object_position": null,
            "order": null,
            "overflow": null,
            "overflow_x": null,
            "overflow_y": null,
            "padding": null,
            "right": null,
            "top": null,
            "visibility": null,
            "width": null
          }
        },
        "8c07057d4b7649e4a81c9afe04f921cc": {
          "model_module": "@jupyter-widgets/controls",
          "model_name": "TextareaModel",
          "model_module_version": "1.5.0",
          "state": {
            "_dom_classes": [],
            "_model_module": "@jupyter-widgets/controls",
            "_model_module_version": "1.5.0",
            "_model_name": "TextareaModel",
            "_view_count": null,
            "_view_module": "@jupyter-widgets/controls",
            "_view_module_version": "1.5.0",
            "_view_name": "TextareaView",
            "continuous_update": true,
            "description": "",
            "description_tooltip": null,
            "disabled": false,
            "layout": "IPY_MODEL_ae08a62011e144e6bc418bc61599b50f",
            "placeholder": "We want your feedback!",
            "rows": null,
            "style": "IPY_MODEL_df3f5a7028eb4c03aa0f1737de145e32",
            "value": ""
          }
        },
        "ed2b5b6cdf14453d9aa0194ae69e8200": {
          "model_module": "@jupyter-widgets/controls",
          "model_name": "ButtonModel",
          "model_module_version": "1.5.0",
          "state": {
            "_dom_classes": [],
            "_model_module": "@jupyter-widgets/controls",
            "_model_module_version": "1.5.0",
            "_model_name": "ButtonModel",
            "_view_count": null,
            "_view_module": "@jupyter-widgets/controls",
            "_view_module_version": "1.5.0",
            "_view_name": "ButtonView",
            "button_style": "",
            "description": "Submit",
            "disabled": false,
            "icon": "",
            "layout": "IPY_MODEL_a6e4f9b5e59a466f83a41ac39b13a851",
            "style": "IPY_MODEL_2648b372affe4066ab7b576ff86e4e4a",
            "tooltip": ""
          }
        },
        "2a5a84e66924474780870f3becc56152": {
          "model_module": "@jupyter-widgets/base",
          "model_name": "LayoutModel",
          "model_module_version": "1.2.0",
          "state": {
            "_model_module": "@jupyter-widgets/base",
            "_model_module_version": "1.2.0",
            "_model_name": "LayoutModel",
            "_view_count": null,
            "_view_module": "@jupyter-widgets/base",
            "_view_module_version": "1.2.0",
            "_view_name": "LayoutView",
            "align_content": null,
            "align_items": null,
            "align_self": null,
            "border": null,
            "bottom": null,
            "display": "none",
            "flex": null,
            "flex_flow": null,
            "grid_area": null,
            "grid_auto_columns": null,
            "grid_auto_flow": null,
            "grid_auto_rows": null,
            "grid_column": null,
            "grid_gap": null,
            "grid_row": null,
            "grid_template_areas": null,
            "grid_template_columns": null,
            "grid_template_rows": null,
            "height": null,
            "justify_content": null,
            "justify_items": null,
            "left": null,
            "margin": null,
            "max_height": null,
            "max_width": null,
            "min_height": null,
            "min_width": null,
            "object_fit": null,
            "object_position": null,
            "order": null,
            "overflow": null,
            "overflow_x": null,
            "overflow_y": null,
            "padding": null,
            "right": null,
            "top": null,
            "visibility": null,
            "width": null
          }
        },
        "90a2e3fd802d46bd89f71c7c4c057dfc": {
          "model_module": "@jupyter-widgets/base",
          "model_name": "LayoutModel",
          "model_module_version": "1.2.0",
          "state": {
            "_model_module": "@jupyter-widgets/base",
            "_model_module_version": "1.2.0",
            "_model_name": "LayoutModel",
            "_view_count": null,
            "_view_module": "@jupyter-widgets/base",
            "_view_module_version": "1.2.0",
            "_view_name": "LayoutView",
            "align_content": null,
            "align_items": null,
            "align_self": null,
            "border": null,
            "bottom": null,
            "display": "none",
            "flex": null,
            "flex_flow": null,
            "grid_area": null,
            "grid_auto_columns": null,
            "grid_auto_flow": null,
            "grid_auto_rows": null,
            "grid_column": null,
            "grid_gap": null,
            "grid_row": null,
            "grid_template_areas": null,
            "grid_template_columns": null,
            "grid_template_rows": null,
            "height": null,
            "justify_content": null,
            "justify_items": null,
            "left": null,
            "margin": null,
            "max_height": null,
            "max_width": null,
            "min_height": null,
            "min_width": null,
            "object_fit": null,
            "object_position": null,
            "order": null,
            "overflow": null,
            "overflow_x": null,
            "overflow_y": null,
            "padding": null,
            "right": null,
            "top": null,
            "visibility": null,
            "width": null
          }
        },
        "f590a6484bd34731965dd58953a1089c": {
          "model_module": "@jupyter-widgets/controls",
          "model_name": "DescriptionStyleModel",
          "model_module_version": "1.5.0",
          "state": {
            "_model_module": "@jupyter-widgets/controls",
            "_model_module_version": "1.5.0",
            "_model_name": "DescriptionStyleModel",
            "_view_count": null,
            "_view_module": "@jupyter-widgets/base",
            "_view_module_version": "1.2.0",
            "_view_name": "StyleView",
            "description_width": ""
          }
        },
        "be439089d839438da3920b35e7ecb2c3": {
          "model_module": "@jupyter-widgets/base",
          "model_name": "LayoutModel",
          "model_module_version": "1.2.0",
          "state": {
            "_model_module": "@jupyter-widgets/base",
            "_model_module_version": "1.2.0",
            "_model_name": "LayoutModel",
            "_view_count": null,
            "_view_module": "@jupyter-widgets/base",
            "_view_module_version": "1.2.0",
            "_view_name": "LayoutView",
            "align_content": null,
            "align_items": null,
            "align_self": null,
            "border": null,
            "bottom": null,
            "display": null,
            "flex": null,
            "flex_flow": null,
            "grid_area": null,
            "grid_auto_columns": null,
            "grid_auto_flow": null,
            "grid_auto_rows": null,
            "grid_column": null,
            "grid_gap": null,
            "grid_row": null,
            "grid_template_areas": null,
            "grid_template_columns": null,
            "grid_template_rows": null,
            "height": "auto",
            "justify_content": null,
            "justify_items": null,
            "left": null,
            "margin": null,
            "max_height": null,
            "max_width": null,
            "min_height": null,
            "min_width": null,
            "object_fit": null,
            "object_position": null,
            "order": null,
            "overflow": null,
            "overflow_x": null,
            "overflow_y": null,
            "padding": "0.5em",
            "right": null,
            "top": null,
            "visibility": null,
            "width": "auto"
          }
        },
        "b5e6ca4857004739909d3ae82856595b": {
          "model_module": "@jupyter-widgets/controls",
          "model_name": "ButtonStyleModel",
          "model_module_version": "1.5.0",
          "state": {
            "_model_module": "@jupyter-widgets/controls",
            "_model_module_version": "1.5.0",
            "_model_name": "ButtonStyleModel",
            "_view_count": null,
            "_view_module": "@jupyter-widgets/base",
            "_view_module_version": "1.2.0",
            "_view_name": "StyleView",
            "button_color": "#aaffaa",
            "font_weight": ""
          }
        },
        "7cbda1e32f4a423b82074e65ed7a7290": {
          "model_module": "@jupyter-widgets/base",
          "model_name": "LayoutModel",
          "model_module_version": "1.2.0",
          "state": {
            "_model_module": "@jupyter-widgets/base",
            "_model_module_version": "1.2.0",
            "_model_name": "LayoutModel",
            "_view_count": null,
            "_view_module": "@jupyter-widgets/base",
            "_view_module_version": "1.2.0",
            "_view_name": "LayoutView",
            "align_content": null,
            "align_items": null,
            "align_self": null,
            "border": null,
            "bottom": null,
            "display": null,
            "flex": null,
            "flex_flow": null,
            "grid_area": null,
            "grid_auto_columns": null,
            "grid_auto_flow": null,
            "grid_auto_rows": null,
            "grid_column": null,
            "grid_gap": null,
            "grid_row": null,
            "grid_template_areas": null,
            "grid_template_columns": null,
            "grid_template_rows": null,
            "height": "auto",
            "justify_content": null,
            "justify_items": null,
            "left": null,
            "margin": null,
            "max_height": null,
            "max_width": null,
            "min_height": null,
            "min_width": null,
            "object_fit": null,
            "object_position": null,
            "order": null,
            "overflow": null,
            "overflow_x": null,
            "overflow_y": null,
            "padding": "0.5em",
            "right": null,
            "top": null,
            "visibility": null,
            "width": "auto"
          }
        },
        "2359b3184c7942eabeb4b4c4ef5d90f9": {
          "model_module": "@jupyter-widgets/controls",
          "model_name": "ButtonStyleModel",
          "model_module_version": "1.5.0",
          "state": {
            "_model_module": "@jupyter-widgets/controls",
            "_model_module_version": "1.5.0",
            "_model_name": "ButtonStyleModel",
            "_view_count": null,
            "_view_module": "@jupyter-widgets/base",
            "_view_module_version": "1.2.0",
            "_view_name": "StyleView",
            "button_color": "#dddd77",
            "font_weight": ""
          }
        },
        "bab2533501aa409ea5222ae4d34aebf0": {
          "model_module": "@jupyter-widgets/base",
          "model_name": "LayoutModel",
          "model_module_version": "1.2.0",
          "state": {
            "_model_module": "@jupyter-widgets/base",
            "_model_module_version": "1.2.0",
            "_model_name": "LayoutModel",
            "_view_count": null,
            "_view_module": "@jupyter-widgets/base",
            "_view_module_version": "1.2.0",
            "_view_name": "LayoutView",
            "align_content": null,
            "align_items": null,
            "align_self": null,
            "border": null,
            "bottom": null,
            "display": null,
            "flex": null,
            "flex_flow": null,
            "grid_area": null,
            "grid_auto_columns": null,
            "grid_auto_flow": null,
            "grid_auto_rows": null,
            "grid_column": null,
            "grid_gap": null,
            "grid_row": null,
            "grid_template_areas": null,
            "grid_template_columns": null,
            "grid_template_rows": null,
            "height": "auto",
            "justify_content": null,
            "justify_items": null,
            "left": null,
            "margin": null,
            "max_height": null,
            "max_width": null,
            "min_height": null,
            "min_width": null,
            "object_fit": null,
            "object_position": null,
            "order": null,
            "overflow": null,
            "overflow_x": null,
            "overflow_y": null,
            "padding": "0.5em",
            "right": null,
            "top": null,
            "visibility": null,
            "width": "auto"
          }
        },
        "bf8f929829b8403b8e0419aef1ad7567": {
          "model_module": "@jupyter-widgets/controls",
          "model_name": "ButtonStyleModel",
          "model_module_version": "1.5.0",
          "state": {
            "_model_module": "@jupyter-widgets/controls",
            "_model_module_version": "1.5.0",
            "_model_name": "ButtonStyleModel",
            "_view_count": null,
            "_view_module": "@jupyter-widgets/base",
            "_view_module_version": "1.2.0",
            "_view_name": "StyleView",
            "button_color": "#ffaaaa",
            "font_weight": ""
          }
        },
        "ae08a62011e144e6bc418bc61599b50f": {
          "model_module": "@jupyter-widgets/base",
          "model_name": "LayoutModel",
          "model_module_version": "1.2.0",
          "state": {
            "_model_module": "@jupyter-widgets/base",
            "_model_module_version": "1.2.0",
            "_model_name": "LayoutModel",
            "_view_count": null,
            "_view_module": "@jupyter-widgets/base",
            "_view_module_version": "1.2.0",
            "_view_name": "LayoutView",
            "align_content": null,
            "align_items": null,
            "align_self": null,
            "border": null,
            "bottom": null,
            "display": null,
            "flex": null,
            "flex_flow": null,
            "grid_area": null,
            "grid_auto_columns": null,
            "grid_auto_flow": null,
            "grid_auto_rows": null,
            "grid_column": null,
            "grid_gap": null,
            "grid_row": null,
            "grid_template_areas": null,
            "grid_template_columns": null,
            "grid_template_rows": null,
            "height": "auto",
            "justify_content": null,
            "justify_items": null,
            "left": null,
            "margin": null,
            "max_height": null,
            "max_width": null,
            "min_height": null,
            "min_width": null,
            "object_fit": null,
            "object_position": null,
            "order": null,
            "overflow": null,
            "overflow_x": null,
            "overflow_y": null,
            "padding": null,
            "right": null,
            "top": null,
            "visibility": null,
            "width": "auto"
          }
        },
        "df3f5a7028eb4c03aa0f1737de145e32": {
          "model_module": "@jupyter-widgets/controls",
          "model_name": "DescriptionStyleModel",
          "model_module_version": "1.5.0",
          "state": {
            "_model_module": "@jupyter-widgets/controls",
            "_model_module_version": "1.5.0",
            "_model_name": "DescriptionStyleModel",
            "_view_count": null,
            "_view_module": "@jupyter-widgets/base",
            "_view_module_version": "1.2.0",
            "_view_name": "StyleView",
            "description_width": ""
          }
        },
        "a6e4f9b5e59a466f83a41ac39b13a851": {
          "model_module": "@jupyter-widgets/base",
          "model_name": "LayoutModel",
          "model_module_version": "1.2.0",
          "state": {
            "_model_module": "@jupyter-widgets/base",
            "_model_module_version": "1.2.0",
            "_model_name": "LayoutModel",
            "_view_count": null,
            "_view_module": "@jupyter-widgets/base",
            "_view_module_version": "1.2.0",
            "_view_name": "LayoutView",
            "align_content": null,
            "align_items": null,
            "align_self": null,
            "border": null,
            "bottom": null,
            "display": null,
            "flex": null,
            "flex_flow": null,
            "grid_area": null,
            "grid_auto_columns": null,
            "grid_auto_flow": null,
            "grid_auto_rows": null,
            "grid_column": null,
            "grid_gap": null,
            "grid_row": null,
            "grid_template_areas": null,
            "grid_template_columns": null,
            "grid_template_rows": null,
            "height": "auto",
            "justify_content": null,
            "justify_items": null,
            "left": null,
            "margin": null,
            "max_height": null,
            "max_width": null,
            "min_height": null,
            "min_width": null,
            "object_fit": null,
            "object_position": null,
            "order": null,
            "overflow": null,
            "overflow_x": null,
            "overflow_y": null,
            "padding": null,
            "right": null,
            "top": null,
            "visibility": null,
            "width": "auto"
          }
        },
        "2648b372affe4066ab7b576ff86e4e4a": {
          "model_module": "@jupyter-widgets/controls",
          "model_name": "ButtonStyleModel",
          "model_module_version": "1.5.0",
          "state": {
            "_model_module": "@jupyter-widgets/controls",
            "_model_module_version": "1.5.0",
            "_model_name": "ButtonStyleModel",
            "_view_count": null,
            "_view_module": "@jupyter-widgets/base",
            "_view_module_version": "1.2.0",
            "_view_name": "StyleView",
            "button_color": null,
            "font_weight": ""
          }
        },
        "d7a6d5ad29db443b838abbd5ddf838d3": {
          "model_module": "@jupyter-widgets/controls",
          "model_name": "VBoxModel",
          "model_module_version": "1.5.0",
          "state": {
            "_dom_classes": [],
            "_model_module": "@jupyter-widgets/controls",
            "_model_module_version": "1.5.0",
            "_model_name": "VBoxModel",
            "_view_count": null,
            "_view_module": "@jupyter-widgets/controls",
            "_view_module_version": "1.5.0",
            "_view_name": "VBoxView",
            "box_style": "",
            "children": [
              "IPY_MODEL_e607f1c19e304e878fb1ca634bf59394"
            ],
            "layout": "IPY_MODEL_076131e812f54282b5e69109aa59ebcd"
          }
        },
        "e607f1c19e304e878fb1ca634bf59394": {
          "model_module": "@jupyter-widgets/controls",
          "model_name": "VBoxModel",
          "model_module_version": "1.5.0",
          "state": {
            "_dom_classes": [],
            "_model_module": "@jupyter-widgets/controls",
            "_model_module_version": "1.5.0",
            "_model_name": "VBoxModel",
            "_view_count": null,
            "_view_module": "@jupyter-widgets/controls",
            "_view_module_version": "1.5.0",
            "_view_name": "VBoxView",
            "box_style": "",
            "children": [
              "IPY_MODEL_dc46535c138e48f7955fca4b653450d3",
              "IPY_MODEL_29a3eb3fde20489abac97a5feb76742a",
              "IPY_MODEL_47ac642bfe954b16a007f82c198c47ea"
            ],
            "layout": "IPY_MODEL_5918fe6ce7884db2a99b196018ebb70d"
          }
        },
        "076131e812f54282b5e69109aa59ebcd": {
          "model_module": "@jupyter-widgets/base",
          "model_name": "LayoutModel",
          "model_module_version": "1.2.0",
          "state": {
            "_model_module": "@jupyter-widgets/base",
            "_model_module_version": "1.2.0",
            "_model_name": "LayoutModel",
            "_view_count": null,
            "_view_module": "@jupyter-widgets/base",
            "_view_module_version": "1.2.0",
            "_view_name": "LayoutView",
            "align_content": null,
            "align_items": null,
            "align_self": null,
            "border": null,
            "bottom": null,
            "display": null,
            "flex": null,
            "flex_flow": null,
            "grid_area": null,
            "grid_auto_columns": null,
            "grid_auto_flow": null,
            "grid_auto_rows": null,
            "grid_column": null,
            "grid_gap": null,
            "grid_row": null,
            "grid_template_areas": null,
            "grid_template_columns": null,
            "grid_template_rows": null,
            "height": null,
            "justify_content": null,
            "justify_items": null,
            "left": null,
            "margin": null,
            "max_height": null,
            "max_width": null,
            "min_height": null,
            "min_width": null,
            "object_fit": null,
            "object_position": null,
            "order": null,
            "overflow": null,
            "overflow_x": null,
            "overflow_y": null,
            "padding": null,
            "right": null,
            "top": null,
            "visibility": null,
            "width": null
          }
        },
        "dc46535c138e48f7955fca4b653450d3": {
          "model_module": "@jupyter-widgets/controls",
          "model_name": "HBoxModel",
          "model_module_version": "1.5.0",
          "state": {
            "_dom_classes": [],
            "_model_module": "@jupyter-widgets/controls",
            "_model_module_version": "1.5.0",
            "_model_name": "HBoxModel",
            "_view_count": null,
            "_view_module": "@jupyter-widgets/controls",
            "_view_module_version": "1.5.0",
            "_view_name": "HBoxView",
            "box_style": "",
            "children": [
              "IPY_MODEL_634b95f1738b4868b367c044f9572d21",
              "IPY_MODEL_49a20f9727fc461ebf4d93903d798fb7",
              "IPY_MODEL_d771b59061e943f3b9d9a7c23e419480"
            ],
            "layout": "IPY_MODEL_aef36f1f43e540d88859a566a2b88d58"
          }
        },
        "29a3eb3fde20489abac97a5feb76742a": {
          "model_module": "@jupyter-widgets/controls",
          "model_name": "HBoxModel",
          "model_module_version": "1.5.0",
          "state": {
            "_dom_classes": [],
            "_model_module": "@jupyter-widgets/controls",
            "_model_module_version": "1.5.0",
            "_model_name": "HBoxModel",
            "_view_count": null,
            "_view_module": "@jupyter-widgets/controls",
            "_view_module_version": "1.5.0",
            "_view_name": "HBoxView",
            "box_style": "",
            "children": [
              "IPY_MODEL_f61d8a8931d34962adaba90eb7a2f66c",
              "IPY_MODEL_eb4bfac24caf406f8f283ac05b9eeaa1"
            ],
            "layout": "IPY_MODEL_c8888bdcb2b2418da531bc9b74850204"
          }
        },
        "47ac642bfe954b16a007f82c198c47ea": {
          "model_module": "@jupyter-widgets/controls",
          "model_name": "LabelModel",
          "model_module_version": "1.5.0",
          "state": {
            "_dom_classes": [],
            "_model_module": "@jupyter-widgets/controls",
            "_model_module_version": "1.5.0",
            "_model_name": "LabelModel",
            "_view_count": null,
            "_view_module": "@jupyter-widgets/controls",
            "_view_module_version": "1.5.0",
            "_view_name": "LabelView",
            "description": "",
            "description_tooltip": null,
            "layout": "IPY_MODEL_2ed5ad0e08d54200893afe65ac8b1af9",
            "placeholder": "​",
            "style": "IPY_MODEL_a30877ddcb8e49ef9849d046c3d60d59",
            "value": "Thanks for your feedback!"
          }
        },
        "5918fe6ce7884db2a99b196018ebb70d": {
          "model_module": "@jupyter-widgets/base",
          "model_name": "LayoutModel",
          "model_module_version": "1.2.0",
          "state": {
            "_model_module": "@jupyter-widgets/base",
            "_model_module_version": "1.2.0",
            "_model_name": "LayoutModel",
            "_view_count": null,
            "_view_module": "@jupyter-widgets/base",
            "_view_module_version": "1.2.0",
            "_view_name": "LayoutView",
            "align_content": null,
            "align_items": null,
            "align_self": null,
            "border": null,
            "bottom": null,
            "display": null,
            "flex": null,
            "flex_flow": null,
            "grid_area": null,
            "grid_auto_columns": null,
            "grid_auto_flow": null,
            "grid_auto_rows": null,
            "grid_column": null,
            "grid_gap": null,
            "grid_row": null,
            "grid_template_areas": null,
            "grid_template_columns": null,
            "grid_template_rows": null,
            "height": null,
            "justify_content": null,
            "justify_items": null,
            "left": null,
            "margin": null,
            "max_height": null,
            "max_width": null,
            "min_height": null,
            "min_width": null,
            "object_fit": null,
            "object_position": null,
            "order": null,
            "overflow": null,
            "overflow_x": null,
            "overflow_y": null,
            "padding": null,
            "right": null,
            "top": null,
            "visibility": null,
            "width": null
          }
        },
        "634b95f1738b4868b367c044f9572d21": {
          "model_module": "@jupyter-widgets/controls",
          "model_name": "ButtonModel",
          "model_module_version": "1.5.0",
          "state": {
            "_dom_classes": [
              "happy"
            ],
            "_model_module": "@jupyter-widgets/controls",
            "_model_module_version": "1.5.0",
            "_model_name": "ButtonModel",
            "_view_count": null,
            "_view_module": "@jupyter-widgets/controls",
            "_view_module_version": "1.5.0",
            "_view_name": "ButtonView",
            "button_style": "",
            "description": "🙂",
            "disabled": false,
            "icon": "",
            "layout": "IPY_MODEL_cef60f6c683d4a6a9b54e3164d520576",
            "style": "IPY_MODEL_0f0514b10a9e4512b8401850ef0bfb8e",
            "tooltip": "happy"
          }
        },
        "49a20f9727fc461ebf4d93903d798fb7": {
          "model_module": "@jupyter-widgets/controls",
          "model_name": "ButtonModel",
          "model_module_version": "1.5.0",
          "state": {
            "_dom_classes": [
              "medium"
            ],
            "_model_module": "@jupyter-widgets/controls",
            "_model_module_version": "1.5.0",
            "_model_name": "ButtonModel",
            "_view_count": null,
            "_view_module": "@jupyter-widgets/controls",
            "_view_module_version": "1.5.0",
            "_view_name": "ButtonView",
            "button_style": "",
            "description": "😐",
            "disabled": false,
            "icon": "",
            "layout": "IPY_MODEL_79fe7620eee64c04bcf6cc1ba9e01ea0",
            "style": "IPY_MODEL_242dbcd47b134f2fa73956337d48d036",
            "tooltip": "medium"
          }
        },
        "d771b59061e943f3b9d9a7c23e419480": {
          "model_module": "@jupyter-widgets/controls",
          "model_name": "ButtonModel",
          "model_module_version": "1.5.0",
          "state": {
            "_dom_classes": [
              "sad"
            ],
            "_model_module": "@jupyter-widgets/controls",
            "_model_module_version": "1.5.0",
            "_model_name": "ButtonModel",
            "_view_count": null,
            "_view_module": "@jupyter-widgets/controls",
            "_view_module_version": "1.5.0",
            "_view_name": "ButtonView",
            "button_style": "",
            "description": "🙁",
            "disabled": false,
            "icon": "",
            "layout": "IPY_MODEL_72dc25dfaee243d2a519cfb322166dcb",
            "style": "IPY_MODEL_983c3baabdcf4329b0a2297e65d2fdbd",
            "tooltip": "sad"
          }
        },
        "aef36f1f43e540d88859a566a2b88d58": {
          "model_module": "@jupyter-widgets/base",
          "model_name": "LayoutModel",
          "model_module_version": "1.2.0",
          "state": {
            "_model_module": "@jupyter-widgets/base",
            "_model_module_version": "1.2.0",
            "_model_name": "LayoutModel",
            "_view_count": null,
            "_view_module": "@jupyter-widgets/base",
            "_view_module_version": "1.2.0",
            "_view_name": "LayoutView",
            "align_content": null,
            "align_items": null,
            "align_self": null,
            "border": null,
            "bottom": null,
            "display": null,
            "flex": null,
            "flex_flow": null,
            "grid_area": null,
            "grid_auto_columns": null,
            "grid_auto_flow": null,
            "grid_auto_rows": null,
            "grid_column": null,
            "grid_gap": null,
            "grid_row": null,
            "grid_template_areas": null,
            "grid_template_columns": null,
            "grid_template_rows": null,
            "height": null,
            "justify_content": null,
            "justify_items": null,
            "left": null,
            "margin": null,
            "max_height": null,
            "max_width": null,
            "min_height": null,
            "min_width": null,
            "object_fit": null,
            "object_position": null,
            "order": null,
            "overflow": null,
            "overflow_x": null,
            "overflow_y": null,
            "padding": null,
            "right": null,
            "top": null,
            "visibility": null,
            "width": null
          }
        },
        "f61d8a8931d34962adaba90eb7a2f66c": {
          "model_module": "@jupyter-widgets/controls",
          "model_name": "TextareaModel",
          "model_module_version": "1.5.0",
          "state": {
            "_dom_classes": [],
            "_model_module": "@jupyter-widgets/controls",
            "_model_module_version": "1.5.0",
            "_model_name": "TextareaModel",
            "_view_count": null,
            "_view_module": "@jupyter-widgets/controls",
            "_view_module_version": "1.5.0",
            "_view_name": "TextareaView",
            "continuous_update": true,
            "description": "",
            "description_tooltip": null,
            "disabled": false,
            "layout": "IPY_MODEL_aaeb2f513bfa4a43b0975da2328b0baa",
            "placeholder": "We want your feedback!",
            "rows": null,
            "style": "IPY_MODEL_c470fe8d1ef34e81a26506c3f1f9699c",
            "value": ""
          }
        },
        "eb4bfac24caf406f8f283ac05b9eeaa1": {
          "model_module": "@jupyter-widgets/controls",
          "model_name": "ButtonModel",
          "model_module_version": "1.5.0",
          "state": {
            "_dom_classes": [],
            "_model_module": "@jupyter-widgets/controls",
            "_model_module_version": "1.5.0",
            "_model_name": "ButtonModel",
            "_view_count": null,
            "_view_module": "@jupyter-widgets/controls",
            "_view_module_version": "1.5.0",
            "_view_name": "ButtonView",
            "button_style": "",
            "description": "Submit",
            "disabled": false,
            "icon": "",
            "layout": "IPY_MODEL_dc9c73b63cdc4f58bd2a351df3f8a2de",
            "style": "IPY_MODEL_07375837a20d4c01afece1af07b0f26f",
            "tooltip": ""
          }
        },
        "c8888bdcb2b2418da531bc9b74850204": {
          "model_module": "@jupyter-widgets/base",
          "model_name": "LayoutModel",
          "model_module_version": "1.2.0",
          "state": {
            "_model_module": "@jupyter-widgets/base",
            "_model_module_version": "1.2.0",
            "_model_name": "LayoutModel",
            "_view_count": null,
            "_view_module": "@jupyter-widgets/base",
            "_view_module_version": "1.2.0",
            "_view_name": "LayoutView",
            "align_content": null,
            "align_items": null,
            "align_self": null,
            "border": null,
            "bottom": null,
            "display": "none",
            "flex": null,
            "flex_flow": null,
            "grid_area": null,
            "grid_auto_columns": null,
            "grid_auto_flow": null,
            "grid_auto_rows": null,
            "grid_column": null,
            "grid_gap": null,
            "grid_row": null,
            "grid_template_areas": null,
            "grid_template_columns": null,
            "grid_template_rows": null,
            "height": null,
            "justify_content": null,
            "justify_items": null,
            "left": null,
            "margin": null,
            "max_height": null,
            "max_width": null,
            "min_height": null,
            "min_width": null,
            "object_fit": null,
            "object_position": null,
            "order": null,
            "overflow": null,
            "overflow_x": null,
            "overflow_y": null,
            "padding": null,
            "right": null,
            "top": null,
            "visibility": null,
            "width": null
          }
        },
        "2ed5ad0e08d54200893afe65ac8b1af9": {
          "model_module": "@jupyter-widgets/base",
          "model_name": "LayoutModel",
          "model_module_version": "1.2.0",
          "state": {
            "_model_module": "@jupyter-widgets/base",
            "_model_module_version": "1.2.0",
            "_model_name": "LayoutModel",
            "_view_count": null,
            "_view_module": "@jupyter-widgets/base",
            "_view_module_version": "1.2.0",
            "_view_name": "LayoutView",
            "align_content": null,
            "align_items": null,
            "align_self": null,
            "border": null,
            "bottom": null,
            "display": "block",
            "flex": null,
            "flex_flow": null,
            "grid_area": null,
            "grid_auto_columns": null,
            "grid_auto_flow": null,
            "grid_auto_rows": null,
            "grid_column": null,
            "grid_gap": null,
            "grid_row": null,
            "grid_template_areas": null,
            "grid_template_columns": null,
            "grid_template_rows": null,
            "height": null,
            "justify_content": null,
            "justify_items": null,
            "left": null,
            "margin": null,
            "max_height": null,
            "max_width": null,
            "min_height": null,
            "min_width": null,
            "object_fit": null,
            "object_position": null,
            "order": null,
            "overflow": null,
            "overflow_x": null,
            "overflow_y": null,
            "padding": null,
            "right": null,
            "top": null,
            "visibility": null,
            "width": null
          }
        },
        "a30877ddcb8e49ef9849d046c3d60d59": {
          "model_module": "@jupyter-widgets/controls",
          "model_name": "DescriptionStyleModel",
          "model_module_version": "1.5.0",
          "state": {
            "_model_module": "@jupyter-widgets/controls",
            "_model_module_version": "1.5.0",
            "_model_name": "DescriptionStyleModel",
            "_view_count": null,
            "_view_module": "@jupyter-widgets/base",
            "_view_module_version": "1.2.0",
            "_view_name": "StyleView",
            "description_width": ""
          }
        },
        "cef60f6c683d4a6a9b54e3164d520576": {
          "model_module": "@jupyter-widgets/base",
          "model_name": "LayoutModel",
          "model_module_version": "1.2.0",
          "state": {
            "_model_module": "@jupyter-widgets/base",
            "_model_module_version": "1.2.0",
            "_model_name": "LayoutModel",
            "_view_count": null,
            "_view_module": "@jupyter-widgets/base",
            "_view_module_version": "1.2.0",
            "_view_name": "LayoutView",
            "align_content": null,
            "align_items": null,
            "align_self": null,
            "border": "2px solid #666666",
            "bottom": null,
            "display": null,
            "flex": null,
            "flex_flow": null,
            "grid_area": null,
            "grid_auto_columns": null,
            "grid_auto_flow": null,
            "grid_auto_rows": null,
            "grid_column": null,
            "grid_gap": null,
            "grid_row": null,
            "grid_template_areas": null,
            "grid_template_columns": null,
            "grid_template_rows": null,
            "height": "auto",
            "justify_content": null,
            "justify_items": null,
            "left": null,
            "margin": null,
            "max_height": null,
            "max_width": null,
            "min_height": null,
            "min_width": null,
            "object_fit": null,
            "object_position": null,
            "order": null,
            "overflow": null,
            "overflow_x": null,
            "overflow_y": null,
            "padding": "0.5em",
            "right": null,
            "top": null,
            "visibility": null,
            "width": "auto"
          }
        },
        "0f0514b10a9e4512b8401850ef0bfb8e": {
          "model_module": "@jupyter-widgets/controls",
          "model_name": "ButtonStyleModel",
          "model_module_version": "1.5.0",
          "state": {
            "_model_module": "@jupyter-widgets/controls",
            "_model_module_version": "1.5.0",
            "_model_name": "ButtonStyleModel",
            "_view_count": null,
            "_view_module": "@jupyter-widgets/base",
            "_view_module_version": "1.2.0",
            "_view_name": "StyleView",
            "button_color": "#aaffaa",
            "font_weight": ""
          }
        },
        "79fe7620eee64c04bcf6cc1ba9e01ea0": {
          "model_module": "@jupyter-widgets/base",
          "model_name": "LayoutModel",
          "model_module_version": "1.2.0",
          "state": {
            "_model_module": "@jupyter-widgets/base",
            "_model_module_version": "1.2.0",
            "_model_name": "LayoutModel",
            "_view_count": null,
            "_view_module": "@jupyter-widgets/base",
            "_view_module_version": "1.2.0",
            "_view_name": "LayoutView",
            "align_content": null,
            "align_items": null,
            "align_self": null,
            "border": null,
            "bottom": null,
            "display": null,
            "flex": null,
            "flex_flow": null,
            "grid_area": null,
            "grid_auto_columns": null,
            "grid_auto_flow": null,
            "grid_auto_rows": null,
            "grid_column": null,
            "grid_gap": null,
            "grid_row": null,
            "grid_template_areas": null,
            "grid_template_columns": null,
            "grid_template_rows": null,
            "height": "auto",
            "justify_content": null,
            "justify_items": null,
            "left": null,
            "margin": null,
            "max_height": null,
            "max_width": null,
            "min_height": null,
            "min_width": null,
            "object_fit": null,
            "object_position": null,
            "order": null,
            "overflow": null,
            "overflow_x": null,
            "overflow_y": null,
            "padding": "0.5em",
            "right": null,
            "top": null,
            "visibility": null,
            "width": "auto"
          }
        },
        "242dbcd47b134f2fa73956337d48d036": {
          "model_module": "@jupyter-widgets/controls",
          "model_name": "ButtonStyleModel",
          "model_module_version": "1.5.0",
          "state": {
            "_model_module": "@jupyter-widgets/controls",
            "_model_module_version": "1.5.0",
            "_model_name": "ButtonStyleModel",
            "_view_count": null,
            "_view_module": "@jupyter-widgets/base",
            "_view_module_version": "1.2.0",
            "_view_name": "StyleView",
            "button_color": "#dddd77",
            "font_weight": ""
          }
        },
        "72dc25dfaee243d2a519cfb322166dcb": {
          "model_module": "@jupyter-widgets/base",
          "model_name": "LayoutModel",
          "model_module_version": "1.2.0",
          "state": {
            "_model_module": "@jupyter-widgets/base",
            "_model_module_version": "1.2.0",
            "_model_name": "LayoutModel",
            "_view_count": null,
            "_view_module": "@jupyter-widgets/base",
            "_view_module_version": "1.2.0",
            "_view_name": "LayoutView",
            "align_content": null,
            "align_items": null,
            "align_self": null,
            "border": null,
            "bottom": null,
            "display": null,
            "flex": null,
            "flex_flow": null,
            "grid_area": null,
            "grid_auto_columns": null,
            "grid_auto_flow": null,
            "grid_auto_rows": null,
            "grid_column": null,
            "grid_gap": null,
            "grid_row": null,
            "grid_template_areas": null,
            "grid_template_columns": null,
            "grid_template_rows": null,
            "height": "auto",
            "justify_content": null,
            "justify_items": null,
            "left": null,
            "margin": null,
            "max_height": null,
            "max_width": null,
            "min_height": null,
            "min_width": null,
            "object_fit": null,
            "object_position": null,
            "order": null,
            "overflow": null,
            "overflow_x": null,
            "overflow_y": null,
            "padding": "0.5em",
            "right": null,
            "top": null,
            "visibility": null,
            "width": "auto"
          }
        },
        "983c3baabdcf4329b0a2297e65d2fdbd": {
          "model_module": "@jupyter-widgets/controls",
          "model_name": "ButtonStyleModel",
          "model_module_version": "1.5.0",
          "state": {
            "_model_module": "@jupyter-widgets/controls",
            "_model_module_version": "1.5.0",
            "_model_name": "ButtonStyleModel",
            "_view_count": null,
            "_view_module": "@jupyter-widgets/base",
            "_view_module_version": "1.2.0",
            "_view_name": "StyleView",
            "button_color": "#ffaaaa",
            "font_weight": ""
          }
        },
        "aaeb2f513bfa4a43b0975da2328b0baa": {
          "model_module": "@jupyter-widgets/base",
          "model_name": "LayoutModel",
          "model_module_version": "1.2.0",
          "state": {
            "_model_module": "@jupyter-widgets/base",
            "_model_module_version": "1.2.0",
            "_model_name": "LayoutModel",
            "_view_count": null,
            "_view_module": "@jupyter-widgets/base",
            "_view_module_version": "1.2.0",
            "_view_name": "LayoutView",
            "align_content": null,
            "align_items": null,
            "align_self": null,
            "border": null,
            "bottom": null,
            "display": null,
            "flex": null,
            "flex_flow": null,
            "grid_area": null,
            "grid_auto_columns": null,
            "grid_auto_flow": null,
            "grid_auto_rows": null,
            "grid_column": null,
            "grid_gap": null,
            "grid_row": null,
            "grid_template_areas": null,
            "grid_template_columns": null,
            "grid_template_rows": null,
            "height": "auto",
            "justify_content": null,
            "justify_items": null,
            "left": null,
            "margin": null,
            "max_height": null,
            "max_width": null,
            "min_height": null,
            "min_width": null,
            "object_fit": null,
            "object_position": null,
            "order": null,
            "overflow": null,
            "overflow_x": null,
            "overflow_y": null,
            "padding": null,
            "right": null,
            "top": null,
            "visibility": null,
            "width": "auto"
          }
        },
        "c470fe8d1ef34e81a26506c3f1f9699c": {
          "model_module": "@jupyter-widgets/controls",
          "model_name": "DescriptionStyleModel",
          "model_module_version": "1.5.0",
          "state": {
            "_model_module": "@jupyter-widgets/controls",
            "_model_module_version": "1.5.0",
            "_model_name": "DescriptionStyleModel",
            "_view_count": null,
            "_view_module": "@jupyter-widgets/base",
            "_view_module_version": "1.2.0",
            "_view_name": "StyleView",
            "description_width": ""
          }
        },
        "dc9c73b63cdc4f58bd2a351df3f8a2de": {
          "model_module": "@jupyter-widgets/base",
          "model_name": "LayoutModel",
          "model_module_version": "1.2.0",
          "state": {
            "_model_module": "@jupyter-widgets/base",
            "_model_module_version": "1.2.0",
            "_model_name": "LayoutModel",
            "_view_count": null,
            "_view_module": "@jupyter-widgets/base",
            "_view_module_version": "1.2.0",
            "_view_name": "LayoutView",
            "align_content": null,
            "align_items": null,
            "align_self": null,
            "border": null,
            "bottom": null,
            "display": null,
            "flex": null,
            "flex_flow": null,
            "grid_area": null,
            "grid_auto_columns": null,
            "grid_auto_flow": null,
            "grid_auto_rows": null,
            "grid_column": null,
            "grid_gap": null,
            "grid_row": null,
            "grid_template_areas": null,
            "grid_template_columns": null,
            "grid_template_rows": null,
            "height": "auto",
            "justify_content": null,
            "justify_items": null,
            "left": null,
            "margin": null,
            "max_height": null,
            "max_width": null,
            "min_height": null,
            "min_width": null,
            "object_fit": null,
            "object_position": null,
            "order": null,
            "overflow": null,
            "overflow_x": null,
            "overflow_y": null,
            "padding": null,
            "right": null,
            "top": null,
            "visibility": null,
            "width": "auto"
          }
        },
        "07375837a20d4c01afece1af07b0f26f": {
          "model_module": "@jupyter-widgets/controls",
          "model_name": "ButtonStyleModel",
          "model_module_version": "1.5.0",
          "state": {
            "_model_module": "@jupyter-widgets/controls",
            "_model_module_version": "1.5.0",
            "_model_name": "ButtonStyleModel",
            "_view_count": null,
            "_view_module": "@jupyter-widgets/base",
            "_view_module_version": "1.2.0",
            "_view_name": "StyleView",
            "button_color": null,
            "font_weight": ""
          }
        },
        "9b266abf035e44f68800dc035ed25c87": {
          "model_module": "@jupyter-widgets/controls",
          "model_name": "TabModel",
          "model_module_version": "1.5.0",
          "state": {
            "_dom_classes": [],
            "_model_module": "@jupyter-widgets/controls",
            "_model_module_version": "1.5.0",
            "_model_name": "TabModel",
            "_titles": {
              "0": "Youtube",
              "1": "Bilibili"
            },
            "_view_count": null,
            "_view_module": "@jupyter-widgets/controls",
            "_view_module_version": "1.5.0",
            "_view_name": "TabView",
            "box_style": "",
            "children": [
              "IPY_MODEL_eeac79a1ea8b49728dc3d3e08d5d9fc5",
              "IPY_MODEL_bc1ce0744f584448aee68c3517fec322"
            ],
            "layout": "IPY_MODEL_85d1fd8ccc8f40b982256933dc81175b",
            "selected_index": 0
          }
        },
        "eeac79a1ea8b49728dc3d3e08d5d9fc5": {
          "model_module": "@jupyter-widgets/output",
          "model_name": "OutputModel",
          "model_module_version": "1.0.0",
          "state": {
            "_dom_classes": [],
            "_model_module": "@jupyter-widgets/output",
            "_model_module_version": "1.0.0",
            "_model_name": "OutputModel",
            "_view_count": null,
            "_view_module": "@jupyter-widgets/output",
            "_view_module_version": "1.0.0",
            "_view_name": "OutputView",
            "layout": "IPY_MODEL_b8a76c1ab3e04be19f882ad2b9551d41",
            "msg_id": "",
            "outputs": [
              {
                "output_type": "stream",
                "name": "stdout",
                "text": [
                  "Video available at https://youtube.com/watch?v=QGA5FCW7kkA\n"
                ]
              },
              {
                "output_type": "display_data",
                "data": {
                  "text/plain": "<IPython.lib.display.YouTubeVideo at 0x7b6306171710>",
                  "text/html": "\n        <iframe\n            width=\"854\"\n            height=\"480\"\n            src=\"https://www.youtube.com/embed/QGA5FCW7kkA?fs=1&rel=0\"\n            frameborder=\"0\"\n            allowfullscreen\n            \n        ></iframe>\n        ",
                  "image/jpeg": "/9j/4AAQSkZJRgABAQAAAQABAAD/2wCEAAUDBAkICgsICAgICAgKCgoICAgICggICAgICAoICggICAoIChALCAgOCggIDRUNDhERExMTCAsWGBYSGBASExIBBQUFCAcIDwgJDhINDg8SEhISEhISEhISEhISEhISEhISEhISEhISEhISEhISEhISEhISEhISEhISEhISEhISEv/AABEIAWgB4AMBIgACEQEDEQH/xAAdAAEAAgMBAQEBAAAAAAAAAAAABQYEBwgDAgEJ/8QAWhAAAQMCAwMGBgsMBggFBQAAAQACAwQRBRIhBhMxBxYiQVFSCBRhcZLSGCMyM1RVgZGT1OIVNUJzdZShpLGytNEJYnKCwfAkNjdDdLPh8Rc0VoO1JYWio8T/xAAaAQEBAAMBAQAAAAAAAAAAAAAAAQIEBQMG/8QALBEBAAIBAwIDBwUBAAAAAAAAAAECEQMEIRIxBUFRFCJhgbHB8BORodHxI//aAAwDAQACEQMRAD8A4yREQEREBERAREQEREBERAREQEREBERAREQEREBERAREQEREBERAREQEREBERAREQEREBERAREQEREBERAREQEREBERAREQEREBERAREQEREBERAREQEREBERAREQEREBERAREQEREBERAREQEREBERAREQEREBERAREQEREBERAREQEREBERAREQEREBERAREQEREBERART/NSfvw+k/wBROak/fh9J/qIIBFP81J+/D6T/AFE5qT9+H0n+oggEU/zUn78PpP8AUTmpP34fSf6iCART/NSfvw+k/wBROak/fh9J/qIIBFP81J+/D6T/AFE5qT9+H0n+oggEU/zUn78PpP8AUTmpP34fSf6iCART/NSfvw+k/wBROak/fh9J/qIIBFP81J+/D6T/AFE5qT9+H0n+oggEU/zUn78PpP8AUTmpP34fSf6iCART/NSfvw+k/wBROak/fh9J/qIIBFP81J+/D6T/AFE5qT9+H0n+oggEU/zUn78PpP8AUTmpP34fSf6iCART/NSfvw+k/wBROak/fh9J/qIIBFP81J+/D6T/AFE5qT9+H0n+oggEU/zUn78PpP8AUTmpP34fSf6iCART/NSfvw+k/wBROak/fh9J/qIIBFP81J+/D6T/AFE5qT9+H0n+oggEU/zUn78PpP8AUTmpP34fSf6iCART/NSfvw+k/wBROak/fh9J/qIIBFP81J+/D6T/AFE5qT9+H0n+oggEU/zUn78PpP8AUTmpP34fSf6iCART/NSfvw+k/wBROak/fh9J/qIIBFP81J+/D6T/AFE5qT9+H0n+oggEU/zUn78PpP8AUTmpP34fSf6iCART/NSfvw+k/wBROak/fh9J/qIIBFP81J+/D6T/AFE5qT9+H0n+oggEU/zUn78PpP8AUTmpP34fSf6iCART/NSfvw+k/wBROak/fh9J/qIIBFP81J+/D6T/AFE5qT9+H0n+oggEU/zUn78PpP8AUTmpP34fSf6iC5oiLJiIiICIiAiIgIiICIiAiIgIiICIiAiIgIiICIiAiIgIiICIiAiIgIiICIiAiIgIiICIiAiIgIiICIiAiIgIiICIiAiIgIiICIiAiIgIobHMd8VeI91nuwPvny8S4WtlPd/SsDncPg5+k+wouFoRVfncPg5+k+wnO4fBz9J9hDC0IqvzuHwc/SfYTncPg5+k+whhaEVX53D4OfpPsJzuHwc/SfYQwtCKr87h8HP0n2E53D4OfpPsIYWhFV+dw+Dn6T7Cc7h8HP0n2EMLQiq/O4fBz9J9hOdw+Dn6T7CGFoRVfncPg5+k+wnO4fBz9J9hDC0IqvzuHwc/SfYTncPg5+k+whhaEVX53D4OfpPsJzuHwc/SfYQwtCKr87h8HP0n2E53D4OfpPsIYWhFV+dw+Dn6T7Cc7h8HP0n2EMLQiq/O4fBz9J9hOdw+Dn6T7CGFoRVfncPg5+k+wnO4fBz9J9hDC0IqvzuHwc/SfYTncPg5+k+whhaEVX53D4OfpPsJzuHwc/SfYQwtCKr87h8HP0n2E53D4OfpPsIYWhFXKPagSPZHuCM72svvL2zEC9smvFWNAREVQREQEREBERAREQEREBERAREQEREBERAREQEREFM259/b+Kb+/KoBT+3Pv7fxTf35VALFkIiICK6VXJTj8VJ905MGr20AgbVmrMR3IpntD2zlw/3eRwdfsKpaAimtj9lMQxiY0uF0VRXVDY3Tuhp2GR7YWOY10jgODA6Rgv2vHavPavZutwqc0eJUs1HVNa17oJ25JAyQXY4jsIQRKIiAiIgIrzyKcl9dtbWyYdh01HBPFTPrXOrXzRxGKOWnhc1pghkcZM1Sw2LQLB2vAGsbUYPJh1XU4fM6N81JUz0croi50TpaaV8Ujoy9rXGMuYSCWg2IuBwQRqIiAi2ByJck9ftdUzUeGzUUEtPB4zI6ufPGwxmRkdmGCCUl+Z40IAtfVUzHsNfR1E9HKWOkp5paaR0ZcY3Pge6N5YXNBLCWm1wDa2gQYSK67M8k+0GJ08ddQYNX1dJLn3VRDEXxybt74pMpvraSN7T5WlSX/gTtX/6dxP6E/wA0GuEWx/8AwJ2r/wDTuJ/Qn+aoeMYdNRzS0tVE+CogkdDPDIMr4pYyWvY8dTg4EfIgxEREBERAREQEREBERAREQZeD+/w/jY/32rY61xg/v8P42P8AfatjqwkiIiqCIiAi/Y2FxDWgucTYAC5JPAADiVb8E5PqycB72iNl+k0uYJcn4TgHEN0Hlv5Fha9a95wyisz2U9FsvENh6FhayOpLix2abpNLnMtcNabho4gE6/OvMYFTNIiYynvYOdvHPEuugzNadG6g2uPnK8Lbuker1jb2lrhFtNmwtPMLhjDduu4llzBw6w2Xo28/b5LqnbSbMGma6WB5mhY7JK12UTQOJsN61pOl+sdoTS3enqTiJ5L7e9YzKuoiLaeAiIgIiICIiAiIgIiICIiCmbc+/t/FN/flUAp/bn39v4pv78qgFiyEREH9VNgH0tTgmE4PVtztxDZ+Jjo3Wyy07KKhiqYteLiyrGnYHnqX8xdudnZcIr6vDKi5lo6mWlc4tLBJuXua2VrTqGPaGvHG4eOK7R5V9sjgFDsHipNooGUwqbBzr0c+G0kNXZrdXO3EkhA16Qb2LXnh88n8n3bocRoYjKcaZHShseu9xGnMUMYzXygyQy0jW3IvunntsF1/o/8AZ6PDMNqMeqmlsmJ1sGFUF8t3wxyBjnRdeV1RJLmB6sPvbTXT3h7f60z/APCUf/JW9drq2LCMc2M2KpHAxYe6OtqyAAJKgw1EEEht7mVxNdK4W18aadFo/wAOqndNtbLFGLvkp6GNg4Xe+MNaNeGpCDXHJbySY5tKXnCKB88Mbt3NVSOjgpYn2BLDLM4NfIGuaSxmZwD2m1iFadufBo2qwiF1XLhzaunjaXzPoJo6p0TRa7nQi0zmgEkljHABriSBqt8eGJj02x2C4PszgEsmHwysmE9TSvMFS+KiFPnbniAc11RPVPlke0tLjGQbte8HU3ge8quKUmP0dBPX1VTQV8ppJ6apmlnYJJWu3E0IlcRFKJt3dzfdNLgeogOfVs7kr5B9odpIfG8OoQ2iJc1lZVyMpoJXRuyvEOf2ycBwc0uY0tBje0kEWV88IjkvgZtxDhNM3c0uMVFDUZIQG+Lsr5tzWOjB0AEkVTKABYBwAFgrr4ee3VXhc+H7M4TNLhuHwUEdTJFRPfTCRrnzU9NTO3VneLwx0pIZfKTMCQSxpAZ/gbcleM7M7S1DMXonQMlweqEFQxzJ6aYtrcKu1ksRLQ+2uR2V1tbWXL/LT9/sY/K+JfxlQulf6PvlExetxKqwetxCorKFuHyV0TKt76iSCeKooYQIZZSXshLKh9475bgEAG99O02yseN7cz4XP7xUbQ1wqAC5pfTRVlTLURtc0gsc6KKRocOBcD1IMPky8H3aTaGEVlFQNion3MVVWyMpoprW1ha68srNT02sLOiRmuLKvcqXJdjGzMrIsYonU4lzeLzscyamnye63csRLc4uCWOs4BwJAuF2N4VHJ5tfjVXT02z5FLglLTMZHDBWsoGSVBJzufFG9uZkcbYY2Bws3K/LbMb+e1mxOLybAV1DtUBLiWGiWto6l0zKyYxUeSeGUzanebt9VTEk5t2TrrdBrL+jb+++I/k0fxVOueOU777Yl+Ua3+JmXQ/9G3998R/Jo/iqdc8cp332xL8o1v8AEzILLsby57TYPSRYbhuLPpaKDebmBtPQyBm+lkmk6U1O57rySyO1J91bhYLr3wPOUfF8dwfFqvFa59XUU0jmU0hipojE0Uu8ADYImtd09ekCv59rtnwAPvBjn45/8Eg0L7JjbL4+l/NcN+qqFx/k+2jxChm2xqqTxjD6h76upxJk+HkvklqDDLI6mgl3rP8ASCQQIxlsSQALrXS7C8AvHYcVw/F9ja8l8M8MtTAwlxPi1WwUteyMn3vI51NI0N/CmkdoQSg49Vx2z5McZwakpcSxOh8UpK4MdRvfPRulmEkQmaTTxzOnitGWk52NylzQ6xICsnJLyUz1+1MezlXGbUtbK3E7B2TxXD3uNSQdC1kojEbX9tRGdbq1+HZtyMVx40EEgdR4RH4ixrC0x+OOIfXubbVrg8RQOHUaPz3CkYlyE7T076OKTB5TJiJIoGRT0VQ6bKxsj3O8XnduI2se1xfLlaAdSFZNovBZ2toqc1Zw6KpDWl8tPR1EVRVRtDS51ogQZ3C1ssOdxJFgV0p4WXKVX7OYJhTsKMUFZWRCm8fLGSVFLTtgppJmUwkaWtdK5sQLjewj0GbK5mj/AAQeWHGxtDSUFditdiFFiDn008VfUT1mSTdSvgmgM73GGXetYCRo5rnAg2aWhzcto8lvIJtHtHCKugoBHROzBlZWSMpoJS0gHcB/tk7b5hnYwsux4zXFlsfl85NqeflAhwyNoZTYtUUVXURsuzKypP8A9RLC0aSPMFTJfvS9S3P4U3J5tbi81JQbNBlJgVJSxsbDBVsoA+oDnNyuYx7c0EUMdO1jSLNvJbjoHHHKryUY1sw9jMXojDHKSIKmN7J6WYt4tZLESGvA1yPyusL2tqq7sjs3W4vUx0GG0stZVym0cMQBcQNXOcSQ2ONo1L3ENA1JC7krth8ZdsHiuHbW2nraCOqraCczNrJhT0MUdXTufPmc4yCRtVDrY7ohvBag/o8NoaCjxmqpqt0cVXW0jYKCaTK0PeyZr5aNjibiSX2t4bwd4tbjlBCvTeCRtc2LeikonvtfxdtbTiYG3ubvIhzdXu7eVaKrKd8L3xSDLJG50b23ByvYS1wuDY2IPBdG8tXJrt3s/UVOJtxPF8QpM8kxxTD6yqErIi5zs1VBFI2Wlys1dlaYmcA6wXONTM6RzpHuLnvcXvcdS5ziS5x8pJJ+VB5oiIMvB/f4fxsf77Vsda4wf3+H8bH++1bHVhJERFUERfrW5iGjiSAPOdFBfNi6CKjidW1DWulI9oB4sabNzD+sS8C/81+Vm3LbucB0m6tzXsDlFyzMLAE3v5vMpDGqCSSjAaLse1rmlrXXIaCLHXTQix6/0KhtwqQExyNJadcpb0nD+r18Osdq52pMWnMuhp1mI4Wen2tcGGSd8IcALMYyNuV1yAC4gkixvxOt+NgvmGojnZni8XZK4AeMTODGhzeB1sZSBbjoBbgqbiGz75LtaHMc4Zt3axvoOkc3YSeHWsvANjJXOb7YdLtfexAGa1mjsI0+Qryv0YznDOtb57JhmNtoC4y1b6osA9rpy+MPcLm29cAMlr+4vc34cFN4HtKyva+SdpErScrbNbvKQ2a+KS7ss4sDcOsQQbeTIrtkskcLXNjbC17N68X1ZmuRc6u6RDidf0KFxPBwyYPhjYx7GhslgGGxZK3I8j3OaSVotfQCx4LyiaWjjv6srVtWee3oxNs8GihLZ6YPEEnFpuWscRcGN3XE6zrX4EEeQVtXTD4fapKeVrnQ2LTnN905zc7ZGnzlrh/Z1uqbLGWktcLOaS0jyg2K6W11JtXE8zDR16YnMeb5REW08BERAREQEREBERAREQUzbn39v4pv78qgFP7c+/t/FN/flUAsWQiIg628Mn/VbZL/AISD/wCOolujwbsRotqdnMHrMRyy1GA1IzOe7SOswyCWGnmlc7V/+i1EE5J/Dsdcq4P2y5ScXxilpMPxGt8Yo8PY2Ohh3FJDuGMjZE0Z4IWyS2jjYLvLuF+Oqqsc72gta97Wu901riA64sbgGx0Qb55Otrzj3KFTYsb5KrFS6AEWc2liifDRtcO+KeKEHyg8F9+HXO6LayWWM5ZGU9DIx2hyvZGHNdrobEBaT2Ux+qwqqhxCgl3FZTv3tPNkil3b7EZskzXRu0J0cCFl7e7Y4hj1U7EMVqfGqx7GRum3UEF2RDLG3JTRsjFh1ht0HXnhfYDNtngmD7TYBDJXxxNlM9NTN39SyKtEG8OSMlzn089K6KRjA4gyE+5Y4jVXgfckuLVOP0lfU4dV0mH4fIaueoqoZadrpY2P8Xhg3rRvpTNuyQ33LQ4m3RB1hyYcq+ObNl33IxCSmikcHzUzmxz0srxlBc6GdrmNkLWtaXsyus0C+gVn258JHarF4HUk+J+L00jck0dDFFSOlabXa+WMb4MIuC0PDXBxBBBsguXLlypUsm3lNisUjX0GE1VDSPnjvIJYKObPXvjDR0rPmqmNLbh27a4XzK9+HjyXYpitbR47hFHPilM+iZRzMoI3VUsTopZpoZwyHM+WGVlVYOY0hu4JcRmbfjRbY5OvCG2mwKnbQ0eINko4xlggrIoqlsDepsL3jeMjHUzNlHUAg6C8BTkixTBqybGMWi+55qaGWko8PqLNr5o3T0U01VJDfNTxMMUTMrwH3m1DRlz6C51NwTbioxWQEw020Nc+ewLneLPramOpLAPdPEMkhA7QFgf+Pu1H3QdjAxiTx91O+iEhgo5IYqSSSGV8MNPLA6CEF8EJLmsDjuxcnW+vcaxKatnmrKl+8qamaSpqJMrGbyed7pJX5YwGNu9zjZoAF9AEHZXhkbLY/UzU+0ezFXidZhdVSxb6PCKipkEb2i8NXHDTSXkp5YHx9NjSAYXFxGZt+cZsM2yqKaokmZtK6higklrZKp2Ix0gp2D20SuqXCN/RPuNSRfQr45MeW3aHZyMU+GYk9lIC53ic7IqmmBdmLt22dpMF3OLjuiy51N9VLbeeEZtRjMEtHVYixlHPGYZ6ampqWFksbr52ufuzNZwNiA+1hw4oNnf0bf33xH8mj+Kp1zxynffbEvyjW/xMyyOTblDxbZyaSpwas8Tnmj3Er9zS1GeLM1+XLVRPa3pNabgA6KvYpXSVM0tTO7PNNI+eZ9mtzyyuL5HZWANbdzibAAC+iDGXbPgAfeDHPxz/AOCXEyu3J/yr45gFPPR4TX+KU1U4uqY/F6KfeOLN2TmqYHvZ0NOiQgpKvPINtsdnsbocVLi2GKYR1gGY5qKoBiqui33wiKRz2jXpRsPEBUZSOzODT4jVU9BSsz1NVNHTQN1AMsz2sZmIHRbd1yeoAlB/SfbfCsP2Wkx3btojfU1GG08bGu0a6phBjjYyQE2jqpBhbCGjjBm1Ll/M7EKySolkqJ3ukmlkfNNI7V0ksri6R7j1uLnE/Kut/Du2iGGYfg+xsFRLMaemgqa2V5dvJoqSI0lDviOi8yPZUyuaeBjiNvclcgoO8/DK2CxTGsCwiXCqOSuNE0S1MMHTqRFLTQtbJFCOnOA5li1l3dIHKRmI0x4GfJVi020FLiNTh9XSUOHmSomnq4Zadr5d1KyCCHesG9l3r2OIHuWscTYloO3/AAxNscRwLD9na/CayWiqmtkj3kWVzXxupaUuimjka6OeIlrXZJGuF2NNrgEc6bb+EntVi9O6inxIQU8jTHO2ihipXzsNrtfLGN61pAILWOaHBzg4EGyCx8s/KvCdumY5TuFRRYZV0lOx0IBM9NRFra3dEnK/M91WGOvYgsPBbZ8MXZrHa91JtLstWYlWYZPSRMngwieqJFnPfDXMhpn3likila0lrbs3F3aO04jWw+THlo2g2cZucLxJ8dKSXGjnZHU0uY5i4xxztduCXOuTEWFxAvdB7uwzbOpp6h8jNpnUUVPNLWvqXYiykbSxxudUCZ1Q4Rubuw67CSXC9gVW9i9gsWxqOplwrD569tG2N9U2mySTMbOZBFkgDt7OTupNI2uIy62uFeNuPCR2pxeCWjqcRjipJ4nwVFPTU1NE2aKUFsjHSGMyhrmuIIDwCCqdybcpGMbOSSTYNXPonzBjZwI4JmTNiLjGHsqI3sNs77G1xmKDqTwMdr9s3Yk3CsUp8TqcHbFKZ6jFYZ2yYe5jHOg3dTUtEkpfLu4hA5zrNcXNDQxy5z8JiioqfaTFocNEbaRtW7KyK27jnLGOrI2AaMayqM7cg0blygAABWbaXwo9ra6B1McSZSse0skkooIaedzXCxyzAGSF39aIscO1aVJQfiIiDLwf3+H8bH++1bHWuMH9/h/Gx/vtWx1YSRERVBfrTY3HEaj5F+Ig3xyWQHFo4baxxvPjDXcDu2gm44FrnFgt2O+a1YvscBnkip4nPtmDBljzcLtL2tN/m6gOCp/gnVQMlZTED3EUzXa34va8dluixb0rahjej18PlP8A0XI3k9M4h2tjHVXLn6PZOoD5JZWNbM8m7SL7pl9A3q11PXoG9hU/sxsgW6yC46/N2eX/AKrY1djFNCbvMYAHSc+wAt23UezbPDnnI2aNznGwyatHlJvYBcXVveXXrSsY4YeP4ZEYsugyDQf99NeC0xtzCWOMsLy1zxu3gXAc0OJ4douB/fat81ETJQTG8OYeD2nMAfkWpuUGnFPI2OWM5nEvAjGdsrLHPYNBLXZM3V1Ada9djaerpae+px1Khg9SQA2UWzsEeozgvYTka7ycezrCre1UYbUyWFgcjgP7UbCf03Vwwpkk87IaSCWpyuBlAbfdxkN6T3ONoTYNdZ5bc3sqvt5A6KtmiewsdHkjLXCx6MbLHzWtbyWXd22IvMfBxdeJ6YnHGe6DREW+1BERAREQEREBERAREQUzbn39v4pv78qgFP7c+/t/FN/flUAsWQiIgIiICIiAiIgIr3yQVmzML5ztTSYtVRFkYoxhToWuZIC/embezx3aW5LWvwK6H5I+T/k92nir56DDtoYm4ZCyoqRVzxRukZI2oc0QbmpkDn2ppPdFo1brxsHHqLeO0uL8m7qWpbh+FbUx17qeZtDJUPpDTsrDG8Uz5w2ucTCJchdYE2B0PBaOQERXjke5MMQ2qqJqPDX0rJYIDVymrkfEzdNfHGcpjjeS7NI3SyCjoiICIiAs/Z7GanD52VlDUS0tVEXGKohcWSxl7XMcWOGrSWPcP7xUhydtw44hSjGnSNwrejx50OfeiCxuWbsF9724C69uU9uFDEqkYC6V2EZ2eJOn3m9LN1HvM+9Af77vOI4WQRu02P1mJzurMQqp6yqeGtfPUPdLK5sbQ1jS5xvYNAFlGIvaiaDIwEXBe0EHgQXDQoJvanbfFcVjigxLEqythp//AC8dTK+VkN2tad2HHo9FrR8iry6C8PPZ2hwzHqenw2hpKCB2FQTOho4YqaJ0rqrEGukLIWhpeWxsF7XsxvYufUBERAREQEREBERBl4P7/D+Nj/fatjrXGD+/w/jY/wB9q2OrCSIiKoIiINi8l9QcPllYKjJLUwlntbHuLGxtE2jiACXMuPlGqkanaWupDcTVEgdHv2GUPmiAuSL9cd2tOlxxGnEKN5HaJtfiNPa5fBTyunhIA3scUbomPjeXZcw38d2ut7k2JutsVWCCtlFPuS3Od3eQg5GPuJXNYzQvEeexJ0Nj1LnbqYi/MZdjZUtanuzMYa929dWiWJlVBKzewxTwxOdHeSR+czR2bcXZ0LtuTqLHVR0NJVysidTysjJLt9E4agkjKxjY+lwFtSLarfvKHgbarI9ozSxHNT2yksfrbR3UdPmB0IBFSwCrsdMrJW+7LYo2yNcPdD23MAb36iuV7THaKxEurXZzaMzMz81KwyjrqeV0dS2YRyQxmERzlscMkD5d44Bzi9zpGyxi1ne9akaK3HZVhp5JLOLszpIor5Hlrs996Wnpuyvd0eBGlutTrSJnl7nXeO/robG3YG6DQdgWbG7MNNLGxH+HmssPar8Ujj1x5vO2zpEza3Mz/DX2FU0NNJHHUNkibMC8bprWtay7Q1r72IZdzrdlitZ8rzA3EHMvd7Io45CTc5m5hHmPW7c7hdB4i+lijkrqtuVtM0kS9xsfSsxt7Pe5+gBB6VrLljGsQfVzy1Mnu5pHykXvlzuJDAesNFm+ZoW54XW19S2r5Rx+fs1vE9StNCujHfOf2z9c/wAMRERd18+IiICIiAiIgIiICIiCmbc+/t/FN/flUAp/bn39v4pv78qgFiyEREBERAREQEREBdW+AP8A+S2p/wCAp/8AlYsuUl1d4A//AJLan/gKb/lYsg5RXSnKDTsHJls/II2CQ4xOHSBrQ8jfbSaF1rkaDTyBc1rrrCdjazark5wvD8DbDWV+H4pPNVUu+hhkaN/i5MYdM5sbZd3iNNLle5t2E2ubAhWvBHp2P2f23c9jHOZgwLHOa1xYfEsf1aSLtOg4dgVs/o7Nrqh0ldgu7pvFYaabEmSbs+NGeSSkiLHy5rGDK2+TLx61PckvJkdmNmtq6atq4ZMaqMElqMQw+B7ZW4bT+I4v4hHK9os6okvVOdYkWYy1xZz9bf0eGJQxY7VUssjY5KvDJoqYOIBlljmppHRRgm75N02WSw/BheepBR8d23xLlAxHCMKrYsPpSavxWKSgpzBlZiElKyeWUOlcJN2yAOAFuDuN1t/lw5YHbC1o2Y2SoMPooKKGA1s8tOJqiqqZ4o5hvXkje+0yQ5nuu4lxFwGgLTA2WxfYLGcNxDGaF8McNcJojG+CVtbBQyweN+LFr+uKZti/L763hYgba8KDkZxPaLFBtLszEzGsNxWCnl3tNNTt3M0EMVNlLZnsO7cyBjr6lrt612UgAhictWGUW1WyUO3MVDTYdjFPOKXGG0bd3T1YM7abeFvEy55aWRrnEuDZXsc5+VjhauTXF8Nwrk9pcVxHDYsSNPXTSU1LI1m7nrfG6llMKlxabwMLjIQb33TRrwUBytNZshsPDsjWywux3Ep21tXRwyNlNHAKmOpzyll2gDxami42e/fFheIyVi4l/srpvym7+OqkEBsLypV2121uAz4pBQxmnnFNHHSRSRxGJxlkyvbNLJexNhrwA86rvhNVMVFtpXTmmhnhp62jndRva0QTxxQUb308jcpbu3hpadDo46FQ3gsf60YP/wAaz91621jdLQzcqTosUELqN1cy7ai25fUDDGGhY8O6Ls1WKZoadHFwGt0Fj5I+WXbHEa+gjGzLGbOVVTT00rKPCKxlBDRVEjI3VDagBzA2ON+cuJyEMNwBw0h4UWAUuGbWYhR0MDKalZPSSxwRANijdVUlHUStjaNI497PIQxtg0EAAAALorbLZzbZ21BxXEcS+5+ytFiENX4w7E2UWFDB6apZI2GSnjlDn1T4Ru3b2OzpCQXZMpWpfDh2SraXaaXFZoHNoMQfR+KVHRLJH01JSQTRGxu2RroXGxA0IKDM/pGf9Yqb8j038Zia5pXS39Iz/rFTfkem/jMTXNKAiIgIiICIiAiIgy8H9/h/Gx/vtWx1rjB/f4fxsf77VsdWEkREVQREQXHkXx1uH4rTzSECKTPSyk8A2oblYT2NEu6J8gK3zS4vLJWSNiABbG5hNj0XG3Dy2BH95cqFbz5NMVlxGHNT1G4rmMEFQ8ta/wBsDSIahzT7pkjWgO4HMx2o0XP3tJnFvLPLr+Ga8RFtP17fdLYtiWJB7t1MW2sCctyT1lubqUe9kkTTI9xMriXuN7OLnHU2PV5D2KZrYnvjAqaetfVMG7mAkZFBNKIwTNEWkuEBedL62vcdtPxbBnVQySQQQRAnOI5XzSuBy9EvytDODuBJ6XVZcjW04rPpDu0taY4z9IWHDsSe46nW17jh5fMf5hWvAKzOOlxt89uB/SqNh8QaMo0A0+SwAGvVYKw0FSI7X0WvXmXnrW45Uzl/qzFHFTjNaeWWV3SIbaIxlt29ZzPv5LLTq274QVOXR0dSB0c08Tj2F4hewH0H/MtRL6PYxH6MTHx+r5re5/WnPw+giItxqCIiAiIgIiICIiAiIgpm3Pv7fxTf35VAKf259/b+Kb+/KoBYshERAREQEREBERAWZh+KVFMHinqJ4BIMsohkkiEjRcBsgY4Zx0naHvHtWGiApPANoa7Dy51BXVlC54DZHUc81M6RovZrzC9pcBc6HtKjEQZ0eMVTd9lqqlvjN/Gssso8ZzZ83jFne3X3kl81753dpWLTzPjc2SN7o5GOD2PYS17HtILXsc3VrgQCCOFl5oglMf2irsQLDX11ZXGMERGsqJ6kxh1swjMz3ZAcrb27o7F94DtRiOHtcygxGvomPOZ7aSpqKZrzYC7xC9ocbAC57FEIg9qyqkme6WaR8srzmfJK50kj3Hi57nElx8pXqcTqDCKU1E5pgcwp95JuA65OYR3yB1yTe3WViIg9aSpkhe2WKR8UjTmZJG5zHsd2tc0gtPlC/a2qkneZZpJJpXavklc6SRxAABc55JcbADXsXiiCWxnabEK2NkNZiFdVwxWMUVTUzzxxEAgGNkry1mhI0A0K+MW2hrqtkcVXXVlVHAMtPHUTzTMgaAAGwtkeRELACzbcAoxEGVieIz1ThJUzzVEgAYHzyPleGgkhodISQ27nG3lKxURAREQEREBERAREQZeD+/w/jY/32rY61xg3v8P42P8AfatjqwkiIiqCIiApjY7aCXDKllVF0g3oyxXsJoTbPGew6Ag9TmtPUodfRYRqdOvXS/VoOJ17FJjMYllW0xOYdQYuwV0EVdTSAwTxtkbm0vnAIzDWzxwI6iCoGHDZG6yEAdgI4f4Kl8lu00zWw4MOm6aWQUhcQGseIpp5YSe57U8g96S3A3Uhj1fVRvLJI3RvBsQ42A+Y2PnXA32hMTh9Jtd310hN1crYzpx6uC+qWbO8EnQcP8/KqjT1EjyLkuceJOgVlwdjtL6dq58x0w9qz1zmWXypYbJV4RMadwFTTWrIbgEPMFzJC4HRwfHnbY9ZaufROHOcAMtibN7AdRbtsDZdAbe4sKXD6g5rF7DE3tzS9A28wJd/dK5uo43SOzNJDnSWYBexuQLfM5dnwm1uic9s8fdyPFK1jUjHfHP2SiL7qIixzmEG7TxsQHA+5c0ni0jUL4XWcsREVQREQEREBERAREQfLo2nUtB84B/avncs7jfRH8l6Iorz3LO430R/JNyzuN9EfyXoiDaPgtbGYdjeLyUWJ0jKqmbh1RUtjzzQ2mjqKBjH5qd7H6MmlFr26XDQW6f9jrsl8Ss/O8S+tLQHgRff+X8k1f8AF4Wu1VFap9jrsl8Ss/O8S+tJ7HXZL4lZ+d4l9aWw6LaCjnqZ8PhqoJK2lEbqulY9rp6dszWvhMzAbsDmuaRfiCvOq2moIquLDJK2mbiM8ZmgoTIzxqWFu8vKyK+cxe1S9K1va39hQUD2OuyXxKz87xL60nsddkviVn53iX1pbWRBqn2OuyXxKz87xL60nsddkviVn53iX1pbWRBqn2OuyXxKz87xL60nsddkviVn53iX1pbWRBqn2OuyXxKz87xL60nsddkviVn53iX1pbWRBqn2OuyXxKz87xL60nsddkviVn53iX1pXHANt6KuxCuweB0hrcMEBrWujc2NnjbN5DkedJLt424KSx3aGjoDC2tq4KU1MzKWlE72xmoqZNI4Isx6crupo1KDXnsddkviVn53iX1pPY67JfErPzvEvrS2LtHjtJhsDquvqoKOlYWh9RUyMhiaXuDWAueQAS5wAHaVm0k7JWNljcHRva2Rjhwcx4DmuF+oggoNW+x12S+JWfneJfWk9jrsl8Ss/O8S+tLayINU+x12S+JWfneJfWk9jrsl8Ss/O8S+tLaywNo8Whw+lqK+pLm09JBNVzua0vcIaaN8spa0aucGMdoOKDXHsddkviVn53iX1pPY67JfErPzvEvrSuOC7dYdVYYzHhUtgwuSPfipqv8AR2sizmPPLn97GYW17Qp3Da2KpijqaeRk0E0bJ4JoyHxywytD45I3DRzHNc0gjiCEGsfY67JfErPzvEvrSex12S+JWfneJfWltZEGqfY67JfErPzvEvrSex12S+JWfneJfWltZEHJHhY8lWB4FhtLU4VhzKWeXEWU0km+qp80DqSvlLMtRM9o6cMRuBfo8bE35s3LO430R/Jdj+Hb96KH8rR/wGKLjxVHnuWdxvoj+Sblncb6I/kvREHwImjUNb8wX2iKgiIiP1o7SAOsnQDylZdJFC46yF3aQMrL90E3LvmCgmEyuN9W8bDhx6N/kN1MSgRtA17ANCDcXPFFe1dWRxA5AGDgDYZ3HtBPSt51gUjnPyTHLZxe2NrXXDHM1dfr3pGo8mo/BtjVQ3rw0us0C73dxo46DUcDw7Co+irTlJia8NsbuOhcblzCG/g2IZY3va+isJLYOxFayDHMML3BrYnvkk7rd9BI0DThZsmv9ldA7YYZHP0nNBI6/wDPUuS8Kc5tdS2Ju3W5PCzQ0DjoNCt/Um0k0UeW28jI9ydcna1vW0eTq8i526jqtj4Ojs9SK159XjBTMa+zW31UtBx4DRVtm1Mcbi4wPJPAWAGvVcn/AAWBiO1k+V742MiHeOpubANBItckgcFyp2tp4dP2vTrGUDy44w97o6Nh6LelIerO8aD+6w//ALVRcGjtJc8GNLhp+HZrWEWOtnOafkWVjZmqniUvc4/hl1r5hdxeXONg02JueGXzLAwqQSEtbI10ri27Wkvs3ouLnOAytIc1oy3vx7Ne5oaMaWnFI8nB19WdW83nzXKGW04Y8Nkikb7lwu0tIbby8D/+K9qjZTOSYJWsudGTE2AJ4NkANx5x8qiqm4kheD7l27Nr8HaftN1aqCoIGR1z2acOPCwXq81PxXCKilPt0Tmg8HjpRnzPbosFbQZXtaCHWI4OaeBB4ggi1v8Aqq/i2EU0t3RAQO4AstkJ6g5hOnZ0beYq9XqYU9F+ytyuLCRmabG3mBBHkIIPyr8WSCIiqCIiAiIgIiICIiDePgRff+X8k1f8Xha7VXFXgRff+X8k1f8AF4Wu1Viycm4xyk0uzG1e11bM01FXJBgsGG4fGf8ASMQrH0VM2OGJou7dguaXvAOVvAOcWtdt7kI5Op8P3+OY25lTtPigEmIT6ObRQHKYsKpCCRHTxBsYdlJDnRN1cGMK1jzDodpNq9ssKxGPNDLTYK6OVtt9S1DKGDdVNO4joSsJPkcHOa4FrnA2PkJ2/rsLrnbEbVS3xSBoOC4m+4ZjOH9IQgucenVNDHAOvd27e13tkbnSBYdruVLEZ8Xl2b2Yw2mr66jhZPildiM0tNhtBvmsdBAdyx0lRO9r2mzOGoscsmTI5OuVCsmxWXZnaDD4cNxllOK6lfSTOqKDEqPMWulpnSNbJG5rmv6DgSd1Jwy2VE5PcXptm9sdo6bGaiKhGMGhxDC6qseyCmqYohUCSKOaUhm8D6rdhhIJMDrX0v8AgxWDaTb/AA+qweWKtosCwyoOIV9Od7S7+ujrIYqVk7BupH/6TG4ZXG+WcDWJ9gm8U5bsSdjeJ7M4XgQxDEKR1MKN2+MFNuJYWy1dZiUzxlp4YTJC0Nbd0hkDRrZT3ItynV+J4hiWAY5h9PQYvhYglk8SmdPSz09Uxr43sL+kwhskLtSbiYaNLSFAcif+uO2P9rBv4WZY/Jv/ALQdpfydhn8Nh6D6g5a8axDEsUwHBMBhq67D6x9P4zPO+HDqejjL2iprpCMxnkeGtZBHcuDZnXtGb3/a7F9pm+KwYThGGTTSUwmrqyvrHwUVJVDIHUscUDH1E9yXkPGgDNTci9G8Gb787YflwfsqVF8rG2z5tqW7OYlj02zGBxYa3EPGYKiHDZsTq3ysDYTXzC9NDl3wtGWkmnlF7ubkC8ci3KVXYpW4ngmM0FPQ4vhLoN8aOV89JUw1bHPilhMgzs6IY6ziTaVvAggRI5UcbxivrqPZXC8OqKLC5zRVmI4tUVFPFU1sdxNS0TaeNziWEEbx12m4Ogc0uofg0YphrdrsfjosRlq6epp6D7nVNdUz1NTiIpYxHVvhnrDva1jJmytDwXDLGMpLQCngr7a4bs4zHcEx7EKfDMQp8crKtza+RtNv4JoqaNksBlsJ83izngMuS2WNwBDgUEx4NmI1NXtVtVPW0L8Nq3MwcVFE+WOoMErKZ7HBs0XQmiOTM14tdr2mwvZZ3hk1UcDtmp55GQwxbTUEs0srgyOKKMudJJI52jGNaCSToACo7wZ9o4MX2p2qxGkbMKWoZhD6d1RE+CSWBtPIyKoEclnthlawSsLgCWSsJAvYS3hfNBl2XDgHA7UYcC1wBBBcbgg6EeRBibKUzuULEo8cqmvGyOFzvGB0MgLW4ziEJLJMVrI3aup43AtjY4X4g2vMx+yeWzlJj2bpYZBSyV9fW1MdBheHROEb6ysmNmMLyDu4xpd1jq5gt0lp/HaWfkzxN2JUcUs2xGKTj7pUkQL/ALhV0haxtVCwatp39FoyixDRGek2DNn+FVVRsn2W2tjc2qwbDsREtXUQB08bKPEnULoq4GIOvE0UuhA1fJE0G7hcJnaLlU2j2dbDX7UYLhrcGlmjgqarB6qoqKjCt9pG+rimitOzN0SYja/AklrXT/L5ytu2Y+5ckdH90IcRrG0sghL3ziI7t2ajZGD4xO5ryGsuA4louLqkeFvt9hWKYBJg2FV9JiuJ4tNQ09BSYdPDWTSObWU85eWwOcY47U72ZnWGZwHavHwiaB1JNsLSvcHPgx3C6d7hwc6F1CxzhfqJaT8qDYFByg4rh2HYhje1mG0mE0dNFFUUlNSVPjtW7eGRppah5yxGqdI6ljblytLptSLaUHbLbXa2u2er8Qq9ncPgwmtwmtPi8NdI/GKKkqaScMrJ2SxtgmY2N7ZHRtLJMt+iHAtVs8NPCZ6vZXEW07XSOi8Xq5GN4mnpqiGSod/ZZG18h8kRUDt3y2bP1my1QylxCGesrsHqaWDDKc76viqJqGVj456eO76eOHpufI+zA2JzgSLXDy2KxiLD+TmCsnoqfEYYcN3klDVgOp6hvjJGSUFpBbrfgdQFY9s+VE4FsjRbRUmHUwDqLCnxYc1xipqeOtip8sERY3oxxNkDWgAaMHBUQf7Lf/tP/wDUsbl6/wBmeHfk7Z7/AJVEgsO2PLhtDQ0nONuzMTNmGyQjPV1W6xeekqHsjirm07btponvkYGxvDn9NpIynMNh8sXKnDgFBT1kVNJiFXiEsNLhNBGd3JWVNUAYml1ju2AEXNjq5jfwgVW/DR/1OxP+zh3/AMnhypnhJUslLBsjtIYZKigwWpppsSZGwymKnqG4e4VRaDYbs0hDXHg+aPUXQTHKRyt7WbM4e7EsY2ewmaJxja2XD66ZzKSSR7A2CujmjzkuDngSwlzQ5gB92COgYH5mtd2gH5xdck+FzyyYPjmz89Dgks2Jkvo6mqqIYJ46Wgh38e68akqI2ZZpZLMbEAXaPJDcuvWtIOg3+y39gQaA8O370UP5Wj/gMUXHi7D8O370UP5Wj/gMUXHiqCIiqCIiAvGtlyMc7sabefqXsozaB5yBg/COvmCBhLi11hfjGO0XDG6H5VJYjUEvY0aNGawHFpA6TSONrm4WHhzTdr9bF44HUgjXhx49a/ZZc07rfgtA1sNT/wBAsu0DyqrBr+svZLfrB6D2jjpYXX5RU9o8oFurhxufL519VA0cRpoGAA8S97GkaeRxWVTjgOFzewJP6RqfnWI9sBjD68AWtGwcO3pLbNLDnaWh5b2cLEf57Fq/YKAvq5XdhDfJoB/ity4TS/JwvfguTr3/AOst3Sj3UM7CpZD0SwNvxyOv+l9lU9vW5HNpg973N6chBAAc73DcrQBoLngeI7FtXEXx00Lpjwa0m5sLho7fmHyrSVVUGaR0shs57i4nsvft/B4Beu2jqnqnyYa04jCLmYWDLI1rozdpuLtfcWLJLa2tcXHC6k6SBl2iMjJla8ZQ1pDTfoPA4O049dgRxWPVzgDtGgLBo55Nwxrf7Zv0uprXnqAOTh8O7BuQ6RxzSEcC4gXA7rABlaOoNAW7LVe2QA6gkh1xe+XQi1rFScFRpd3AeXQn/IsoeKTMRex1tw+XT/PasXEa8ueIGHQavtwvr1W4WVwqaqcQvw0HC4v5B0j5LrBrsUDG3ubnpDtDOrXtJ7TwA7So6smLnshaQAbZjaxsLl2o68rSovE6wvfbRw4AN4XHVrropgYlfWOLxISRcjyfP5dApimlD2hw8vzg2KgsQbpfr42/yFmbOzXa5vYbjzH/ALLKBKoiLJBERAREQEREBERBvHwIvv8Ay/kmr/i8LXaq4O8Fna2gwTF5K3E6jxWmdh1RTNk3c815pKigexmWnje/VkMpva3R46i/T/shNlfjf9TxT6qoyhsOlwWkinlrYqSmirKgMbVVccMTKmpbC0NibUTNaJJgxoDWhxNgAAvHHNmsPrnwzV2H0VZLTOL6SWqp4KiSmeSxxfTvmYXQuLoozdtjeNvYFQvZCbK/G/6nin1VPZCbK/G/6nin1VQXzafZnD8UY2HEqCjxCJjs7I62CGpYx9rZ2CZpDH20uLFeuz2BUeHRCmw+jpaGnBLhBSQxU0Qc73TskLQ3Mes2uVr72Qmyvxv+p4p9VT2Qmyvxv+p4p9VQbDosFpIJpquCkpoaqpyeN1MUMUdRVboFsXjErGh8+RpIGcmwOiU2CUkdRJXR0lLHWztbHUVjIYm1U8cYaI2TTNbvJWNDWgBxIGUW4LXnshNlfjf9TxT6qnshNlfjf9TxT6qg2HhmC0lK+aWmpKanlqX76rlghihkqptfbah0bQ6aTU9J9zqVh7UbIYZiu7OJ4Zh+IGK+5NbTU9UYs+XOI9+x2QOytuBocovwVI9kJsr8b/qeKfVU9kJsr8b/AKnin1VBeZdlMNdUQ1zsOoXVtNGIKWrNNAammhaHhsUEuTPFGBJIA1pAG8fb3Rv4Y/sRhGITMqq/CcNramMBsdRVUlNUTMa0kta2SWMuDQSSBfQm6pvshNlfjf8AU8U+qp7ITZX43/U8U+qoNh0WCUkE01XBSUsNVU5BVVMUMUdRUiFuWEVErGh8wY3RuYmw0CYvgtJWGI1dJTVRp5W1NMamGKc09RH73UQGVp3Uzep7bEdq157ITZX43/U8U+qp7ITZX43/AFPFPqqDZWJ0MNVE+nqYYqinlaY5oJ2Mlhljdo5kkcgLXsI4gghY2F4FR0tOKGlo6WmogHtFHBBDDShspc6VohjaIw17nvJFtS51+K197ITZX43/AFPFPqqeyE2V+N/1PFPqqC37ObBYNhspqMPwbC6GcgtM1JR0tPLkd7pgfDGHBhsOiDbRSeLYHR1joZKujpap9NK2opH1EMU76WoYQWT07pWkwzAtaQ9liLDVa99kJsr8b/qeKfVU9kJsr8b/AKnin1VBtIqs4fye4JTvllgwTCYZKiOSGpfFQ0jHTwzi08MxbEDJFIPdNOjusFVP2Qmyvxv+p4p9VT2Qmyvxv+p4p9VQX7m7Q+K/c3xCj+52TdeIeLweJbq+bd+L5N1u82uXLa6Yhs3QVNM3D6igop6BjY2MopqeCWkYyCwhY2B7DG1rA1uUAWblFrWVB9kJsr8b/qeKfVU9kJsr8b/qeKfVUGxcawilroXUlbS09ZSyZd5TVUUdRTybtzXszxStLH5XsY4XGha09SheUCbEqWkacDw6jr52PYx1DUTCjifRhjw9kMmUsjkuIwA4ZbXVU9kJsr8b/qeKfVU9kJsr8b/qeKfVUFB2p2S2k2uZT4RX7PUOyeAtq4qzFAyvpcQqsQZCcwp6YYexrIcx4ufY3axwd0Sx/SC1b7ITZX43/U8U+qp7ITZX43/U8U+qoKd4dv3oofytH/AYouPF0l4WPKfg2O4bS02FV3jU8WIsqZI9xWQZYG0lfEX5qiFjT05ohYG/S4WBtzaqgiIqgiIgKHxF2Z5cNcnRcO0cTbygqXJUHTPJc4t1N3E34PBOrT/PqVgScZywxH+t7rXUZjxPHgOpYUEvt0uutx1A9v8An5FlSR56du7/AAXOLGuNnE5m+1tvoXX0GovbS9wsOnsJZj2Bululfr0PA3CyuQz3tuw6ZhmZ8hzB3Dr0YeKyaVo4gm/DhbiewXI4LwYQWWN3Xc3iNQMk+nDTXX5F6F4DXOF7NBcctgOiDpxXmLFyV012yzEOPtjzpqXAE2t5ToAFuCigIHA2tck21vppr2kaeZaq5O6JzaYkNIzXkeSD0gwbuJo4EkEGTzgdq2phsDnvikL3We+S8YLmt3bHSlmnB1s0XHs61zJ062mbfFuRaYiIVnlixHdxRUbT05PbZAOIijPRB/tP1/8AaPatWzjS2tu3gfPp/n51J7a414/WTVLTdhdu4DxbuIehG7j7l1nP/wDcKgJZHe4aem45IzYGztC5+uuVrTmsRbMY1u6VOmuGte2ZyysNYC4vcehGXBt9Q6VwAkfpp0WtbH5w/tUk4eUa/Na/Vrw4alYUEbWBrGE2AsOu3G1+03usozho1NiPwbW8pGvk/avRi+ZHCIF56r8dNbG/A+RQeBOL3SSO67gG44fKV+47iBeC0HTXtHbx+f8AQvnA3lsTh0NG3JsL8NeKyhJeRmAMkh4j2ttzY3cLvvbjYED5V54dRE+2O0HVoLW43Av2LGpqxjI2ucA4kuf0h1vJygfJYfIveSokeM8hyNIOWIaEggWv2cFJGPXuBuAb9v8AkcF8bOyWkt3gWnzjUH9H6V+ubfgBrZY+EHLKB5f8bH9qirUiIs0EREBERAREQEREBERAREQEREBERAREQEREBERAREQEREBERAREQEREBERAREQEREBERBh4xKWROI4mzR8p/ksGilbIRdjt4BxiLQXDrOV+jj5iF9bRye5b1XzH/BY1J7WM72gWByg3PHr08l1YGZWFpjMQ1GYta6QiOzyGuDTYltybt42uRwXvs/Qy1TQ3dTSyAuYXsje+YBvFrwATKBYiztR2hbb8EfYiKtnlxbEqaklw1gkipBUneE10JgL5BTvBY9jY5H9Nx0e1tgdSOpqXE6KnIYyOEEaBzWMYQB1NDAABpwt1LR3W/jTnEVz8cx39PVu6GxvqV6o/I9XDeH7K4jKGRjDa18wu7IaWobeNsMri6z2A2AOvEX0vwvDVIaGPtpq1paP67gLeQr+gtVtHSM6T4g6MkCwvceUarXPL5s7Q4rQuFBRMdXjLLTua2zy9jg4sMjgGtBaHdDg45eHFa+n4lW2Yt7vzel/D71iJiJn5NH7KTWjZbSPM6S2uaRsbgbi5s1uWKRvYdToOMztXjrqShnfHmLreLxOzZ3NmqBJG94dwORwJ0sLN04BeWyNOY4zHJmDml4DXNs5rmjI5hBvY5mu7OJ01KqfK/XNvS0jRlPtlRJYBtg0NjjabaZbmX6Mdi9NCYm2HjqcRlTYxlbcZbWy2PAdnEaDjfq0PYvnCbPJmJJBBZDe49rBJc+x4F7iX+YtH4Kxa+VxDYRo6S7ewiIe+m7dC1xsziP8AeLNjmAFmgW4cNNPNot5qM64HDX5bC381GYlUgC1yDc34HydXkK/J57Dj5rDhcEquyPcXEkk3N9VlAyaiXy3Hl/7r68aywzOB0LWsb1avLr2+SyjppNbLKrb7qOMWzSSAi/Do2Df0gqjIoYWxtbNNbNb2qM6kNto4jjdflQXv1cA1vVewJtw0WU2ERHQ7yS3TfcHXrt2BeboQelK+/kHHrUkYwd+Dx+RYkT8kgJ0s/h5L9az5ZuLY22HbbXyqJlBDrnTz9fyLFV2ReVI/Mxru1oP6F6rMEREQREQEREBERAREQEREBERAREQEREBERAREQEREBERAREQEREBERAREQEREBERAREAvoC0HtccrR5XHqCCu44SZTmc2NgsLuIBNgCco4u6+CxZ8VisQ1heQNC/3NwNCWjjwVli2ZE2WXxmIukaXNswOc8D8JgJuI/KLjyr82f2ZbNiNHSyPMsU1ZSwyMIia58Mk8TZW5WO1BYXdV1naMRkr704dQ8i2zDKDDqFlRUFhjhE9RAQ1rn1WIh00rJBwayMStYOsmMcLFWnFMGw8XmMtRfXK1kzmi58o6/OVWttdlZ8XqzFFVfc6na28lUC4SAXAaIGNIzuzBw6RAGUnW4BzdsNlWWDosRqY5CQBuA1kd+8WG4K+e1Y6otaeOZ/19XT3JrWJmeI/z7ozEcMq7tfTVcVQziIqs5JW+Rs0LchH9pnnKm8EfVxD2+It0tZsjHi393q8uir+E4RXsNn1UdS0XyucxkMgA7xa4Nd6IU6TVwssI7t1uRY8fl0K5mpT45bdZzPPDF2ipo6q8jYwypYbiQAAztsQY5NbbwWbZ/XYArl7batfVYjNI6zTHlpQ0aZdxfNYAk3Er5Li99Cum2TG+pvfi0/gk9TiB8y0h4QeyRp3HEqaN25qXtjqsouyCoebGdw/BbKNMwtaR7u+Auh4ZuMW/Tt59v6cjxTa5j9Ssdu8fdrOj9sc6YNu0kBnDSNtwCTYXubu4fhrOa6w4gDz/t+ZfVK4RMDdPLw1HC2nyKPqagDr07Ov9i7zglTUk6Ai1h/m3aoqckG+lu3tXrU1DLaXuf2fMsN02YW6+I8vkWSPppzPCzqsF8kTcokyM3hbewNrcba8T+hR9I4Zrn/us7DsQEdS17m5mOa6Nw7GuIsR5QQ1Ue5qHPAPRb1WaLf91+wEDjx8uvWpDEMNB9ugIc06kC2mv8lFOJB6Qtbjf/FTuPeoudf2edRlYOlfrspNr7j+X7b2URVHpG3VoscKtWCSZoW+S7fmWaonZd3tZHY4/pAUssgREVQREQEU/sPs6zE5KiE1kdJJDQ1dfA18Uk7qyShjdM+kibGQWyOijndm6RAhdZruAxsB2YxHEG7yhw3EK2PX22kpampiBboRvIYyzMD1XvogiUWRiNDNTSGGpgnppwA50NTFJTzNBuAXRzNDwCQdSOorHQEREBERAREQEREBERARF+XQfqIsiloJ5mySRQTyxwNElRJFHJJHTxuNmyTuY0thYToHOIF0GOiIgIiICIiAiIgIiICIiAiIgIiICCkE5bG49Fzhcd4d0+Q9fkui9qJxD2kcb6ec6C3l1WVO5PZM4dG1sjo4wCQRvZP7PuIx29Yt7lvn1WyuS3D2ur6Z8mr2ytdEy2a5a17yfOGxvdfqyrW2Ft3YAv0iS+TyuJzW+QlXrkxx5sOLUUbiAJI64Zjwa9kcTYzrw0dIL/1irq8Um0s9CudSsfF0TtDVxxsvLDBNEW2GntjS618w4gGw4dg7FTsSjwu2dratrtBliqJS1vlDHuc39CbQtkkkyb3LZtwLajjrfgTx0VSqsEpmPM8lRUSy9Q3r4ooweoNjIaPOblfP61eqfR9VozFY/pPtooLh0GIyADV0dVFG9x8gdDk/S0rwxjEHi0fjDXNPA3Lc1uogcFTJ8SmilAiPjUbibtf0QwNtmyS26TwDoDcGx4WKzKGrgqS7dPa6WMgSwnKJYyeGdtz84uFoX07fJ79dfmmaKrJ6iHjRw4aeQjiLdqlY6qCdpp3QiRjwWSiVoMZYdHNcHXDmlVzxpzPk0BOhHmPFZ1FjEbGPe5rhkY5xOhuGAk/JovCaTM8LMx5ufOU6ipo6yeOiDYoI3bpsYLzctNi5r3k31v8AIAqLU07r21Fu3XTtBbxGnYrHW1m+e57iS55c9wI63Enr86wXTahpHDS9+Gq+upE1iI9HxtpzMygybA9fk0N/mXlCTl4D5jfzAdqnJIQ4m4zN6tO0+TgbBYFVQuHSY0uYdMoGazh1ebyrPLFGAW8nEEHiLI94BaeNv5qRlwyQgC7S7XoC5IuLm3UTpw7Viy4a9paLscxwBZLciNweAQbkdHrGvAgq5E1g1W9tix12ni08De/bpdStRDHMBfK134Q0/wC/Uq6/CKuBzWuiLc/uHZmmNx8j2ki9ivqXB52OAkifCXEZZZJA2F5PANla1zC4nqvdMZRly074uIuw9YvYa/tURXNs4kcDZTFfRVVKBn9sjtckXcGHrBuBp5bW8qi5iH6jzEcMp04jiNbKKm9mBZj/AO0D87Wn/FS6jNm2+1X8tj52gA/sUmqCIiqCIiDffJBt74lBS4rjcuH1tLRhmBYRRU9JRTY9SvswGoa8NZLFRNpTI113uMhLBlzOBfhcvu1bH1WIUswx/DcUpaiOmw+mjrw7BTRxP/8ANNp2MjdTGamLZGhue5kj6QAcFTNhaaOtwnF6GOkppcSiFLi1JNug6vdS0smTE4aeT3QDInRyiNurg6fQ6WqO8qcQqG5pJ62sqZIoWPmkfNPUTSFkMDDJM4l7iTGwZjwyjgEVdtitrX4i6LBMenlrcPqXtp6arqHGetwernOSnrKSokvKYN46NskL3FhZewFiHUXGqCSjmnpZwBPTTS00zRewlp3vjkDSRctzMNj1iy2hs5yX4iaWpazBa9m0eH4lRSRuqCyOgkopRJ0WGX/RqoRz0+Z7muIyTMIJAc1VHljqGT4pVzx4jSYsZiyWStoYHUlJLM6Jge2CN0kl2NLQM4e4P1dcklBbse5KcOwo0rsY2kio4qykgqoGxUFTVVGeVpM28jhkIhpYyY7TON5CXgNbkJMdWcj1azGjgLaineGwfdB2IuvHTMwwC766RmYuYA7oZAT0yBmynOPbwm66Gpq8PdTzRTtGz2HRl0L2StbJnr3GMlhID8r2HLxs9vatpYltrQUu0QEtbSx0tfsvTYZ4/wC01NNSVMj55YXVIdmiMOUjM14LfbI81mklEafrdhMPnpaurwPHPuq/D4hU11NLQz4dIaTMWyVtI6aRwmiZxcw2c1tiTcta6J5QtjjhEWGzGoFR90sNgxTKI914uZwHGC+d29DQW9Po316IWydoosdoqOsfW4zspSU81HUU2XD48HNVisczLPo6PxOibMWSjTOS3L0XEC12/O2Wz7dpMMwWqocTwiBlBhUWGYmK+rZSvoZqZsbXPkY5pc6M2kI4EgMLQ4OuCoWl5GXSYvSYIMRGarwlmMeMeLEiMyCceLCPfjP04PfMzdH+501xcN5LIKypjw6gx2lq62Nss2MObTVMeHYVTU7W7+ZtbIQyvDZXCMbsNzFwJyAOI25T43QN2vw6eKvpX0bdmo4WVRliZGS3x97WvJdaOUxFr8h1AcNFpnwecbpKd1bh2IVDKKnxbCZ8L8dk6MdJPKy0b5idGREOkBcSACGXsLkBkScm1BWU9VNgGPNxeooYXVVVRSUFTh80tNH77UURme7ftb3AL6t1u5od9Q8mVFDh2H4zimPMoKOvZK7dsoqisqmysfaOKCOB5MzDGHPfKQ0MIY2zy8Ws3J7gXM81mL4tX4U97sOqKLD6Kgq2Vs1fUVLoS1zWsaC2lbum3e4aCS5DcutZ5UqyF+AbLwxTRSSQ0uJMmYx7HvicZqJrRK1pvGSY32zWvkd2IjOx7kkw/C5Y/uttNTU1FVtZJhdRBRVNTNVwyNY41M8Ub8tDTsMjBnc9wdqRlsbR7ORys+7NTgclTBFHRwmtqsUka4UseHhjHiqLM1w45w3dlws5knSytL1++EVWxTwYGIJopizZyijkET2yGOTI8GN4YTkkuD0TrotqbXbS4dNj2MYdNiFNBT4zgcGGw4jvGSUtPVbmUxNnkY7Kxjm1BJJIHRYPwwg1zs/yUYdixqXYPtIyrjpKWapnbNh9TSVIfG28O7jnkAlppHB4MgN4yGAtdnBE7SbLYE/ZVj343FEx2MNe/FvuPWSTR1DqMB2Gblr9++NoJdvQ7dm3C6y+RrZEbP1FfLiuKYOyokwetgpqamrYqh0kbt1JNUSOs0RRjcRhgd0n55DlG7KrfJ/SsxjZmXAqerooMUhxZuJMp62ojpPGKV1LHCXQOk0e5ry+46sgvbM24Q2GcndHDRwYnjmNNwqnrXSfcyGOinr6ysgiIBq3QxPBp6exa7W+kkeoLmg3jkn2Zgjp9p6Cmxegq6WXCqJ7cVbnhpYoZTiBkfVsdd9PJE1rnPju4gBvWbDCx7Bm7UYbhDMPrsNixDCKQ4TiFBWVUVM+1Puo46umfcsngfuC7O0lpEjdbtIWPsdQ0+E0O1FC7FMNrJX4RSASUcwfA+pc+tbLSU735fGnxufE0uYLXlaNDcAK5i3J5RSYbU4tguNjFmUDoW4jBJQ1GHSxMqHBsdRCKh5c+K5OhA0jk1u0tWuls/knroYsD2njlmijklpcObCx72MfM4T1gIia43kIL2XDb+7b2rWCAiIgIiICIiAiIgIiICIiAiIgIDax6wQR5wbj9iIglnVFmlw42JB7TbiPOqxtdjktLPRTRGz44HPsfws1RMOlbUXEbdf6qki82y9X/a/7FV+UF2d9O/8AB8WEd/60cs2b99p/vL11Ji1cFZms5huXBeXCg3bfGGTslLbOsHua12lz0erzXWWzlRwWRubxktdfUPjqcoB7CYjrcdS5qAWXu7FsehJs51v6w6A89jf+8FzbbKlvX8+ToV8R1a+n5823tv8AlHY5j4KCcTXDX542uZCwtIIsXAOkkBtw07b2savsdXPjGcOcJNOmCQ+/EnNe5JOt1Vo2WzXHANYPKXG518zT86s2AQ9E2Cw1NvWleiGHtFtS/VP8MvF+ULE4pgyOoBa1oJbLHG+5Nzq6wdw8qk8O5TquoY+llgizSxTNM0RczK1sZJJY4m9ybcetUbHIvb5Nbe4FgL/gN1Pk1X1hTcr33A6FNldxNnzSNd8+Un5lsV22niPdjMPP2rVjMdUsiaQtcRe+gHV2LwncRqOv/qF5GQXPbwXmx59yfk/l5VsNZkxznttof5f4le5qMosO9fS/Zp+xYbdQfkH7T/Jfpf13t/nyqYGZvbNDrkPBaQeOodp/nyLI8YYxro3C7HFxDTboFxzZR/VzF3zqPYRdt7ZQQT+0rHklMgceskuHyaj9imFW6lxNj2Mp3C92uyZtbOaLtHkva3yrJmxFhp7P6cbhkeziHNuOI7RcKkw1B6Lm8W2IssypqejYHoOJe0dmb3TfMCf2KYRnYhJI1piDy5sfttM8km8f4cT9elpqL90hQtU0OAlj6LvclvDUD3vzWuW/KOxe7qs2DQb21t2tI6bB+351hxSBriCMzescL2sW+Y9d1lgT2zTwYjbvE+a4H/VSigdl5LuksLNd0gOzXh+kqeVURERBERBl4Nic9FPFV0kz6eqgeJYJ4yA+N4BFxcEEFpc0tcC1zXOaQQSDcpdqcErXb/EMDnpawkSSVGA1jaKGeW9y/wATqoJYqVxNiTC4Akk2BVCRFdAclPK48VBwigbTYRR1EVc9tfjVfVYjNFiPi0jqSqmqKt7YI4jNFEHQNiykyOIJcTm09tbtG2vZTsGG4VQy07ZmTT4ZTR0YrnSvYWyTshAjuwMs3KAPbH2sCGiARB+AIAv1ER+BoHAAIWjjYXX6iD8sOxfqIg/A0DgAPMll+ogmsK2TxCqhNVT0cssHthD27sOl3Dc05gjc4SVWQe6MTXZbG9rLzbsxXeKnEBSS+JBhmM3QHtDX7t1QI829dTCTomYNyAggu0KvXJ3tNhdE3D5JpY4ZKcVTK0SYe6vrHSVL6psc1HVSOLKGjbDPAXMgDJc0M/RkMuZQmJV+HTQwzOrq1k8GEU+DGhpY3QvnfSQtpC51S8GIYZNE0yvicM5Mj2ZdcyCExTY7EKSNs09BNFG58cfBjnslnBdBHNFG4y08rwDlZI1rnW0BUhinJ/X01N4xU08sczq+mwyGkDGTSTzVUVbIWtdDI7LUsdSMjNOW571LL5dA69c+MKpXzz08kMrTiOF4nSUseGvp53wYZXGd1NXV0znz1mIGKQe2SvdFmhe4PvJlEXs1tNheDmN0NXU4j/8AWYsSkBpnwFtJ4hjFG91p32kxBjsQje4aMcWMAedS0KbUbE4k2aOldQTOnmbLJTxx7uffNpmufUiJ0LnMkkja0lzAS5ugIBIB9a/YTFYI3zy0ErYYonVDpQ6B7DBG3NLPCY5D4xExur3RZgwA5stlaRtdR0zGUsM1O6NsOMPL8Ow77l0ranEMImw+kDY3Xnknc8s3khysa0RAZ8pcozBtpqWI4cXueG0mC4th01mE5arEOcG4azvMP3RpbuGgu6/uSiqvVYBVxPnjkppGSUkbZqtrsv8Ao8UhgbG95vbK41NOBYm+9ba6jlsfbbEd3hFEySOaDEsQgpo69szXMdJh2AvqoMLnLZLPy1DZIDnI6X3KaQSCL64RBERAREQEREBERAREQEREBERAREQFi4nRNnaGmwLSXMdYOyl1swIPFpsLjT3I1WUiCs1WDMgY6YjM9vBmpicTYXsekWa3ynzXKgoHHPncbnNmJPXc6q4bRP8Aa3MB6XRcRp7nNb9tlVY2CwJ4X17TpwFuJ8iYEpPBlyMGoe90vXbKAGxkAgEcX/Mrzs3RAMuQqm1l5w0aiNjGg6dbQ93DQnM8i/XZbCwWICMeZaevbN2xpRxlRNpKcCeTtO71Fh/uxx6yvhtJu45J2lrw8wizHAuY2KEZg8fguzOOnHog8CL5m1mUVD72Jyx/hG40I1b1Dh/kqvV1TK1ha15DC67mCxa46dKxHkA+RbcdmvPd4PYXnQ2FtfPfgNR8q8je1utt7HqcBpp5l8+NPIsS21yfcs4kWJ4diCd3k6wNLcdT7lB9tkPEdetv+h4r6dLfQi36NV5GXgC3QXN2mx186eMDUhrr6i9wdT5LedUegdc5fIdV9U0trXHBYjJgOrXyr7ErT5EH6527Jb1dXm4hfYmuMl9L5m+RfjXtcLG1+o3HD519OpesaEdnaFADjcEGxGt+wjgvRzszsxtqNerhofMvMRuHugQe3qP8lmYZh75nC4LYvwncLjsb2kqqldmKYsjLz+Gej/ZHA/Kb/oUuvxrQAABYAWAHAAcAv1EEREBFTOdc/ch9F/rpzrn7kPov9dRcLmipnOufuQ+i/wBdOdc/ch9F/roYXNFTOdc/ch9F/rpzrn7kPov9dDC5oqZzrn7kPov9dOdc/ch9F/roYXNFTOdc/ch9F/rpzrn7kPov9dDC5oqZzrn7kPov9dOdc/ch9F/roYXNFTOdc/ch9F/rpzrn7kPov9dDC5oqZzrn7kPov9dOdc/ch9F/roYXNFTOdc/ch9F/rpzrn7kPov8AXQwuaKmc65+5D6L/AF051z9yH0X+uhhdHEnUkk6C51NgAANeoAAeYBfipnOufuQ+i/1051z9yH0X+uhhc0VM51z9yH0X+unOufuQ+i/10MLmipnOufuQ+i/1051z9yH0X+uhhc0VM51z9yH0X+unOufuQ+i/10MLmipnOufuQ+i/1051z9yH0X+uhhc0VM51z9yH0X+unOufuQ+i/wBdDC5oqZzrn7kPov8AXTnXP3IfRf66GFzRUznXP3IfRf66c65+5D6L/XQwuaKmc65+5D6L/XTnXP3IfRf66GFzRUznXP3IfRf66c65+5D6L/XQwz8ble91gx2UakhpJcSbC9uIDGt8xe7tXjQUJeGsc1zQZGNeSHCzSQCfNYLG511Hch9F/rpzrqO5D6L/AF1l1GE9g4dJI+VwLS97n6gi2Yk63Ww8OLWsALm8B1hae51z9yH0X+uvznVP3IPRf661baGZzl6xqYjC4bXMLp3kAubkiN2lrh/vBbUXB06r9XaqvWwuJ9w+2umU/IvDnXP3IfRf66c65+5D6L/XWxHbDyw+Y6J3cd8oP8l6CjPcf8x/kvnnXP3IfRf66c66juQ+i/10MHiju4/0T/JYviz7noSce67+Syudc/ch9F/rpzrqO5D6L/XQwxDTv4ZH+ToO/kvjxd5/3cgP9hw/wWdzrqO5D6MnrpzrqO5D80nroYYApXkgbuTXQ9B3X8iv5ibwLQbdoBVP511Hch9F/rpzrn7kPov9dDC4CJvdb8wX2qZzrn7kPov9dOdc/ch9F/roYXNFTOdc/ch9F/rpzrn7kPov9dDC5oqZzrn7kPov9dOdc/ch9F/roYQCIiiiIiAiIgIiICIiAiIgIiICIiAiIgIiICIiAiIgIiICIiAiIgIiICIiAiIgIiICIiAiIgIiICIiAiIgIiICIiAiIgIiICIiAiIgIiICIiAiIgIiICIiAiIgIiICIiAiIgIiICIiAiIgIiICIiAiIgIiICIiAiIgIiICIiAiIgIiICIiAiIgIiICIiAiIgIiICIiAiIgIiICIiAiIgIiICIiAiIgIiICIiAiIgIiICIiAiIgIiICIiAiIgIiICIiAiIgIiICIiAiIgIiICIiAiIgIiICIiAiIgIiICIiAiIg/9k=\n"
                },
                "metadata": {}
              }
            ]
          }
        },
        "bc1ce0744f584448aee68c3517fec322": {
          "model_module": "@jupyter-widgets/output",
          "model_name": "OutputModel",
          "model_module_version": "1.0.0",
          "state": {
            "_dom_classes": [],
            "_model_module": "@jupyter-widgets/output",
            "_model_module_version": "1.0.0",
            "_model_name": "OutputModel",
            "_view_count": null,
            "_view_module": "@jupyter-widgets/output",
            "_view_module_version": "1.0.0",
            "_view_name": "OutputView",
            "layout": "IPY_MODEL_598e8d7b902c4bd5b807c5548a8efcde",
            "msg_id": "",
            "outputs": [
              {
                "output_type": "stream",
                "name": "stdout",
                "text": [
                  "Video available at https://www.bilibili.com/video/BV1dt4y1Q7C5\n"
                ]
              },
              {
                "output_type": "display_data",
                "data": {
                  "text/plain": "<__main__.PlayVideo at 0x7b6305b16c50>",
                  "text/html": "\n        <iframe\n            width=\"854\"\n            height=\"480\"\n            src=\"https://player.bilibili.com/player.html?bvid=BV1dt4y1Q7C5&page=1?fs=1&autoplay=False\"\n            frameborder=\"0\"\n            allowfullscreen\n            \n        ></iframe>\n        "
                },
                "metadata": {}
              }
            ]
          }
        },
        "85d1fd8ccc8f40b982256933dc81175b": {
          "model_module": "@jupyter-widgets/base",
          "model_name": "LayoutModel",
          "model_module_version": "1.2.0",
          "state": {
            "_model_module": "@jupyter-widgets/base",
            "_model_module_version": "1.2.0",
            "_model_name": "LayoutModel",
            "_view_count": null,
            "_view_module": "@jupyter-widgets/base",
            "_view_module_version": "1.2.0",
            "_view_name": "LayoutView",
            "align_content": null,
            "align_items": null,
            "align_self": null,
            "border": null,
            "bottom": null,
            "display": null,
            "flex": null,
            "flex_flow": null,
            "grid_area": null,
            "grid_auto_columns": null,
            "grid_auto_flow": null,
            "grid_auto_rows": null,
            "grid_column": null,
            "grid_gap": null,
            "grid_row": null,
            "grid_template_areas": null,
            "grid_template_columns": null,
            "grid_template_rows": null,
            "height": null,
            "justify_content": null,
            "justify_items": null,
            "left": null,
            "margin": null,
            "max_height": null,
            "max_width": null,
            "min_height": null,
            "min_width": null,
            "object_fit": null,
            "object_position": null,
            "order": null,
            "overflow": null,
            "overflow_x": null,
            "overflow_y": null,
            "padding": null,
            "right": null,
            "top": null,
            "visibility": null,
            "width": null
          }
        },
        "b8a76c1ab3e04be19f882ad2b9551d41": {
          "model_module": "@jupyter-widgets/base",
          "model_name": "LayoutModel",
          "model_module_version": "1.2.0",
          "state": {
            "_model_module": "@jupyter-widgets/base",
            "_model_module_version": "1.2.0",
            "_model_name": "LayoutModel",
            "_view_count": null,
            "_view_module": "@jupyter-widgets/base",
            "_view_module_version": "1.2.0",
            "_view_name": "LayoutView",
            "align_content": null,
            "align_items": null,
            "align_self": null,
            "border": null,
            "bottom": null,
            "display": null,
            "flex": null,
            "flex_flow": null,
            "grid_area": null,
            "grid_auto_columns": null,
            "grid_auto_flow": null,
            "grid_auto_rows": null,
            "grid_column": null,
            "grid_gap": null,
            "grid_row": null,
            "grid_template_areas": null,
            "grid_template_columns": null,
            "grid_template_rows": null,
            "height": null,
            "justify_content": null,
            "justify_items": null,
            "left": null,
            "margin": null,
            "max_height": null,
            "max_width": null,
            "min_height": null,
            "min_width": null,
            "object_fit": null,
            "object_position": null,
            "order": null,
            "overflow": null,
            "overflow_x": null,
            "overflow_y": null,
            "padding": null,
            "right": null,
            "top": null,
            "visibility": null,
            "width": null
          }
        },
        "598e8d7b902c4bd5b807c5548a8efcde": {
          "model_module": "@jupyter-widgets/base",
          "model_name": "LayoutModel",
          "model_module_version": "1.2.0",
          "state": {
            "_model_module": "@jupyter-widgets/base",
            "_model_module_version": "1.2.0",
            "_model_name": "LayoutModel",
            "_view_count": null,
            "_view_module": "@jupyter-widgets/base",
            "_view_module_version": "1.2.0",
            "_view_name": "LayoutView",
            "align_content": null,
            "align_items": null,
            "align_self": null,
            "border": null,
            "bottom": null,
            "display": null,
            "flex": null,
            "flex_flow": null,
            "grid_area": null,
            "grid_auto_columns": null,
            "grid_auto_flow": null,
            "grid_auto_rows": null,
            "grid_column": null,
            "grid_gap": null,
            "grid_row": null,
            "grid_template_areas": null,
            "grid_template_columns": null,
            "grid_template_rows": null,
            "height": null,
            "justify_content": null,
            "justify_items": null,
            "left": null,
            "margin": null,
            "max_height": null,
            "max_width": null,
            "min_height": null,
            "min_width": null,
            "object_fit": null,
            "object_position": null,
            "order": null,
            "overflow": null,
            "overflow_x": null,
            "overflow_y": null,
            "padding": null,
            "right": null,
            "top": null,
            "visibility": null,
            "width": null
          }
        },
        "32e68a2ccb7645f9aefeef1c439b2044": {
          "model_module": "@jupyter-widgets/controls",
          "model_name": "VBoxModel",
          "model_module_version": "1.5.0",
          "state": {
            "_dom_classes": [],
            "_model_module": "@jupyter-widgets/controls",
            "_model_module_version": "1.5.0",
            "_model_name": "VBoxModel",
            "_view_count": null,
            "_view_module": "@jupyter-widgets/controls",
            "_view_module_version": "1.5.0",
            "_view_name": "VBoxView",
            "box_style": "",
            "children": [
              "IPY_MODEL_bcead51717ed46849450b954514a314d"
            ],
            "layout": "IPY_MODEL_05a34ebc1d444291ac22e9797c41b240"
          }
        },
        "bcead51717ed46849450b954514a314d": {
          "model_module": "@jupyter-widgets/controls",
          "model_name": "VBoxModel",
          "model_module_version": "1.5.0",
          "state": {
            "_dom_classes": [],
            "_model_module": "@jupyter-widgets/controls",
            "_model_module_version": "1.5.0",
            "_model_name": "VBoxModel",
            "_view_count": null,
            "_view_module": "@jupyter-widgets/controls",
            "_view_module_version": "1.5.0",
            "_view_name": "VBoxView",
            "box_style": "",
            "children": [
              "IPY_MODEL_8e5e91a8267c4ae2b7504355ba69be5a",
              "IPY_MODEL_ee7deee1f26b4b1d9dd87f1cba43a4fa",
              "IPY_MODEL_16e65f74fe1f42a78e924ff805f846ff"
            ],
            "layout": "IPY_MODEL_e6f3f01935224f6b917fd4ee7f627354"
          }
        },
        "05a34ebc1d444291ac22e9797c41b240": {
          "model_module": "@jupyter-widgets/base",
          "model_name": "LayoutModel",
          "model_module_version": "1.2.0",
          "state": {
            "_model_module": "@jupyter-widgets/base",
            "_model_module_version": "1.2.0",
            "_model_name": "LayoutModel",
            "_view_count": null,
            "_view_module": "@jupyter-widgets/base",
            "_view_module_version": "1.2.0",
            "_view_name": "LayoutView",
            "align_content": null,
            "align_items": null,
            "align_self": null,
            "border": null,
            "bottom": null,
            "display": null,
            "flex": null,
            "flex_flow": null,
            "grid_area": null,
            "grid_auto_columns": null,
            "grid_auto_flow": null,
            "grid_auto_rows": null,
            "grid_column": null,
            "grid_gap": null,
            "grid_row": null,
            "grid_template_areas": null,
            "grid_template_columns": null,
            "grid_template_rows": null,
            "height": null,
            "justify_content": null,
            "justify_items": null,
            "left": null,
            "margin": null,
            "max_height": null,
            "max_width": null,
            "min_height": null,
            "min_width": null,
            "object_fit": null,
            "object_position": null,
            "order": null,
            "overflow": null,
            "overflow_x": null,
            "overflow_y": null,
            "padding": null,
            "right": null,
            "top": null,
            "visibility": null,
            "width": null
          }
        },
        "8e5e91a8267c4ae2b7504355ba69be5a": {
          "model_module": "@jupyter-widgets/controls",
          "model_name": "HBoxModel",
          "model_module_version": "1.5.0",
          "state": {
            "_dom_classes": [],
            "_model_module": "@jupyter-widgets/controls",
            "_model_module_version": "1.5.0",
            "_model_name": "HBoxModel",
            "_view_count": null,
            "_view_module": "@jupyter-widgets/controls",
            "_view_module_version": "1.5.0",
            "_view_name": "HBoxView",
            "box_style": "",
            "children": [
              "IPY_MODEL_ae1cf61fecb948a78b826da55fd809df",
              "IPY_MODEL_4544088d49c04f6ba7ca3a7e6e078b56",
              "IPY_MODEL_137348a71d4f44b5a01465012b77891d"
            ],
            "layout": "IPY_MODEL_b98acc91b1444a65a963cf8a1edbb27d"
          }
        },
        "ee7deee1f26b4b1d9dd87f1cba43a4fa": {
          "model_module": "@jupyter-widgets/controls",
          "model_name": "HBoxModel",
          "model_module_version": "1.5.0",
          "state": {
            "_dom_classes": [],
            "_model_module": "@jupyter-widgets/controls",
            "_model_module_version": "1.5.0",
            "_model_name": "HBoxModel",
            "_view_count": null,
            "_view_module": "@jupyter-widgets/controls",
            "_view_module_version": "1.5.0",
            "_view_name": "HBoxView",
            "box_style": "",
            "children": [
              "IPY_MODEL_89062ce8cb3a486fa315fd43109442c7",
              "IPY_MODEL_ffa5a068a89f413a93107b362ec5e7fa"
            ],
            "layout": "IPY_MODEL_76d5e7d236f64ee6a3e1bd364c2182e2"
          }
        },
        "16e65f74fe1f42a78e924ff805f846ff": {
          "model_module": "@jupyter-widgets/controls",
          "model_name": "LabelModel",
          "model_module_version": "1.5.0",
          "state": {
            "_dom_classes": [],
            "_model_module": "@jupyter-widgets/controls",
            "_model_module_version": "1.5.0",
            "_model_name": "LabelModel",
            "_view_count": null,
            "_view_module": "@jupyter-widgets/controls",
            "_view_module_version": "1.5.0",
            "_view_name": "LabelView",
            "description": "",
            "description_tooltip": null,
            "layout": "IPY_MODEL_816f475526294a5ea12e30a41df0b17d",
            "placeholder": "​",
            "style": "IPY_MODEL_bd5af9e60aef4effb562bd4f9dbd9417",
            "value": "Thanks for your feedback!"
          }
        },
        "e6f3f01935224f6b917fd4ee7f627354": {
          "model_module": "@jupyter-widgets/base",
          "model_name": "LayoutModel",
          "model_module_version": "1.2.0",
          "state": {
            "_model_module": "@jupyter-widgets/base",
            "_model_module_version": "1.2.0",
            "_model_name": "LayoutModel",
            "_view_count": null,
            "_view_module": "@jupyter-widgets/base",
            "_view_module_version": "1.2.0",
            "_view_name": "LayoutView",
            "align_content": null,
            "align_items": null,
            "align_self": null,
            "border": null,
            "bottom": null,
            "display": null,
            "flex": null,
            "flex_flow": null,
            "grid_area": null,
            "grid_auto_columns": null,
            "grid_auto_flow": null,
            "grid_auto_rows": null,
            "grid_column": null,
            "grid_gap": null,
            "grid_row": null,
            "grid_template_areas": null,
            "grid_template_columns": null,
            "grid_template_rows": null,
            "height": null,
            "justify_content": null,
            "justify_items": null,
            "left": null,
            "margin": null,
            "max_height": null,
            "max_width": null,
            "min_height": null,
            "min_width": null,
            "object_fit": null,
            "object_position": null,
            "order": null,
            "overflow": null,
            "overflow_x": null,
            "overflow_y": null,
            "padding": null,
            "right": null,
            "top": null,
            "visibility": null,
            "width": null
          }
        },
        "ae1cf61fecb948a78b826da55fd809df": {
          "model_module": "@jupyter-widgets/controls",
          "model_name": "ButtonModel",
          "model_module_version": "1.5.0",
          "state": {
            "_dom_classes": [
              "happy"
            ],
            "_model_module": "@jupyter-widgets/controls",
            "_model_module_version": "1.5.0",
            "_model_name": "ButtonModel",
            "_view_count": null,
            "_view_module": "@jupyter-widgets/controls",
            "_view_module_version": "1.5.0",
            "_view_name": "ButtonView",
            "button_style": "",
            "description": "🙂",
            "disabled": false,
            "icon": "",
            "layout": "IPY_MODEL_d5c6bb9f574b49ccb39e444ca402b90a",
            "style": "IPY_MODEL_e83937a3c37c43c3865fc0e825e6bc77",
            "tooltip": "happy"
          }
        },
        "4544088d49c04f6ba7ca3a7e6e078b56": {
          "model_module": "@jupyter-widgets/controls",
          "model_name": "ButtonModel",
          "model_module_version": "1.5.0",
          "state": {
            "_dom_classes": [
              "medium"
            ],
            "_model_module": "@jupyter-widgets/controls",
            "_model_module_version": "1.5.0",
            "_model_name": "ButtonModel",
            "_view_count": null,
            "_view_module": "@jupyter-widgets/controls",
            "_view_module_version": "1.5.0",
            "_view_name": "ButtonView",
            "button_style": "",
            "description": "😐",
            "disabled": false,
            "icon": "",
            "layout": "IPY_MODEL_9cae1f3654ee46b3b3a68870c8184fee",
            "style": "IPY_MODEL_532317f3b1f64d3bb7a59e83b3e5d8a4",
            "tooltip": "medium"
          }
        },
        "137348a71d4f44b5a01465012b77891d": {
          "model_module": "@jupyter-widgets/controls",
          "model_name": "ButtonModel",
          "model_module_version": "1.5.0",
          "state": {
            "_dom_classes": [
              "sad"
            ],
            "_model_module": "@jupyter-widgets/controls",
            "_model_module_version": "1.5.0",
            "_model_name": "ButtonModel",
            "_view_count": null,
            "_view_module": "@jupyter-widgets/controls",
            "_view_module_version": "1.5.0",
            "_view_name": "ButtonView",
            "button_style": "",
            "description": "🙁",
            "disabled": false,
            "icon": "",
            "layout": "IPY_MODEL_ce5ec8c7475b48bd87271e0bc63b1108",
            "style": "IPY_MODEL_43088d6970f5491b854d2496ae119b14",
            "tooltip": "sad"
          }
        },
        "b98acc91b1444a65a963cf8a1edbb27d": {
          "model_module": "@jupyter-widgets/base",
          "model_name": "LayoutModel",
          "model_module_version": "1.2.0",
          "state": {
            "_model_module": "@jupyter-widgets/base",
            "_model_module_version": "1.2.0",
            "_model_name": "LayoutModel",
            "_view_count": null,
            "_view_module": "@jupyter-widgets/base",
            "_view_module_version": "1.2.0",
            "_view_name": "LayoutView",
            "align_content": null,
            "align_items": null,
            "align_self": null,
            "border": null,
            "bottom": null,
            "display": null,
            "flex": null,
            "flex_flow": null,
            "grid_area": null,
            "grid_auto_columns": null,
            "grid_auto_flow": null,
            "grid_auto_rows": null,
            "grid_column": null,
            "grid_gap": null,
            "grid_row": null,
            "grid_template_areas": null,
            "grid_template_columns": null,
            "grid_template_rows": null,
            "height": null,
            "justify_content": null,
            "justify_items": null,
            "left": null,
            "margin": null,
            "max_height": null,
            "max_width": null,
            "min_height": null,
            "min_width": null,
            "object_fit": null,
            "object_position": null,
            "order": null,
            "overflow": null,
            "overflow_x": null,
            "overflow_y": null,
            "padding": null,
            "right": null,
            "top": null,
            "visibility": null,
            "width": null
          }
        },
        "89062ce8cb3a486fa315fd43109442c7": {
          "model_module": "@jupyter-widgets/controls",
          "model_name": "TextareaModel",
          "model_module_version": "1.5.0",
          "state": {
            "_dom_classes": [],
            "_model_module": "@jupyter-widgets/controls",
            "_model_module_version": "1.5.0",
            "_model_name": "TextareaModel",
            "_view_count": null,
            "_view_module": "@jupyter-widgets/controls",
            "_view_module_version": "1.5.0",
            "_view_name": "TextareaView",
            "continuous_update": true,
            "description": "",
            "description_tooltip": null,
            "disabled": false,
            "layout": "IPY_MODEL_61fb702185ee45ef980ad232cccdb952",
            "placeholder": "We want your feedback!",
            "rows": null,
            "style": "IPY_MODEL_29a001a3b3a64160a135c28360df4e02",
            "value": ""
          }
        },
        "ffa5a068a89f413a93107b362ec5e7fa": {
          "model_module": "@jupyter-widgets/controls",
          "model_name": "ButtonModel",
          "model_module_version": "1.5.0",
          "state": {
            "_dom_classes": [],
            "_model_module": "@jupyter-widgets/controls",
            "_model_module_version": "1.5.0",
            "_model_name": "ButtonModel",
            "_view_count": null,
            "_view_module": "@jupyter-widgets/controls",
            "_view_module_version": "1.5.0",
            "_view_name": "ButtonView",
            "button_style": "",
            "description": "Submit",
            "disabled": false,
            "icon": "",
            "layout": "IPY_MODEL_89cad681cb0d4b2189d2b7c15f54c57a",
            "style": "IPY_MODEL_a90a57a833964bac9c238fe7bd37b1c2",
            "tooltip": ""
          }
        },
        "76d5e7d236f64ee6a3e1bd364c2182e2": {
          "model_module": "@jupyter-widgets/base",
          "model_name": "LayoutModel",
          "model_module_version": "1.2.0",
          "state": {
            "_model_module": "@jupyter-widgets/base",
            "_model_module_version": "1.2.0",
            "_model_name": "LayoutModel",
            "_view_count": null,
            "_view_module": "@jupyter-widgets/base",
            "_view_module_version": "1.2.0",
            "_view_name": "LayoutView",
            "align_content": null,
            "align_items": null,
            "align_self": null,
            "border": null,
            "bottom": null,
            "display": "none",
            "flex": null,
            "flex_flow": null,
            "grid_area": null,
            "grid_auto_columns": null,
            "grid_auto_flow": null,
            "grid_auto_rows": null,
            "grid_column": null,
            "grid_gap": null,
            "grid_row": null,
            "grid_template_areas": null,
            "grid_template_columns": null,
            "grid_template_rows": null,
            "height": null,
            "justify_content": null,
            "justify_items": null,
            "left": null,
            "margin": null,
            "max_height": null,
            "max_width": null,
            "min_height": null,
            "min_width": null,
            "object_fit": null,
            "object_position": null,
            "order": null,
            "overflow": null,
            "overflow_x": null,
            "overflow_y": null,
            "padding": null,
            "right": null,
            "top": null,
            "visibility": null,
            "width": null
          }
        },
        "816f475526294a5ea12e30a41df0b17d": {
          "model_module": "@jupyter-widgets/base",
          "model_name": "LayoutModel",
          "model_module_version": "1.2.0",
          "state": {
            "_model_module": "@jupyter-widgets/base",
            "_model_module_version": "1.2.0",
            "_model_name": "LayoutModel",
            "_view_count": null,
            "_view_module": "@jupyter-widgets/base",
            "_view_module_version": "1.2.0",
            "_view_name": "LayoutView",
            "align_content": null,
            "align_items": null,
            "align_self": null,
            "border": null,
            "bottom": null,
            "display": "block",
            "flex": null,
            "flex_flow": null,
            "grid_area": null,
            "grid_auto_columns": null,
            "grid_auto_flow": null,
            "grid_auto_rows": null,
            "grid_column": null,
            "grid_gap": null,
            "grid_row": null,
            "grid_template_areas": null,
            "grid_template_columns": null,
            "grid_template_rows": null,
            "height": null,
            "justify_content": null,
            "justify_items": null,
            "left": null,
            "margin": null,
            "max_height": null,
            "max_width": null,
            "min_height": null,
            "min_width": null,
            "object_fit": null,
            "object_position": null,
            "order": null,
            "overflow": null,
            "overflow_x": null,
            "overflow_y": null,
            "padding": null,
            "right": null,
            "top": null,
            "visibility": null,
            "width": null
          }
        },
        "bd5af9e60aef4effb562bd4f9dbd9417": {
          "model_module": "@jupyter-widgets/controls",
          "model_name": "DescriptionStyleModel",
          "model_module_version": "1.5.0",
          "state": {
            "_model_module": "@jupyter-widgets/controls",
            "_model_module_version": "1.5.0",
            "_model_name": "DescriptionStyleModel",
            "_view_count": null,
            "_view_module": "@jupyter-widgets/base",
            "_view_module_version": "1.2.0",
            "_view_name": "StyleView",
            "description_width": ""
          }
        },
        "d5c6bb9f574b49ccb39e444ca402b90a": {
          "model_module": "@jupyter-widgets/base",
          "model_name": "LayoutModel",
          "model_module_version": "1.2.0",
          "state": {
            "_model_module": "@jupyter-widgets/base",
            "_model_module_version": "1.2.0",
            "_model_name": "LayoutModel",
            "_view_count": null,
            "_view_module": "@jupyter-widgets/base",
            "_view_module_version": "1.2.0",
            "_view_name": "LayoutView",
            "align_content": null,
            "align_items": null,
            "align_self": null,
            "border": "2px solid #666666",
            "bottom": null,
            "display": null,
            "flex": null,
            "flex_flow": null,
            "grid_area": null,
            "grid_auto_columns": null,
            "grid_auto_flow": null,
            "grid_auto_rows": null,
            "grid_column": null,
            "grid_gap": null,
            "grid_row": null,
            "grid_template_areas": null,
            "grid_template_columns": null,
            "grid_template_rows": null,
            "height": "auto",
            "justify_content": null,
            "justify_items": null,
            "left": null,
            "margin": null,
            "max_height": null,
            "max_width": null,
            "min_height": null,
            "min_width": null,
            "object_fit": null,
            "object_position": null,
            "order": null,
            "overflow": null,
            "overflow_x": null,
            "overflow_y": null,
            "padding": "0.5em",
            "right": null,
            "top": null,
            "visibility": null,
            "width": "auto"
          }
        },
        "e83937a3c37c43c3865fc0e825e6bc77": {
          "model_module": "@jupyter-widgets/controls",
          "model_name": "ButtonStyleModel",
          "model_module_version": "1.5.0",
          "state": {
            "_model_module": "@jupyter-widgets/controls",
            "_model_module_version": "1.5.0",
            "_model_name": "ButtonStyleModel",
            "_view_count": null,
            "_view_module": "@jupyter-widgets/base",
            "_view_module_version": "1.2.0",
            "_view_name": "StyleView",
            "button_color": "#aaffaa",
            "font_weight": ""
          }
        },
        "9cae1f3654ee46b3b3a68870c8184fee": {
          "model_module": "@jupyter-widgets/base",
          "model_name": "LayoutModel",
          "model_module_version": "1.2.0",
          "state": {
            "_model_module": "@jupyter-widgets/base",
            "_model_module_version": "1.2.0",
            "_model_name": "LayoutModel",
            "_view_count": null,
            "_view_module": "@jupyter-widgets/base",
            "_view_module_version": "1.2.0",
            "_view_name": "LayoutView",
            "align_content": null,
            "align_items": null,
            "align_self": null,
            "border": null,
            "bottom": null,
            "display": null,
            "flex": null,
            "flex_flow": null,
            "grid_area": null,
            "grid_auto_columns": null,
            "grid_auto_flow": null,
            "grid_auto_rows": null,
            "grid_column": null,
            "grid_gap": null,
            "grid_row": null,
            "grid_template_areas": null,
            "grid_template_columns": null,
            "grid_template_rows": null,
            "height": "auto",
            "justify_content": null,
            "justify_items": null,
            "left": null,
            "margin": null,
            "max_height": null,
            "max_width": null,
            "min_height": null,
            "min_width": null,
            "object_fit": null,
            "object_position": null,
            "order": null,
            "overflow": null,
            "overflow_x": null,
            "overflow_y": null,
            "padding": "0.5em",
            "right": null,
            "top": null,
            "visibility": null,
            "width": "auto"
          }
        },
        "532317f3b1f64d3bb7a59e83b3e5d8a4": {
          "model_module": "@jupyter-widgets/controls",
          "model_name": "ButtonStyleModel",
          "model_module_version": "1.5.0",
          "state": {
            "_model_module": "@jupyter-widgets/controls",
            "_model_module_version": "1.5.0",
            "_model_name": "ButtonStyleModel",
            "_view_count": null,
            "_view_module": "@jupyter-widgets/base",
            "_view_module_version": "1.2.0",
            "_view_name": "StyleView",
            "button_color": "#dddd77",
            "font_weight": ""
          }
        },
        "ce5ec8c7475b48bd87271e0bc63b1108": {
          "model_module": "@jupyter-widgets/base",
          "model_name": "LayoutModel",
          "model_module_version": "1.2.0",
          "state": {
            "_model_module": "@jupyter-widgets/base",
            "_model_module_version": "1.2.0",
            "_model_name": "LayoutModel",
            "_view_count": null,
            "_view_module": "@jupyter-widgets/base",
            "_view_module_version": "1.2.0",
            "_view_name": "LayoutView",
            "align_content": null,
            "align_items": null,
            "align_self": null,
            "border": null,
            "bottom": null,
            "display": null,
            "flex": null,
            "flex_flow": null,
            "grid_area": null,
            "grid_auto_columns": null,
            "grid_auto_flow": null,
            "grid_auto_rows": null,
            "grid_column": null,
            "grid_gap": null,
            "grid_row": null,
            "grid_template_areas": null,
            "grid_template_columns": null,
            "grid_template_rows": null,
            "height": "auto",
            "justify_content": null,
            "justify_items": null,
            "left": null,
            "margin": null,
            "max_height": null,
            "max_width": null,
            "min_height": null,
            "min_width": null,
            "object_fit": null,
            "object_position": null,
            "order": null,
            "overflow": null,
            "overflow_x": null,
            "overflow_y": null,
            "padding": "0.5em",
            "right": null,
            "top": null,
            "visibility": null,
            "width": "auto"
          }
        },
        "43088d6970f5491b854d2496ae119b14": {
          "model_module": "@jupyter-widgets/controls",
          "model_name": "ButtonStyleModel",
          "model_module_version": "1.5.0",
          "state": {
            "_model_module": "@jupyter-widgets/controls",
            "_model_module_version": "1.5.0",
            "_model_name": "ButtonStyleModel",
            "_view_count": null,
            "_view_module": "@jupyter-widgets/base",
            "_view_module_version": "1.2.0",
            "_view_name": "StyleView",
            "button_color": "#ffaaaa",
            "font_weight": ""
          }
        },
        "61fb702185ee45ef980ad232cccdb952": {
          "model_module": "@jupyter-widgets/base",
          "model_name": "LayoutModel",
          "model_module_version": "1.2.0",
          "state": {
            "_model_module": "@jupyter-widgets/base",
            "_model_module_version": "1.2.0",
            "_model_name": "LayoutModel",
            "_view_count": null,
            "_view_module": "@jupyter-widgets/base",
            "_view_module_version": "1.2.0",
            "_view_name": "LayoutView",
            "align_content": null,
            "align_items": null,
            "align_self": null,
            "border": null,
            "bottom": null,
            "display": null,
            "flex": null,
            "flex_flow": null,
            "grid_area": null,
            "grid_auto_columns": null,
            "grid_auto_flow": null,
            "grid_auto_rows": null,
            "grid_column": null,
            "grid_gap": null,
            "grid_row": null,
            "grid_template_areas": null,
            "grid_template_columns": null,
            "grid_template_rows": null,
            "height": "auto",
            "justify_content": null,
            "justify_items": null,
            "left": null,
            "margin": null,
            "max_height": null,
            "max_width": null,
            "min_height": null,
            "min_width": null,
            "object_fit": null,
            "object_position": null,
            "order": null,
            "overflow": null,
            "overflow_x": null,
            "overflow_y": null,
            "padding": null,
            "right": null,
            "top": null,
            "visibility": null,
            "width": "auto"
          }
        },
        "29a001a3b3a64160a135c28360df4e02": {
          "model_module": "@jupyter-widgets/controls",
          "model_name": "DescriptionStyleModel",
          "model_module_version": "1.5.0",
          "state": {
            "_model_module": "@jupyter-widgets/controls",
            "_model_module_version": "1.5.0",
            "_model_name": "DescriptionStyleModel",
            "_view_count": null,
            "_view_module": "@jupyter-widgets/base",
            "_view_module_version": "1.2.0",
            "_view_name": "StyleView",
            "description_width": ""
          }
        },
        "89cad681cb0d4b2189d2b7c15f54c57a": {
          "model_module": "@jupyter-widgets/base",
          "model_name": "LayoutModel",
          "model_module_version": "1.2.0",
          "state": {
            "_model_module": "@jupyter-widgets/base",
            "_model_module_version": "1.2.0",
            "_model_name": "LayoutModel",
            "_view_count": null,
            "_view_module": "@jupyter-widgets/base",
            "_view_module_version": "1.2.0",
            "_view_name": "LayoutView",
            "align_content": null,
            "align_items": null,
            "align_self": null,
            "border": null,
            "bottom": null,
            "display": null,
            "flex": null,
            "flex_flow": null,
            "grid_area": null,
            "grid_auto_columns": null,
            "grid_auto_flow": null,
            "grid_auto_rows": null,
            "grid_column": null,
            "grid_gap": null,
            "grid_row": null,
            "grid_template_areas": null,
            "grid_template_columns": null,
            "grid_template_rows": null,
            "height": "auto",
            "justify_content": null,
            "justify_items": null,
            "left": null,
            "margin": null,
            "max_height": null,
            "max_width": null,
            "min_height": null,
            "min_width": null,
            "object_fit": null,
            "object_position": null,
            "order": null,
            "overflow": null,
            "overflow_x": null,
            "overflow_y": null,
            "padding": null,
            "right": null,
            "top": null,
            "visibility": null,
            "width": "auto"
          }
        },
        "a90a57a833964bac9c238fe7bd37b1c2": {
          "model_module": "@jupyter-widgets/controls",
          "model_name": "ButtonStyleModel",
          "model_module_version": "1.5.0",
          "state": {
            "_model_module": "@jupyter-widgets/controls",
            "_model_module_version": "1.5.0",
            "_model_name": "ButtonStyleModel",
            "_view_count": null,
            "_view_module": "@jupyter-widgets/base",
            "_view_module_version": "1.2.0",
            "_view_name": "StyleView",
            "button_color": null,
            "font_weight": ""
          }
        },
        "fb65967cb3904693a647274ca6051795": {
          "model_module": "@jupyter-widgets/controls",
          "model_name": "VBoxModel",
          "model_module_version": "1.5.0",
          "state": {
            "_dom_classes": [],
            "_model_module": "@jupyter-widgets/controls",
            "_model_module_version": "1.5.0",
            "_model_name": "VBoxModel",
            "_view_count": null,
            "_view_module": "@jupyter-widgets/controls",
            "_view_module_version": "1.5.0",
            "_view_name": "VBoxView",
            "box_style": "",
            "children": [
              "IPY_MODEL_fb34a759c37641dcba0586165e9e0201"
            ],
            "layout": "IPY_MODEL_b1e991e09c1947748fb9cda5dbd58132"
          }
        },
        "fb34a759c37641dcba0586165e9e0201": {
          "model_module": "@jupyter-widgets/controls",
          "model_name": "VBoxModel",
          "model_module_version": "1.5.0",
          "state": {
            "_dom_classes": [],
            "_model_module": "@jupyter-widgets/controls",
            "_model_module_version": "1.5.0",
            "_model_name": "VBoxModel",
            "_view_count": null,
            "_view_module": "@jupyter-widgets/controls",
            "_view_module_version": "1.5.0",
            "_view_name": "VBoxView",
            "box_style": "",
            "children": [
              "IPY_MODEL_e44eac639c0a4777ae6406fe1363bdc3",
              "IPY_MODEL_f3bc9e67bc17415e995bb520a7e1a2b8",
              "IPY_MODEL_2f863ef0ce9c41c793c8bf32a4016e4f"
            ],
            "layout": "IPY_MODEL_6d1bdde6afc44396af60ab094e828714"
          }
        },
        "b1e991e09c1947748fb9cda5dbd58132": {
          "model_module": "@jupyter-widgets/base",
          "model_name": "LayoutModel",
          "model_module_version": "1.2.0",
          "state": {
            "_model_module": "@jupyter-widgets/base",
            "_model_module_version": "1.2.0",
            "_model_name": "LayoutModel",
            "_view_count": null,
            "_view_module": "@jupyter-widgets/base",
            "_view_module_version": "1.2.0",
            "_view_name": "LayoutView",
            "align_content": null,
            "align_items": null,
            "align_self": null,
            "border": null,
            "bottom": null,
            "display": null,
            "flex": null,
            "flex_flow": null,
            "grid_area": null,
            "grid_auto_columns": null,
            "grid_auto_flow": null,
            "grid_auto_rows": null,
            "grid_column": null,
            "grid_gap": null,
            "grid_row": null,
            "grid_template_areas": null,
            "grid_template_columns": null,
            "grid_template_rows": null,
            "height": null,
            "justify_content": null,
            "justify_items": null,
            "left": null,
            "margin": null,
            "max_height": null,
            "max_width": null,
            "min_height": null,
            "min_width": null,
            "object_fit": null,
            "object_position": null,
            "order": null,
            "overflow": null,
            "overflow_x": null,
            "overflow_y": null,
            "padding": null,
            "right": null,
            "top": null,
            "visibility": null,
            "width": null
          }
        },
        "e44eac639c0a4777ae6406fe1363bdc3": {
          "model_module": "@jupyter-widgets/controls",
          "model_name": "HBoxModel",
          "model_module_version": "1.5.0",
          "state": {
            "_dom_classes": [],
            "_model_module": "@jupyter-widgets/controls",
            "_model_module_version": "1.5.0",
            "_model_name": "HBoxModel",
            "_view_count": null,
            "_view_module": "@jupyter-widgets/controls",
            "_view_module_version": "1.5.0",
            "_view_name": "HBoxView",
            "box_style": "",
            "children": [
              "IPY_MODEL_83f79b440cc74426913db9112ddee9bc",
              "IPY_MODEL_238814bbb6f747f3a16588dde49540ba",
              "IPY_MODEL_115f8cb813774deab08c66e90d43c1e7"
            ],
            "layout": "IPY_MODEL_69cffdac6c8c4e2a83fbbced8d8bba89"
          }
        },
        "f3bc9e67bc17415e995bb520a7e1a2b8": {
          "model_module": "@jupyter-widgets/controls",
          "model_name": "HBoxModel",
          "model_module_version": "1.5.0",
          "state": {
            "_dom_classes": [],
            "_model_module": "@jupyter-widgets/controls",
            "_model_module_version": "1.5.0",
            "_model_name": "HBoxModel",
            "_view_count": null,
            "_view_module": "@jupyter-widgets/controls",
            "_view_module_version": "1.5.0",
            "_view_name": "HBoxView",
            "box_style": "",
            "children": [
              "IPY_MODEL_f9a32d765b9a469c83da6fe37c4cc22a",
              "IPY_MODEL_798b81920332449795a55f27804314cc"
            ],
            "layout": "IPY_MODEL_e9b9ec297eed41e48b5bb46129441665"
          }
        },
        "2f863ef0ce9c41c793c8bf32a4016e4f": {
          "model_module": "@jupyter-widgets/controls",
          "model_name": "LabelModel",
          "model_module_version": "1.5.0",
          "state": {
            "_dom_classes": [],
            "_model_module": "@jupyter-widgets/controls",
            "_model_module_version": "1.5.0",
            "_model_name": "LabelModel",
            "_view_count": null,
            "_view_module": "@jupyter-widgets/controls",
            "_view_module_version": "1.5.0",
            "_view_name": "LabelView",
            "description": "",
            "description_tooltip": null,
            "layout": "IPY_MODEL_e0dab4858c864cdcbaf4b85aae80b360",
            "placeholder": "​",
            "style": "IPY_MODEL_8f057fe8ca11466b9342a7bfb3f37898",
            "value": "Thanks for your feedback!"
          }
        },
        "6d1bdde6afc44396af60ab094e828714": {
          "model_module": "@jupyter-widgets/base",
          "model_name": "LayoutModel",
          "model_module_version": "1.2.0",
          "state": {
            "_model_module": "@jupyter-widgets/base",
            "_model_module_version": "1.2.0",
            "_model_name": "LayoutModel",
            "_view_count": null,
            "_view_module": "@jupyter-widgets/base",
            "_view_module_version": "1.2.0",
            "_view_name": "LayoutView",
            "align_content": null,
            "align_items": null,
            "align_self": null,
            "border": null,
            "bottom": null,
            "display": null,
            "flex": null,
            "flex_flow": null,
            "grid_area": null,
            "grid_auto_columns": null,
            "grid_auto_flow": null,
            "grid_auto_rows": null,
            "grid_column": null,
            "grid_gap": null,
            "grid_row": null,
            "grid_template_areas": null,
            "grid_template_columns": null,
            "grid_template_rows": null,
            "height": null,
            "justify_content": null,
            "justify_items": null,
            "left": null,
            "margin": null,
            "max_height": null,
            "max_width": null,
            "min_height": null,
            "min_width": null,
            "object_fit": null,
            "object_position": null,
            "order": null,
            "overflow": null,
            "overflow_x": null,
            "overflow_y": null,
            "padding": null,
            "right": null,
            "top": null,
            "visibility": null,
            "width": null
          }
        },
        "83f79b440cc74426913db9112ddee9bc": {
          "model_module": "@jupyter-widgets/controls",
          "model_name": "ButtonModel",
          "model_module_version": "1.5.0",
          "state": {
            "_dom_classes": [
              "happy"
            ],
            "_model_module": "@jupyter-widgets/controls",
            "_model_module_version": "1.5.0",
            "_model_name": "ButtonModel",
            "_view_count": null,
            "_view_module": "@jupyter-widgets/controls",
            "_view_module_version": "1.5.0",
            "_view_name": "ButtonView",
            "button_style": "",
            "description": "🙂",
            "disabled": false,
            "icon": "",
            "layout": "IPY_MODEL_ccc96a45dd4746f194f06b1712d87b12",
            "style": "IPY_MODEL_bd8c9b9918c543a4a414fd8b0b4ec9cc",
            "tooltip": "happy"
          }
        },
        "238814bbb6f747f3a16588dde49540ba": {
          "model_module": "@jupyter-widgets/controls",
          "model_name": "ButtonModel",
          "model_module_version": "1.5.0",
          "state": {
            "_dom_classes": [
              "medium"
            ],
            "_model_module": "@jupyter-widgets/controls",
            "_model_module_version": "1.5.0",
            "_model_name": "ButtonModel",
            "_view_count": null,
            "_view_module": "@jupyter-widgets/controls",
            "_view_module_version": "1.5.0",
            "_view_name": "ButtonView",
            "button_style": "",
            "description": "😐",
            "disabled": false,
            "icon": "",
            "layout": "IPY_MODEL_4f4ba6bfebb74a8a9833abd3956868cd",
            "style": "IPY_MODEL_a7573e2857f749fda4b7f1f7e37795b0",
            "tooltip": "medium"
          }
        },
        "115f8cb813774deab08c66e90d43c1e7": {
          "model_module": "@jupyter-widgets/controls",
          "model_name": "ButtonModel",
          "model_module_version": "1.5.0",
          "state": {
            "_dom_classes": [
              "sad"
            ],
            "_model_module": "@jupyter-widgets/controls",
            "_model_module_version": "1.5.0",
            "_model_name": "ButtonModel",
            "_view_count": null,
            "_view_module": "@jupyter-widgets/controls",
            "_view_module_version": "1.5.0",
            "_view_name": "ButtonView",
            "button_style": "",
            "description": "🙁",
            "disabled": false,
            "icon": "",
            "layout": "IPY_MODEL_98c38dd8b9d3414e9f6010a62f691512",
            "style": "IPY_MODEL_87c19e1312d9492699eeb2957ad003d0",
            "tooltip": "sad"
          }
        },
        "69cffdac6c8c4e2a83fbbced8d8bba89": {
          "model_module": "@jupyter-widgets/base",
          "model_name": "LayoutModel",
          "model_module_version": "1.2.0",
          "state": {
            "_model_module": "@jupyter-widgets/base",
            "_model_module_version": "1.2.0",
            "_model_name": "LayoutModel",
            "_view_count": null,
            "_view_module": "@jupyter-widgets/base",
            "_view_module_version": "1.2.0",
            "_view_name": "LayoutView",
            "align_content": null,
            "align_items": null,
            "align_self": null,
            "border": null,
            "bottom": null,
            "display": null,
            "flex": null,
            "flex_flow": null,
            "grid_area": null,
            "grid_auto_columns": null,
            "grid_auto_flow": null,
            "grid_auto_rows": null,
            "grid_column": null,
            "grid_gap": null,
            "grid_row": null,
            "grid_template_areas": null,
            "grid_template_columns": null,
            "grid_template_rows": null,
            "height": null,
            "justify_content": null,
            "justify_items": null,
            "left": null,
            "margin": null,
            "max_height": null,
            "max_width": null,
            "min_height": null,
            "min_width": null,
            "object_fit": null,
            "object_position": null,
            "order": null,
            "overflow": null,
            "overflow_x": null,
            "overflow_y": null,
            "padding": null,
            "right": null,
            "top": null,
            "visibility": null,
            "width": null
          }
        },
        "f9a32d765b9a469c83da6fe37c4cc22a": {
          "model_module": "@jupyter-widgets/controls",
          "model_name": "TextareaModel",
          "model_module_version": "1.5.0",
          "state": {
            "_dom_classes": [],
            "_model_module": "@jupyter-widgets/controls",
            "_model_module_version": "1.5.0",
            "_model_name": "TextareaModel",
            "_view_count": null,
            "_view_module": "@jupyter-widgets/controls",
            "_view_module_version": "1.5.0",
            "_view_name": "TextareaView",
            "continuous_update": true,
            "description": "",
            "description_tooltip": null,
            "disabled": false,
            "layout": "IPY_MODEL_1d383357e1a64954a9ea67d8fd56e092",
            "placeholder": "We want your feedback!",
            "rows": null,
            "style": "IPY_MODEL_57b79547835444a1a104fbb657aa8b80",
            "value": ""
          }
        },
        "798b81920332449795a55f27804314cc": {
          "model_module": "@jupyter-widgets/controls",
          "model_name": "ButtonModel",
          "model_module_version": "1.5.0",
          "state": {
            "_dom_classes": [],
            "_model_module": "@jupyter-widgets/controls",
            "_model_module_version": "1.5.0",
            "_model_name": "ButtonModel",
            "_view_count": null,
            "_view_module": "@jupyter-widgets/controls",
            "_view_module_version": "1.5.0",
            "_view_name": "ButtonView",
            "button_style": "",
            "description": "Submit",
            "disabled": false,
            "icon": "",
            "layout": "IPY_MODEL_b1645bf6a59043faa716415ce77ee6ff",
            "style": "IPY_MODEL_aff2d3ea057d4e2abffd5211c61ea334",
            "tooltip": ""
          }
        },
        "e9b9ec297eed41e48b5bb46129441665": {
          "model_module": "@jupyter-widgets/base",
          "model_name": "LayoutModel",
          "model_module_version": "1.2.0",
          "state": {
            "_model_module": "@jupyter-widgets/base",
            "_model_module_version": "1.2.0",
            "_model_name": "LayoutModel",
            "_view_count": null,
            "_view_module": "@jupyter-widgets/base",
            "_view_module_version": "1.2.0",
            "_view_name": "LayoutView",
            "align_content": null,
            "align_items": null,
            "align_self": null,
            "border": null,
            "bottom": null,
            "display": "none",
            "flex": null,
            "flex_flow": null,
            "grid_area": null,
            "grid_auto_columns": null,
            "grid_auto_flow": null,
            "grid_auto_rows": null,
            "grid_column": null,
            "grid_gap": null,
            "grid_row": null,
            "grid_template_areas": null,
            "grid_template_columns": null,
            "grid_template_rows": null,
            "height": null,
            "justify_content": null,
            "justify_items": null,
            "left": null,
            "margin": null,
            "max_height": null,
            "max_width": null,
            "min_height": null,
            "min_width": null,
            "object_fit": null,
            "object_position": null,
            "order": null,
            "overflow": null,
            "overflow_x": null,
            "overflow_y": null,
            "padding": null,
            "right": null,
            "top": null,
            "visibility": null,
            "width": null
          }
        },
        "e0dab4858c864cdcbaf4b85aae80b360": {
          "model_module": "@jupyter-widgets/base",
          "model_name": "LayoutModel",
          "model_module_version": "1.2.0",
          "state": {
            "_model_module": "@jupyter-widgets/base",
            "_model_module_version": "1.2.0",
            "_model_name": "LayoutModel",
            "_view_count": null,
            "_view_module": "@jupyter-widgets/base",
            "_view_module_version": "1.2.0",
            "_view_name": "LayoutView",
            "align_content": null,
            "align_items": null,
            "align_self": null,
            "border": null,
            "bottom": null,
            "display": "none",
            "flex": null,
            "flex_flow": null,
            "grid_area": null,
            "grid_auto_columns": null,
            "grid_auto_flow": null,
            "grid_auto_rows": null,
            "grid_column": null,
            "grid_gap": null,
            "grid_row": null,
            "grid_template_areas": null,
            "grid_template_columns": null,
            "grid_template_rows": null,
            "height": null,
            "justify_content": null,
            "justify_items": null,
            "left": null,
            "margin": null,
            "max_height": null,
            "max_width": null,
            "min_height": null,
            "min_width": null,
            "object_fit": null,
            "object_position": null,
            "order": null,
            "overflow": null,
            "overflow_x": null,
            "overflow_y": null,
            "padding": null,
            "right": null,
            "top": null,
            "visibility": null,
            "width": null
          }
        },
        "8f057fe8ca11466b9342a7bfb3f37898": {
          "model_module": "@jupyter-widgets/controls",
          "model_name": "DescriptionStyleModel",
          "model_module_version": "1.5.0",
          "state": {
            "_model_module": "@jupyter-widgets/controls",
            "_model_module_version": "1.5.0",
            "_model_name": "DescriptionStyleModel",
            "_view_count": null,
            "_view_module": "@jupyter-widgets/base",
            "_view_module_version": "1.2.0",
            "_view_name": "StyleView",
            "description_width": ""
          }
        },
        "ccc96a45dd4746f194f06b1712d87b12": {
          "model_module": "@jupyter-widgets/base",
          "model_name": "LayoutModel",
          "model_module_version": "1.2.0",
          "state": {
            "_model_module": "@jupyter-widgets/base",
            "_model_module_version": "1.2.0",
            "_model_name": "LayoutModel",
            "_view_count": null,
            "_view_module": "@jupyter-widgets/base",
            "_view_module_version": "1.2.0",
            "_view_name": "LayoutView",
            "align_content": null,
            "align_items": null,
            "align_self": null,
            "border": null,
            "bottom": null,
            "display": null,
            "flex": null,
            "flex_flow": null,
            "grid_area": null,
            "grid_auto_columns": null,
            "grid_auto_flow": null,
            "grid_auto_rows": null,
            "grid_column": null,
            "grid_gap": null,
            "grid_row": null,
            "grid_template_areas": null,
            "grid_template_columns": null,
            "grid_template_rows": null,
            "height": "auto",
            "justify_content": null,
            "justify_items": null,
            "left": null,
            "margin": null,
            "max_height": null,
            "max_width": null,
            "min_height": null,
            "min_width": null,
            "object_fit": null,
            "object_position": null,
            "order": null,
            "overflow": null,
            "overflow_x": null,
            "overflow_y": null,
            "padding": "0.5em",
            "right": null,
            "top": null,
            "visibility": null,
            "width": "auto"
          }
        },
        "bd8c9b9918c543a4a414fd8b0b4ec9cc": {
          "model_module": "@jupyter-widgets/controls",
          "model_name": "ButtonStyleModel",
          "model_module_version": "1.5.0",
          "state": {
            "_model_module": "@jupyter-widgets/controls",
            "_model_module_version": "1.5.0",
            "_model_name": "ButtonStyleModel",
            "_view_count": null,
            "_view_module": "@jupyter-widgets/base",
            "_view_module_version": "1.2.0",
            "_view_name": "StyleView",
            "button_color": "#aaffaa",
            "font_weight": ""
          }
        },
        "4f4ba6bfebb74a8a9833abd3956868cd": {
          "model_module": "@jupyter-widgets/base",
          "model_name": "LayoutModel",
          "model_module_version": "1.2.0",
          "state": {
            "_model_module": "@jupyter-widgets/base",
            "_model_module_version": "1.2.0",
            "_model_name": "LayoutModel",
            "_view_count": null,
            "_view_module": "@jupyter-widgets/base",
            "_view_module_version": "1.2.0",
            "_view_name": "LayoutView",
            "align_content": null,
            "align_items": null,
            "align_self": null,
            "border": null,
            "bottom": null,
            "display": null,
            "flex": null,
            "flex_flow": null,
            "grid_area": null,
            "grid_auto_columns": null,
            "grid_auto_flow": null,
            "grid_auto_rows": null,
            "grid_column": null,
            "grid_gap": null,
            "grid_row": null,
            "grid_template_areas": null,
            "grid_template_columns": null,
            "grid_template_rows": null,
            "height": "auto",
            "justify_content": null,
            "justify_items": null,
            "left": null,
            "margin": null,
            "max_height": null,
            "max_width": null,
            "min_height": null,
            "min_width": null,
            "object_fit": null,
            "object_position": null,
            "order": null,
            "overflow": null,
            "overflow_x": null,
            "overflow_y": null,
            "padding": "0.5em",
            "right": null,
            "top": null,
            "visibility": null,
            "width": "auto"
          }
        },
        "a7573e2857f749fda4b7f1f7e37795b0": {
          "model_module": "@jupyter-widgets/controls",
          "model_name": "ButtonStyleModel",
          "model_module_version": "1.5.0",
          "state": {
            "_model_module": "@jupyter-widgets/controls",
            "_model_module_version": "1.5.0",
            "_model_name": "ButtonStyleModel",
            "_view_count": null,
            "_view_module": "@jupyter-widgets/base",
            "_view_module_version": "1.2.0",
            "_view_name": "StyleView",
            "button_color": "#dddd77",
            "font_weight": ""
          }
        },
        "98c38dd8b9d3414e9f6010a62f691512": {
          "model_module": "@jupyter-widgets/base",
          "model_name": "LayoutModel",
          "model_module_version": "1.2.0",
          "state": {
            "_model_module": "@jupyter-widgets/base",
            "_model_module_version": "1.2.0",
            "_model_name": "LayoutModel",
            "_view_count": null,
            "_view_module": "@jupyter-widgets/base",
            "_view_module_version": "1.2.0",
            "_view_name": "LayoutView",
            "align_content": null,
            "align_items": null,
            "align_self": null,
            "border": null,
            "bottom": null,
            "display": null,
            "flex": null,
            "flex_flow": null,
            "grid_area": null,
            "grid_auto_columns": null,
            "grid_auto_flow": null,
            "grid_auto_rows": null,
            "grid_column": null,
            "grid_gap": null,
            "grid_row": null,
            "grid_template_areas": null,
            "grid_template_columns": null,
            "grid_template_rows": null,
            "height": "auto",
            "justify_content": null,
            "justify_items": null,
            "left": null,
            "margin": null,
            "max_height": null,
            "max_width": null,
            "min_height": null,
            "min_width": null,
            "object_fit": null,
            "object_position": null,
            "order": null,
            "overflow": null,
            "overflow_x": null,
            "overflow_y": null,
            "padding": "0.5em",
            "right": null,
            "top": null,
            "visibility": null,
            "width": "auto"
          }
        },
        "87c19e1312d9492699eeb2957ad003d0": {
          "model_module": "@jupyter-widgets/controls",
          "model_name": "ButtonStyleModel",
          "model_module_version": "1.5.0",
          "state": {
            "_model_module": "@jupyter-widgets/controls",
            "_model_module_version": "1.5.0",
            "_model_name": "ButtonStyleModel",
            "_view_count": null,
            "_view_module": "@jupyter-widgets/base",
            "_view_module_version": "1.2.0",
            "_view_name": "StyleView",
            "button_color": "#ffaaaa",
            "font_weight": ""
          }
        },
        "1d383357e1a64954a9ea67d8fd56e092": {
          "model_module": "@jupyter-widgets/base",
          "model_name": "LayoutModel",
          "model_module_version": "1.2.0",
          "state": {
            "_model_module": "@jupyter-widgets/base",
            "_model_module_version": "1.2.0",
            "_model_name": "LayoutModel",
            "_view_count": null,
            "_view_module": "@jupyter-widgets/base",
            "_view_module_version": "1.2.0",
            "_view_name": "LayoutView",
            "align_content": null,
            "align_items": null,
            "align_self": null,
            "border": null,
            "bottom": null,
            "display": null,
            "flex": null,
            "flex_flow": null,
            "grid_area": null,
            "grid_auto_columns": null,
            "grid_auto_flow": null,
            "grid_auto_rows": null,
            "grid_column": null,
            "grid_gap": null,
            "grid_row": null,
            "grid_template_areas": null,
            "grid_template_columns": null,
            "grid_template_rows": null,
            "height": "auto",
            "justify_content": null,
            "justify_items": null,
            "left": null,
            "margin": null,
            "max_height": null,
            "max_width": null,
            "min_height": null,
            "min_width": null,
            "object_fit": null,
            "object_position": null,
            "order": null,
            "overflow": null,
            "overflow_x": null,
            "overflow_y": null,
            "padding": null,
            "right": null,
            "top": null,
            "visibility": null,
            "width": "auto"
          }
        },
        "57b79547835444a1a104fbb657aa8b80": {
          "model_module": "@jupyter-widgets/controls",
          "model_name": "DescriptionStyleModel",
          "model_module_version": "1.5.0",
          "state": {
            "_model_module": "@jupyter-widgets/controls",
            "_model_module_version": "1.5.0",
            "_model_name": "DescriptionStyleModel",
            "_view_count": null,
            "_view_module": "@jupyter-widgets/base",
            "_view_module_version": "1.2.0",
            "_view_name": "StyleView",
            "description_width": ""
          }
        },
        "b1645bf6a59043faa716415ce77ee6ff": {
          "model_module": "@jupyter-widgets/base",
          "model_name": "LayoutModel",
          "model_module_version": "1.2.0",
          "state": {
            "_model_module": "@jupyter-widgets/base",
            "_model_module_version": "1.2.0",
            "_model_name": "LayoutModel",
            "_view_count": null,
            "_view_module": "@jupyter-widgets/base",
            "_view_module_version": "1.2.0",
            "_view_name": "LayoutView",
            "align_content": null,
            "align_items": null,
            "align_self": null,
            "border": null,
            "bottom": null,
            "display": null,
            "flex": null,
            "flex_flow": null,
            "grid_area": null,
            "grid_auto_columns": null,
            "grid_auto_flow": null,
            "grid_auto_rows": null,
            "grid_column": null,
            "grid_gap": null,
            "grid_row": null,
            "grid_template_areas": null,
            "grid_template_columns": null,
            "grid_template_rows": null,
            "height": "auto",
            "justify_content": null,
            "justify_items": null,
            "left": null,
            "margin": null,
            "max_height": null,
            "max_width": null,
            "min_height": null,
            "min_width": null,
            "object_fit": null,
            "object_position": null,
            "order": null,
            "overflow": null,
            "overflow_x": null,
            "overflow_y": null,
            "padding": null,
            "right": null,
            "top": null,
            "visibility": null,
            "width": "auto"
          }
        },
        "aff2d3ea057d4e2abffd5211c61ea334": {
          "model_module": "@jupyter-widgets/controls",
          "model_name": "ButtonStyleModel",
          "model_module_version": "1.5.0",
          "state": {
            "_model_module": "@jupyter-widgets/controls",
            "_model_module_version": "1.5.0",
            "_model_name": "ButtonStyleModel",
            "_view_count": null,
            "_view_module": "@jupyter-widgets/base",
            "_view_module_version": "1.2.0",
            "_view_name": "StyleView",
            "button_color": null,
            "font_weight": ""
          }
        },
        "70f0f3c223db47a48d20b8597ee59519": {
          "model_module": "@jupyter-widgets/controls",
          "model_name": "TabModel",
          "model_module_version": "1.5.0",
          "state": {
            "_dom_classes": [],
            "_model_module": "@jupyter-widgets/controls",
            "_model_module_version": "1.5.0",
            "_model_name": "TabModel",
            "_titles": {
              "0": "Youtube",
              "1": "Bilibili"
            },
            "_view_count": null,
            "_view_module": "@jupyter-widgets/controls",
            "_view_module_version": "1.5.0",
            "_view_name": "TabView",
            "box_style": "",
            "children": [
              "IPY_MODEL_59933826eda6484390cd7a94360a7875",
              "IPY_MODEL_09a3a119fd1d47e38d3f13795d6c7355"
            ],
            "layout": "IPY_MODEL_83226e0daf114cc3831a7a992c427d3c",
            "selected_index": 0
          }
        },
        "59933826eda6484390cd7a94360a7875": {
          "model_module": "@jupyter-widgets/output",
          "model_name": "OutputModel",
          "model_module_version": "1.0.0",
          "state": {
            "_dom_classes": [],
            "_model_module": "@jupyter-widgets/output",
            "_model_module_version": "1.0.0",
            "_model_name": "OutputModel",
            "_view_count": null,
            "_view_module": "@jupyter-widgets/output",
            "_view_module_version": "1.0.0",
            "_view_name": "OutputView",
            "layout": "IPY_MODEL_9eab5d2eea2441d0bf2b95f46ef2b23c",
            "msg_id": "",
            "outputs": [
              {
                "output_type": "stream",
                "name": "stdout",
                "text": [
                  "Video available at https://youtube.com/watch?v=DHhM80MOTe8\n"
                ]
              },
              {
                "output_type": "display_data",
                "data": {
                  "text/plain": "<IPython.lib.display.YouTubeVideo at 0x7b62e3f3de10>",
                  "text/html": "\n        <iframe\n            width=\"854\"\n            height=\"480\"\n            src=\"https://www.youtube.com/embed/DHhM80MOTe8?fs=1&rel=0\"\n            frameborder=\"0\"\n            allowfullscreen\n            \n        ></iframe>\n        ",
                  "image/jpeg": "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\n"
                },
                "metadata": {}
              }
            ]
          }
        },
        "09a3a119fd1d47e38d3f13795d6c7355": {
          "model_module": "@jupyter-widgets/output",
          "model_name": "OutputModel",
          "model_module_version": "1.0.0",
          "state": {
            "_dom_classes": [],
            "_model_module": "@jupyter-widgets/output",
            "_model_module_version": "1.0.0",
            "_model_name": "OutputModel",
            "_view_count": null,
            "_view_module": "@jupyter-widgets/output",
            "_view_module_version": "1.0.0",
            "_view_name": "OutputView",
            "layout": "IPY_MODEL_1156810f86eb495faec4688aeae8f1f2",
            "msg_id": "",
            "outputs": [
              {
                "output_type": "stream",
                "name": "stdout",
                "text": [
                  "Video available at https://www.bilibili.com/video/BV1ov411B7Pm\n"
                ]
              },
              {
                "output_type": "display_data",
                "data": {
                  "text/plain": "<__main__.PlayVideo at 0x7b62e3f412d0>",
                  "text/html": "\n        <iframe\n            width=\"854\"\n            height=\"480\"\n            src=\"https://player.bilibili.com/player.html?bvid=BV1ov411B7Pm&page=1?fs=1&autoplay=False\"\n            frameborder=\"0\"\n            allowfullscreen\n            \n        ></iframe>\n        "
                },
                "metadata": {}
              }
            ]
          }
        },
        "83226e0daf114cc3831a7a992c427d3c": {
          "model_module": "@jupyter-widgets/base",
          "model_name": "LayoutModel",
          "model_module_version": "1.2.0",
          "state": {
            "_model_module": "@jupyter-widgets/base",
            "_model_module_version": "1.2.0",
            "_model_name": "LayoutModel",
            "_view_count": null,
            "_view_module": "@jupyter-widgets/base",
            "_view_module_version": "1.2.0",
            "_view_name": "LayoutView",
            "align_content": null,
            "align_items": null,
            "align_self": null,
            "border": null,
            "bottom": null,
            "display": null,
            "flex": null,
            "flex_flow": null,
            "grid_area": null,
            "grid_auto_columns": null,
            "grid_auto_flow": null,
            "grid_auto_rows": null,
            "grid_column": null,
            "grid_gap": null,
            "grid_row": null,
            "grid_template_areas": null,
            "grid_template_columns": null,
            "grid_template_rows": null,
            "height": null,
            "justify_content": null,
            "justify_items": null,
            "left": null,
            "margin": null,
            "max_height": null,
            "max_width": null,
            "min_height": null,
            "min_width": null,
            "object_fit": null,
            "object_position": null,
            "order": null,
            "overflow": null,
            "overflow_x": null,
            "overflow_y": null,
            "padding": null,
            "right": null,
            "top": null,
            "visibility": null,
            "width": null
          }
        },
        "9eab5d2eea2441d0bf2b95f46ef2b23c": {
          "model_module": "@jupyter-widgets/base",
          "model_name": "LayoutModel",
          "model_module_version": "1.2.0",
          "state": {
            "_model_module": "@jupyter-widgets/base",
            "_model_module_version": "1.2.0",
            "_model_name": "LayoutModel",
            "_view_count": null,
            "_view_module": "@jupyter-widgets/base",
            "_view_module_version": "1.2.0",
            "_view_name": "LayoutView",
            "align_content": null,
            "align_items": null,
            "align_self": null,
            "border": null,
            "bottom": null,
            "display": null,
            "flex": null,
            "flex_flow": null,
            "grid_area": null,
            "grid_auto_columns": null,
            "grid_auto_flow": null,
            "grid_auto_rows": null,
            "grid_column": null,
            "grid_gap": null,
            "grid_row": null,
            "grid_template_areas": null,
            "grid_template_columns": null,
            "grid_template_rows": null,
            "height": null,
            "justify_content": null,
            "justify_items": null,
            "left": null,
            "margin": null,
            "max_height": null,
            "max_width": null,
            "min_height": null,
            "min_width": null,
            "object_fit": null,
            "object_position": null,
            "order": null,
            "overflow": null,
            "overflow_x": null,
            "overflow_y": null,
            "padding": null,
            "right": null,
            "top": null,
            "visibility": null,
            "width": null
          }
        },
        "1156810f86eb495faec4688aeae8f1f2": {
          "model_module": "@jupyter-widgets/base",
          "model_name": "LayoutModel",
          "model_module_version": "1.2.0",
          "state": {
            "_model_module": "@jupyter-widgets/base",
            "_model_module_version": "1.2.0",
            "_model_name": "LayoutModel",
            "_view_count": null,
            "_view_module": "@jupyter-widgets/base",
            "_view_module_version": "1.2.0",
            "_view_name": "LayoutView",
            "align_content": null,
            "align_items": null,
            "align_self": null,
            "border": null,
            "bottom": null,
            "display": null,
            "flex": null,
            "flex_flow": null,
            "grid_area": null,
            "grid_auto_columns": null,
            "grid_auto_flow": null,
            "grid_auto_rows": null,
            "grid_column": null,
            "grid_gap": null,
            "grid_row": null,
            "grid_template_areas": null,
            "grid_template_columns": null,
            "grid_template_rows": null,
            "height": null,
            "justify_content": null,
            "justify_items": null,
            "left": null,
            "margin": null,
            "max_height": null,
            "max_width": null,
            "min_height": null,
            "min_width": null,
            "object_fit": null,
            "object_position": null,
            "order": null,
            "overflow": null,
            "overflow_x": null,
            "overflow_y": null,
            "padding": null,
            "right": null,
            "top": null,
            "visibility": null,
            "width": null
          }
        },
        "611fe21c73b04151a59f57495911e006": {
          "model_module": "@jupyter-widgets/controls",
          "model_name": "VBoxModel",
          "model_module_version": "1.5.0",
          "state": {
            "_dom_classes": [
              "widget-interact"
            ],
            "_model_module": "@jupyter-widgets/controls",
            "_model_module_version": "1.5.0",
            "_model_name": "VBoxModel",
            "_view_count": null,
            "_view_module": "@jupyter-widgets/controls",
            "_view_module_version": "1.5.0",
            "_view_name": "VBoxView",
            "box_style": "",
            "children": [
              "IPY_MODEL_70d807ad33e547bc87fe3ef982bc54cf",
              "IPY_MODEL_d42d25084b874d37affe797c4198fad4",
              "IPY_MODEL_0931a75816864759997beeb2186eb9d0",
              "IPY_MODEL_8417f4b69bb84fd3ab8840243b2fe5c3",
              "IPY_MODEL_70542384764d44838105772eff0dc784",
              "IPY_MODEL_acd86463898a49deb4d1d7fa26f17330",
              "IPY_MODEL_076ea04570f84ee29e7f41d1f538bf43",
              "IPY_MODEL_b9fe1220eade47e3b446ad0edc16a039"
            ],
            "layout": "IPY_MODEL_83ae41e41b7d433092977a97f0d010a8"
          }
        },
        "70d807ad33e547bc87fe3ef982bc54cf": {
          "model_module": "@jupyter-widgets/controls",
          "model_name": "FloatSliderModel",
          "model_module_version": "1.5.0",
          "state": {
            "_dom_classes": [],
            "_model_module": "@jupyter-widgets/controls",
            "_model_module_version": "1.5.0",
            "_model_name": "FloatSliderModel",
            "_view_count": null,
            "_view_module": "@jupyter-widgets/controls",
            "_view_module_version": "1.5.0",
            "_view_name": "FloatSliderView",
            "continuous_update": true,
            "description": "exp_scale",
            "description_tooltip": null,
            "disabled": false,
            "layout": "IPY_MODEL_1ba286b853324b0e8ee4f1c45e288c99",
            "max": 20000,
            "min": 0,
            "orientation": "horizontal",
            "readout": true,
            "readout_format": ".2f",
            "step": 250,
            "style": "IPY_MODEL_b1893816072e49769f3f54eda861fb3c",
            "value": 4000
          }
        },
        "d42d25084b874d37affe797c4198fad4": {
          "model_module": "@jupyter-widgets/controls",
          "model_name": "FloatSliderModel",
          "model_module_version": "1.5.0",
          "state": {
            "_dom_classes": [],
            "_model_module": "@jupyter-widgets/controls",
            "_model_module_version": "1.5.0",
            "_model_name": "FloatSliderModel",
            "_view_count": null,
            "_view_module": "@jupyter-widgets/controls",
            "_view_module_version": "1.5.0",
            "_view_name": "FloatSliderView",
            "continuous_update": true,
            "description": "exp_rate",
            "description_tooltip": null,
            "disabled": false,
            "layout": "IPY_MODEL_6beeed0ab4bb490e85a23c7cf9795c6a",
            "max": 50,
            "min": -200,
            "orientation": "horizontal",
            "readout": true,
            "readout_format": ".2f",
            "step": 1,
            "style": "IPY_MODEL_71942650a31f4d4f81f3362a414cbc8a",
            "value": -70
          }
        },
        "0931a75816864759997beeb2186eb9d0": {
          "model_module": "@jupyter-widgets/controls",
          "model_name": "FloatSliderModel",
          "model_module_version": "1.5.0",
          "state": {
            "_dom_classes": [],
            "_model_module": "@jupyter-widgets/controls",
            "_model_module_version": "1.5.0",
            "_model_name": "FloatSliderModel",
            "_view_count": null,
            "_view_module": "@jupyter-widgets/controls",
            "_view_module_version": "1.5.0",
            "_view_name": "FloatSliderView",
            "continuous_update": true,
            "description": "exp_x0",
            "description_tooltip": null,
            "disabled": false,
            "layout": "IPY_MODEL_f883435644284ab4b48c4288282768b0",
            "max": 0.5,
            "min": -0.5,
            "orientation": "horizontal",
            "readout": true,
            "readout_format": ".2f",
            "step": 0.005,
            "style": "IPY_MODEL_40074fa2f91f43efbe607972b4ba4b54",
            "value": 0.045
          }
        },
        "8417f4b69bb84fd3ab8840243b2fe5c3": {
          "model_module": "@jupyter-widgets/controls",
          "model_name": "FloatSliderModel",
          "model_module_version": "1.5.0",
          "state": {
            "_dom_classes": [],
            "_model_module": "@jupyter-widgets/controls",
            "_model_module_version": "1.5.0",
            "_model_name": "FloatSliderModel",
            "_view_count": null,
            "_view_module": "@jupyter-widgets/controls",
            "_view_module_version": "1.5.0",
            "_view_name": "FloatSliderView",
            "continuous_update": true,
            "description": "inv_scale",
            "description_tooltip": null,
            "disabled": false,
            "layout": "IPY_MODEL_0f52ea5ac6724a59a5ab4d6e9dc468e6",
            "max": 300,
            "min": 0,
            "orientation": "horizontal",
            "readout": true,
            "readout_format": ".2f",
            "step": 10,
            "style": "IPY_MODEL_ec38f0c2ebae40beaa5a62c299dc36dd",
            "value": 260
          }
        },
        "70542384764d44838105772eff0dc784": {
          "model_module": "@jupyter-widgets/controls",
          "model_name": "FloatSliderModel",
          "model_module_version": "1.5.0",
          "state": {
            "_dom_classes": [],
            "_model_module": "@jupyter-widgets/controls",
            "_model_module_version": "1.5.0",
            "_model_name": "FloatSliderModel",
            "_view_count": null,
            "_view_module": "@jupyter-widgets/controls",
            "_view_module_version": "1.5.0",
            "_view_name": "FloatSliderView",
            "continuous_update": true,
            "description": "inv_x0",
            "description_tooltip": null,
            "disabled": false,
            "layout": "IPY_MODEL_6eb346eb81ef47469ca3f7b84ac19e57",
            "max": 0.2,
            "min": -0.2,
            "orientation": "horizontal",
            "readout": true,
            "readout_format": ".2f",
            "step": 0.01,
            "style": "IPY_MODEL_ca79cbc04b384ab28e452ab0a4c5b993",
            "value": -0.01
          }
        },
        "acd86463898a49deb4d1d7fa26f17330": {
          "model_module": "@jupyter-widgets/controls",
          "model_name": "FloatSliderModel",
          "model_module_version": "1.5.0",
          "state": {
            "_dom_classes": [],
            "_model_module": "@jupyter-widgets/controls",
            "_model_module_version": "1.5.0",
            "_model_name": "FloatSliderModel",
            "_view_count": null,
            "_view_module": "@jupyter-widgets/controls",
            "_view_module_version": "1.5.0",
            "_view_name": "FloatSliderView",
            "continuous_update": true,
            "description": "lin_slope",
            "description_tooltip": null,
            "disabled": false,
            "layout": "IPY_MODEL_6b261c180153472b8431dd9be18acc1b",
            "max": 100000,
            "min": -600000,
            "orientation": "horizontal",
            "readout": true,
            "readout_format": ".2f",
            "step": 10000,
            "style": "IPY_MODEL_6d2ad7293f7e4646a171e680a908696b",
            "value": -240000
          }
        },
        "076ea04570f84ee29e7f41d1f538bf43": {
          "model_module": "@jupyter-widgets/controls",
          "model_name": "FloatSliderModel",
          "model_module_version": "1.5.0",
          "state": {
            "_dom_classes": [],
            "_model_module": "@jupyter-widgets/controls",
            "_model_module_version": "1.5.0",
            "_model_name": "FloatSliderModel",
            "_view_count": null,
            "_view_module": "@jupyter-widgets/controls",
            "_view_module_version": "1.5.0",
            "_view_name": "FloatSliderView",
            "continuous_update": true,
            "description": "lin_y0",
            "description_tooltip": null,
            "disabled": false,
            "layout": "IPY_MODEL_2243de9557d04a849a902ba8e07ad82c",
            "max": 40000,
            "min": 0,
            "orientation": "horizontal",
            "readout": true,
            "readout_format": ".2f",
            "step": 1000,
            "style": "IPY_MODEL_afed0bb1c859446ea0620105db5e6554",
            "value": 8000
          }
        },
        "b9fe1220eade47e3b446ad0edc16a039": {
          "model_module": "@jupyter-widgets/output",
          "model_name": "OutputModel",
          "model_module_version": "1.0.0",
          "state": {
            "_dom_classes": [],
            "_model_module": "@jupyter-widgets/output",
            "_model_module_version": "1.0.0",
            "_model_name": "OutputModel",
            "_view_count": null,
            "_view_module": "@jupyter-widgets/output",
            "_view_module_version": "1.0.0",
            "_view_name": "OutputView",
            "layout": "IPY_MODEL_aff4ed1f826e40518528aa5543e13c08",
            "msg_id": "",
            "outputs": [
              {
                "output_type": "display_data",
                "data": {
                  "text/plain": "<Figure size 800x600 with 1 Axes>",
                  "image/png": "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\n"
                },
                "metadata": {
                  "image/png": {
                    "width": 775,
                    "height": 575
                  }
                }
              }
            ]
          }
        },
        "83ae41e41b7d433092977a97f0d010a8": {
          "model_module": "@jupyter-widgets/base",
          "model_name": "LayoutModel",
          "model_module_version": "1.2.0",
          "state": {
            "_model_module": "@jupyter-widgets/base",
            "_model_module_version": "1.2.0",
            "_model_name": "LayoutModel",
            "_view_count": null,
            "_view_module": "@jupyter-widgets/base",
            "_view_module_version": "1.2.0",
            "_view_name": "LayoutView",
            "align_content": null,
            "align_items": null,
            "align_self": null,
            "border": null,
            "bottom": null,
            "display": null,
            "flex": null,
            "flex_flow": null,
            "grid_area": null,
            "grid_auto_columns": null,
            "grid_auto_flow": null,
            "grid_auto_rows": null,
            "grid_column": null,
            "grid_gap": null,
            "grid_row": null,
            "grid_template_areas": null,
            "grid_template_columns": null,
            "grid_template_rows": null,
            "height": null,
            "justify_content": null,
            "justify_items": null,
            "left": null,
            "margin": null,
            "max_height": null,
            "max_width": null,
            "min_height": null,
            "min_width": null,
            "object_fit": null,
            "object_position": null,
            "order": null,
            "overflow": null,
            "overflow_x": null,
            "overflow_y": null,
            "padding": null,
            "right": null,
            "top": null,
            "visibility": null,
            "width": null
          }
        },
        "1ba286b853324b0e8ee4f1c45e288c99": {
          "model_module": "@jupyter-widgets/base",
          "model_name": "LayoutModel",
          "model_module_version": "1.2.0",
          "state": {
            "_model_module": "@jupyter-widgets/base",
            "_model_module_version": "1.2.0",
            "_model_name": "LayoutModel",
            "_view_count": null,
            "_view_module": "@jupyter-widgets/base",
            "_view_module_version": "1.2.0",
            "_view_name": "LayoutView",
            "align_content": null,
            "align_items": null,
            "align_self": null,
            "border": null,
            "bottom": null,
            "display": null,
            "flex": null,
            "flex_flow": null,
            "grid_area": null,
            "grid_auto_columns": null,
            "grid_auto_flow": null,
            "grid_auto_rows": null,
            "grid_column": null,
            "grid_gap": null,
            "grid_row": null,
            "grid_template_areas": null,
            "grid_template_columns": null,
            "grid_template_rows": null,
            "height": null,
            "justify_content": null,
            "justify_items": null,
            "left": null,
            "margin": null,
            "max_height": null,
            "max_width": null,
            "min_height": null,
            "min_width": null,
            "object_fit": null,
            "object_position": null,
            "order": null,
            "overflow": null,
            "overflow_x": null,
            "overflow_y": null,
            "padding": null,
            "right": null,
            "top": null,
            "visibility": null,
            "width": null
          }
        },
        "b1893816072e49769f3f54eda861fb3c": {
          "model_module": "@jupyter-widgets/controls",
          "model_name": "SliderStyleModel",
          "model_module_version": "1.5.0",
          "state": {
            "_model_module": "@jupyter-widgets/controls",
            "_model_module_version": "1.5.0",
            "_model_name": "SliderStyleModel",
            "_view_count": null,
            "_view_module": "@jupyter-widgets/base",
            "_view_module_version": "1.2.0",
            "_view_name": "StyleView",
            "description_width": "",
            "handle_color": null
          }
        },
        "6beeed0ab4bb490e85a23c7cf9795c6a": {
          "model_module": "@jupyter-widgets/base",
          "model_name": "LayoutModel",
          "model_module_version": "1.2.0",
          "state": {
            "_model_module": "@jupyter-widgets/base",
            "_model_module_version": "1.2.0",
            "_model_name": "LayoutModel",
            "_view_count": null,
            "_view_module": "@jupyter-widgets/base",
            "_view_module_version": "1.2.0",
            "_view_name": "LayoutView",
            "align_content": null,
            "align_items": null,
            "align_self": null,
            "border": null,
            "bottom": null,
            "display": null,
            "flex": null,
            "flex_flow": null,
            "grid_area": null,
            "grid_auto_columns": null,
            "grid_auto_flow": null,
            "grid_auto_rows": null,
            "grid_column": null,
            "grid_gap": null,
            "grid_row": null,
            "grid_template_areas": null,
            "grid_template_columns": null,
            "grid_template_rows": null,
            "height": null,
            "justify_content": null,
            "justify_items": null,
            "left": null,
            "margin": null,
            "max_height": null,
            "max_width": null,
            "min_height": null,
            "min_width": null,
            "object_fit": null,
            "object_position": null,
            "order": null,
            "overflow": null,
            "overflow_x": null,
            "overflow_y": null,
            "padding": null,
            "right": null,
            "top": null,
            "visibility": null,
            "width": null
          }
        },
        "71942650a31f4d4f81f3362a414cbc8a": {
          "model_module": "@jupyter-widgets/controls",
          "model_name": "SliderStyleModel",
          "model_module_version": "1.5.0",
          "state": {
            "_model_module": "@jupyter-widgets/controls",
            "_model_module_version": "1.5.0",
            "_model_name": "SliderStyleModel",
            "_view_count": null,
            "_view_module": "@jupyter-widgets/base",
            "_view_module_version": "1.2.0",
            "_view_name": "StyleView",
            "description_width": "",
            "handle_color": null
          }
        },
        "f883435644284ab4b48c4288282768b0": {
          "model_module": "@jupyter-widgets/base",
          "model_name": "LayoutModel",
          "model_module_version": "1.2.0",
          "state": {
            "_model_module": "@jupyter-widgets/base",
            "_model_module_version": "1.2.0",
            "_model_name": "LayoutModel",
            "_view_count": null,
            "_view_module": "@jupyter-widgets/base",
            "_view_module_version": "1.2.0",
            "_view_name": "LayoutView",
            "align_content": null,
            "align_items": null,
            "align_self": null,
            "border": null,
            "bottom": null,
            "display": null,
            "flex": null,
            "flex_flow": null,
            "grid_area": null,
            "grid_auto_columns": null,
            "grid_auto_flow": null,
            "grid_auto_rows": null,
            "grid_column": null,
            "grid_gap": null,
            "grid_row": null,
            "grid_template_areas": null,
            "grid_template_columns": null,
            "grid_template_rows": null,
            "height": null,
            "justify_content": null,
            "justify_items": null,
            "left": null,
            "margin": null,
            "max_height": null,
            "max_width": null,
            "min_height": null,
            "min_width": null,
            "object_fit": null,
            "object_position": null,
            "order": null,
            "overflow": null,
            "overflow_x": null,
            "overflow_y": null,
            "padding": null,
            "right": null,
            "top": null,
            "visibility": null,
            "width": null
          }
        },
        "40074fa2f91f43efbe607972b4ba4b54": {
          "model_module": "@jupyter-widgets/controls",
          "model_name": "SliderStyleModel",
          "model_module_version": "1.5.0",
          "state": {
            "_model_module": "@jupyter-widgets/controls",
            "_model_module_version": "1.5.0",
            "_model_name": "SliderStyleModel",
            "_view_count": null,
            "_view_module": "@jupyter-widgets/base",
            "_view_module_version": "1.2.0",
            "_view_name": "StyleView",
            "description_width": "",
            "handle_color": null
          }
        },
        "0f52ea5ac6724a59a5ab4d6e9dc468e6": {
          "model_module": "@jupyter-widgets/base",
          "model_name": "LayoutModel",
          "model_module_version": "1.2.0",
          "state": {
            "_model_module": "@jupyter-widgets/base",
            "_model_module_version": "1.2.0",
            "_model_name": "LayoutModel",
            "_view_count": null,
            "_view_module": "@jupyter-widgets/base",
            "_view_module_version": "1.2.0",
            "_view_name": "LayoutView",
            "align_content": null,
            "align_items": null,
            "align_self": null,
            "border": null,
            "bottom": null,
            "display": null,
            "flex": null,
            "flex_flow": null,
            "grid_area": null,
            "grid_auto_columns": null,
            "grid_auto_flow": null,
            "grid_auto_rows": null,
            "grid_column": null,
            "grid_gap": null,
            "grid_row": null,
            "grid_template_areas": null,
            "grid_template_columns": null,
            "grid_template_rows": null,
            "height": null,
            "justify_content": null,
            "justify_items": null,
            "left": null,
            "margin": null,
            "max_height": null,
            "max_width": null,
            "min_height": null,
            "min_width": null,
            "object_fit": null,
            "object_position": null,
            "order": null,
            "overflow": null,
            "overflow_x": null,
            "overflow_y": null,
            "padding": null,
            "right": null,
            "top": null,
            "visibility": null,
            "width": null
          }
        },
        "ec38f0c2ebae40beaa5a62c299dc36dd": {
          "model_module": "@jupyter-widgets/controls",
          "model_name": "SliderStyleModel",
          "model_module_version": "1.5.0",
          "state": {
            "_model_module": "@jupyter-widgets/controls",
            "_model_module_version": "1.5.0",
            "_model_name": "SliderStyleModel",
            "_view_count": null,
            "_view_module": "@jupyter-widgets/base",
            "_view_module_version": "1.2.0",
            "_view_name": "StyleView",
            "description_width": "",
            "handle_color": null
          }
        },
        "6eb346eb81ef47469ca3f7b84ac19e57": {
          "model_module": "@jupyter-widgets/base",
          "model_name": "LayoutModel",
          "model_module_version": "1.2.0",
          "state": {
            "_model_module": "@jupyter-widgets/base",
            "_model_module_version": "1.2.0",
            "_model_name": "LayoutModel",
            "_view_count": null,
            "_view_module": "@jupyter-widgets/base",
            "_view_module_version": "1.2.0",
            "_view_name": "LayoutView",
            "align_content": null,
            "align_items": null,
            "align_self": null,
            "border": null,
            "bottom": null,
            "display": null,
            "flex": null,
            "flex_flow": null,
            "grid_area": null,
            "grid_auto_columns": null,
            "grid_auto_flow": null,
            "grid_auto_rows": null,
            "grid_column": null,
            "grid_gap": null,
            "grid_row": null,
            "grid_template_areas": null,
            "grid_template_columns": null,
            "grid_template_rows": null,
            "height": null,
            "justify_content": null,
            "justify_items": null,
            "left": null,
            "margin": null,
            "max_height": null,
            "max_width": null,
            "min_height": null,
            "min_width": null,
            "object_fit": null,
            "object_position": null,
            "order": null,
            "overflow": null,
            "overflow_x": null,
            "overflow_y": null,
            "padding": null,
            "right": null,
            "top": null,
            "visibility": null,
            "width": null
          }
        },
        "ca79cbc04b384ab28e452ab0a4c5b993": {
          "model_module": "@jupyter-widgets/controls",
          "model_name": "SliderStyleModel",
          "model_module_version": "1.5.0",
          "state": {
            "_model_module": "@jupyter-widgets/controls",
            "_model_module_version": "1.5.0",
            "_model_name": "SliderStyleModel",
            "_view_count": null,
            "_view_module": "@jupyter-widgets/base",
            "_view_module_version": "1.2.0",
            "_view_name": "StyleView",
            "description_width": "",
            "handle_color": null
          }
        },
        "6b261c180153472b8431dd9be18acc1b": {
          "model_module": "@jupyter-widgets/base",
          "model_name": "LayoutModel",
          "model_module_version": "1.2.0",
          "state": {
            "_model_module": "@jupyter-widgets/base",
            "_model_module_version": "1.2.0",
            "_model_name": "LayoutModel",
            "_view_count": null,
            "_view_module": "@jupyter-widgets/base",
            "_view_module_version": "1.2.0",
            "_view_name": "LayoutView",
            "align_content": null,
            "align_items": null,
            "align_self": null,
            "border": null,
            "bottom": null,
            "display": null,
            "flex": null,
            "flex_flow": null,
            "grid_area": null,
            "grid_auto_columns": null,
            "grid_auto_flow": null,
            "grid_auto_rows": null,
            "grid_column": null,
            "grid_gap": null,
            "grid_row": null,
            "grid_template_areas": null,
            "grid_template_columns": null,
            "grid_template_rows": null,
            "height": null,
            "justify_content": null,
            "justify_items": null,
            "left": null,
            "margin": null,
            "max_height": null,
            "max_width": null,
            "min_height": null,
            "min_width": null,
            "object_fit": null,
            "object_position": null,
            "order": null,
            "overflow": null,
            "overflow_x": null,
            "overflow_y": null,
            "padding": null,
            "right": null,
            "top": null,
            "visibility": null,
            "width": null
          }
        },
        "6d2ad7293f7e4646a171e680a908696b": {
          "model_module": "@jupyter-widgets/controls",
          "model_name": "SliderStyleModel",
          "model_module_version": "1.5.0",
          "state": {
            "_model_module": "@jupyter-widgets/controls",
            "_model_module_version": "1.5.0",
            "_model_name": "SliderStyleModel",
            "_view_count": null,
            "_view_module": "@jupyter-widgets/base",
            "_view_module_version": "1.2.0",
            "_view_name": "StyleView",
            "description_width": "",
            "handle_color": null
          }
        },
        "2243de9557d04a849a902ba8e07ad82c": {
          "model_module": "@jupyter-widgets/base",
          "model_name": "LayoutModel",
          "model_module_version": "1.2.0",
          "state": {
            "_model_module": "@jupyter-widgets/base",
            "_model_module_version": "1.2.0",
            "_model_name": "LayoutModel",
            "_view_count": null,
            "_view_module": "@jupyter-widgets/base",
            "_view_module_version": "1.2.0",
            "_view_name": "LayoutView",
            "align_content": null,
            "align_items": null,
            "align_self": null,
            "border": null,
            "bottom": null,
            "display": null,
            "flex": null,
            "flex_flow": null,
            "grid_area": null,
            "grid_auto_columns": null,
            "grid_auto_flow": null,
            "grid_auto_rows": null,
            "grid_column": null,
            "grid_gap": null,
            "grid_row": null,
            "grid_template_areas": null,
            "grid_template_columns": null,
            "grid_template_rows": null,
            "height": null,
            "justify_content": null,
            "justify_items": null,
            "left": null,
            "margin": null,
            "max_height": null,
            "max_width": null,
            "min_height": null,
            "min_width": null,
            "object_fit": null,
            "object_position": null,
            "order": null,
            "overflow": null,
            "overflow_x": null,
            "overflow_y": null,
            "padding": null,
            "right": null,
            "top": null,
            "visibility": null,
            "width": null
          }
        },
        "afed0bb1c859446ea0620105db5e6554": {
          "model_module": "@jupyter-widgets/controls",
          "model_name": "SliderStyleModel",
          "model_module_version": "1.5.0",
          "state": {
            "_model_module": "@jupyter-widgets/controls",
            "_model_module_version": "1.5.0",
            "_model_name": "SliderStyleModel",
            "_view_count": null,
            "_view_module": "@jupyter-widgets/base",
            "_view_module_version": "1.2.0",
            "_view_name": "StyleView",
            "description_width": "",
            "handle_color": null
          }
        },
        "aff4ed1f826e40518528aa5543e13c08": {
          "model_module": "@jupyter-widgets/base",
          "model_name": "LayoutModel",
          "model_module_version": "1.2.0",
          "state": {
            "_model_module": "@jupyter-widgets/base",
            "_model_module_version": "1.2.0",
            "_model_name": "LayoutModel",
            "_view_count": null,
            "_view_module": "@jupyter-widgets/base",
            "_view_module_version": "1.2.0",
            "_view_name": "LayoutView",
            "align_content": null,
            "align_items": null,
            "align_self": null,
            "border": null,
            "bottom": null,
            "display": null,
            "flex": null,
            "flex_flow": null,
            "grid_area": null,
            "grid_auto_columns": null,
            "grid_auto_flow": null,
            "grid_auto_rows": null,
            "grid_column": null,
            "grid_gap": null,
            "grid_row": null,
            "grid_template_areas": null,
            "grid_template_columns": null,
            "grid_template_rows": null,
            "height": null,
            "justify_content": null,
            "justify_items": null,
            "left": null,
            "margin": null,
            "max_height": null,
            "max_width": null,
            "min_height": null,
            "min_width": null,
            "object_fit": null,
            "object_position": null,
            "order": null,
            "overflow": null,
            "overflow_x": null,
            "overflow_y": null,
            "padding": null,
            "right": null,
            "top": null,
            "visibility": null,
            "width": null
          }
        },
        "7fda0ec74ff346cf89daa6d1fafa48d2": {
          "model_module": "@jupyter-widgets/controls",
          "model_name": "VBoxModel",
          "model_module_version": "1.5.0",
          "state": {
            "_dom_classes": [],
            "_model_module": "@jupyter-widgets/controls",
            "_model_module_version": "1.5.0",
            "_model_name": "VBoxModel",
            "_view_count": null,
            "_view_module": "@jupyter-widgets/controls",
            "_view_module_version": "1.5.0",
            "_view_name": "VBoxView",
            "box_style": "",
            "children": [
              "IPY_MODEL_5fb2fead3b1d447ea08984c5d284f4d8"
            ],
            "layout": "IPY_MODEL_2c0731dd7f624f14b5263a9fd230342a"
          }
        },
        "5fb2fead3b1d447ea08984c5d284f4d8": {
          "model_module": "@jupyter-widgets/controls",
          "model_name": "VBoxModel",
          "model_module_version": "1.5.0",
          "state": {
            "_dom_classes": [],
            "_model_module": "@jupyter-widgets/controls",
            "_model_module_version": "1.5.0",
            "_model_name": "VBoxModel",
            "_view_count": null,
            "_view_module": "@jupyter-widgets/controls",
            "_view_module_version": "1.5.0",
            "_view_name": "VBoxView",
            "box_style": "",
            "children": [
              "IPY_MODEL_18e38d1ab326445396f8c021c470d14a",
              "IPY_MODEL_820aa216d6034fe0bcf4465f660fcbcb",
              "IPY_MODEL_45764a59fa32438ea0a7a9f851667294"
            ],
            "layout": "IPY_MODEL_7e332dfc4eb84b06802c567a583449d6"
          }
        },
        "2c0731dd7f624f14b5263a9fd230342a": {
          "model_module": "@jupyter-widgets/base",
          "model_name": "LayoutModel",
          "model_module_version": "1.2.0",
          "state": {
            "_model_module": "@jupyter-widgets/base",
            "_model_module_version": "1.2.0",
            "_model_name": "LayoutModel",
            "_view_count": null,
            "_view_module": "@jupyter-widgets/base",
            "_view_module_version": "1.2.0",
            "_view_name": "LayoutView",
            "align_content": null,
            "align_items": null,
            "align_self": null,
            "border": null,
            "bottom": null,
            "display": null,
            "flex": null,
            "flex_flow": null,
            "grid_area": null,
            "grid_auto_columns": null,
            "grid_auto_flow": null,
            "grid_auto_rows": null,
            "grid_column": null,
            "grid_gap": null,
            "grid_row": null,
            "grid_template_areas": null,
            "grid_template_columns": null,
            "grid_template_rows": null,
            "height": null,
            "justify_content": null,
            "justify_items": null,
            "left": null,
            "margin": null,
            "max_height": null,
            "max_width": null,
            "min_height": null,
            "min_width": null,
            "object_fit": null,
            "object_position": null,
            "order": null,
            "overflow": null,
            "overflow_x": null,
            "overflow_y": null,
            "padding": null,
            "right": null,
            "top": null,
            "visibility": null,
            "width": null
          }
        },
        "18e38d1ab326445396f8c021c470d14a": {
          "model_module": "@jupyter-widgets/controls",
          "model_name": "HBoxModel",
          "model_module_version": "1.5.0",
          "state": {
            "_dom_classes": [],
            "_model_module": "@jupyter-widgets/controls",
            "_model_module_version": "1.5.0",
            "_model_name": "HBoxModel",
            "_view_count": null,
            "_view_module": "@jupyter-widgets/controls",
            "_view_module_version": "1.5.0",
            "_view_name": "HBoxView",
            "box_style": "",
            "children": [
              "IPY_MODEL_b5e0679f8cf54711926513a5c10fcec4",
              "IPY_MODEL_9970cd62649c4f349a5d755b22f56ac8",
              "IPY_MODEL_a54b16e4360c452fb78140bef5804e6b"
            ],
            "layout": "IPY_MODEL_aad8f00624204a09a759e5f6999d3f22"
          }
        },
        "820aa216d6034fe0bcf4465f660fcbcb": {
          "model_module": "@jupyter-widgets/controls",
          "model_name": "HBoxModel",
          "model_module_version": "1.5.0",
          "state": {
            "_dom_classes": [],
            "_model_module": "@jupyter-widgets/controls",
            "_model_module_version": "1.5.0",
            "_model_name": "HBoxModel",
            "_view_count": null,
            "_view_module": "@jupyter-widgets/controls",
            "_view_module_version": "1.5.0",
            "_view_name": "HBoxView",
            "box_style": "",
            "children": [
              "IPY_MODEL_f949a9b41b2947c2b0ecffebfc1d9e2b",
              "IPY_MODEL_1fb1ccba741545a286609a0c133053a2"
            ],
            "layout": "IPY_MODEL_eb7bd36de3934c91b7b4775f04aa0c9c"
          }
        },
        "45764a59fa32438ea0a7a9f851667294": {
          "model_module": "@jupyter-widgets/controls",
          "model_name": "LabelModel",
          "model_module_version": "1.5.0",
          "state": {
            "_dom_classes": [],
            "_model_module": "@jupyter-widgets/controls",
            "_model_module_version": "1.5.0",
            "_model_name": "LabelModel",
            "_view_count": null,
            "_view_module": "@jupyter-widgets/controls",
            "_view_module_version": "1.5.0",
            "_view_name": "LabelView",
            "description": "",
            "description_tooltip": null,
            "layout": "IPY_MODEL_21c2e775cde8418cab1607879f0033c9",
            "placeholder": "​",
            "style": "IPY_MODEL_c87189855e6b4736895f93f9205eff01",
            "value": "Thanks for your feedback!"
          }
        },
        "7e332dfc4eb84b06802c567a583449d6": {
          "model_module": "@jupyter-widgets/base",
          "model_name": "LayoutModel",
          "model_module_version": "1.2.0",
          "state": {
            "_model_module": "@jupyter-widgets/base",
            "_model_module_version": "1.2.0",
            "_model_name": "LayoutModel",
            "_view_count": null,
            "_view_module": "@jupyter-widgets/base",
            "_view_module_version": "1.2.0",
            "_view_name": "LayoutView",
            "align_content": null,
            "align_items": null,
            "align_self": null,
            "border": null,
            "bottom": null,
            "display": null,
            "flex": null,
            "flex_flow": null,
            "grid_area": null,
            "grid_auto_columns": null,
            "grid_auto_flow": null,
            "grid_auto_rows": null,
            "grid_column": null,
            "grid_gap": null,
            "grid_row": null,
            "grid_template_areas": null,
            "grid_template_columns": null,
            "grid_template_rows": null,
            "height": null,
            "justify_content": null,
            "justify_items": null,
            "left": null,
            "margin": null,
            "max_height": null,
            "max_width": null,
            "min_height": null,
            "min_width": null,
            "object_fit": null,
            "object_position": null,
            "order": null,
            "overflow": null,
            "overflow_x": null,
            "overflow_y": null,
            "padding": null,
            "right": null,
            "top": null,
            "visibility": null,
            "width": null
          }
        },
        "b5e0679f8cf54711926513a5c10fcec4": {
          "model_module": "@jupyter-widgets/controls",
          "model_name": "ButtonModel",
          "model_module_version": "1.5.0",
          "state": {
            "_dom_classes": [
              "happy"
            ],
            "_model_module": "@jupyter-widgets/controls",
            "_model_module_version": "1.5.0",
            "_model_name": "ButtonModel",
            "_view_count": null,
            "_view_module": "@jupyter-widgets/controls",
            "_view_module_version": "1.5.0",
            "_view_name": "ButtonView",
            "button_style": "",
            "description": "🙂",
            "disabled": false,
            "icon": "",
            "layout": "IPY_MODEL_7f331dc572ed40369b19d3eef2489c09",
            "style": "IPY_MODEL_d41089f36eb44d06a9e0d0869d0d759a",
            "tooltip": "happy"
          }
        },
        "9970cd62649c4f349a5d755b22f56ac8": {
          "model_module": "@jupyter-widgets/controls",
          "model_name": "ButtonModel",
          "model_module_version": "1.5.0",
          "state": {
            "_dom_classes": [
              "medium"
            ],
            "_model_module": "@jupyter-widgets/controls",
            "_model_module_version": "1.5.0",
            "_model_name": "ButtonModel",
            "_view_count": null,
            "_view_module": "@jupyter-widgets/controls",
            "_view_module_version": "1.5.0",
            "_view_name": "ButtonView",
            "button_style": "",
            "description": "😐",
            "disabled": false,
            "icon": "",
            "layout": "IPY_MODEL_14f1517e66ca444f8c67862f0f305dc4",
            "style": "IPY_MODEL_79f17fe18f07478895367f9df02db311",
            "tooltip": "medium"
          }
        },
        "a54b16e4360c452fb78140bef5804e6b": {
          "model_module": "@jupyter-widgets/controls",
          "model_name": "ButtonModel",
          "model_module_version": "1.5.0",
          "state": {
            "_dom_classes": [
              "sad"
            ],
            "_model_module": "@jupyter-widgets/controls",
            "_model_module_version": "1.5.0",
            "_model_name": "ButtonModel",
            "_view_count": null,
            "_view_module": "@jupyter-widgets/controls",
            "_view_module_version": "1.5.0",
            "_view_name": "ButtonView",
            "button_style": "",
            "description": "🙁",
            "disabled": false,
            "icon": "",
            "layout": "IPY_MODEL_7cc6d10a4ac4462ab82385cb6c136ec8",
            "style": "IPY_MODEL_00df1ffc35f04f84a44d103dca3b27f6",
            "tooltip": "sad"
          }
        },
        "aad8f00624204a09a759e5f6999d3f22": {
          "model_module": "@jupyter-widgets/base",
          "model_name": "LayoutModel",
          "model_module_version": "1.2.0",
          "state": {
            "_model_module": "@jupyter-widgets/base",
            "_model_module_version": "1.2.0",
            "_model_name": "LayoutModel",
            "_view_count": null,
            "_view_module": "@jupyter-widgets/base",
            "_view_module_version": "1.2.0",
            "_view_name": "LayoutView",
            "align_content": null,
            "align_items": null,
            "align_self": null,
            "border": null,
            "bottom": null,
            "display": null,
            "flex": null,
            "flex_flow": null,
            "grid_area": null,
            "grid_auto_columns": null,
            "grid_auto_flow": null,
            "grid_auto_rows": null,
            "grid_column": null,
            "grid_gap": null,
            "grid_row": null,
            "grid_template_areas": null,
            "grid_template_columns": null,
            "grid_template_rows": null,
            "height": null,
            "justify_content": null,
            "justify_items": null,
            "left": null,
            "margin": null,
            "max_height": null,
            "max_width": null,
            "min_height": null,
            "min_width": null,
            "object_fit": null,
            "object_position": null,
            "order": null,
            "overflow": null,
            "overflow_x": null,
            "overflow_y": null,
            "padding": null,
            "right": null,
            "top": null,
            "visibility": null,
            "width": null
          }
        },
        "f949a9b41b2947c2b0ecffebfc1d9e2b": {
          "model_module": "@jupyter-widgets/controls",
          "model_name": "TextareaModel",
          "model_module_version": "1.5.0",
          "state": {
            "_dom_classes": [],
            "_model_module": "@jupyter-widgets/controls",
            "_model_module_version": "1.5.0",
            "_model_name": "TextareaModel",
            "_view_count": null,
            "_view_module": "@jupyter-widgets/controls",
            "_view_module_version": "1.5.0",
            "_view_name": "TextareaView",
            "continuous_update": true,
            "description": "",
            "description_tooltip": null,
            "disabled": false,
            "layout": "IPY_MODEL_8473e48dcaf44b1691c426462f2f3975",
            "placeholder": "We want your feedback!",
            "rows": null,
            "style": "IPY_MODEL_52e36ba4d6594c6280ef544094365b2b",
            "value": ""
          }
        },
        "1fb1ccba741545a286609a0c133053a2": {
          "model_module": "@jupyter-widgets/controls",
          "model_name": "ButtonModel",
          "model_module_version": "1.5.0",
          "state": {
            "_dom_classes": [],
            "_model_module": "@jupyter-widgets/controls",
            "_model_module_version": "1.5.0",
            "_model_name": "ButtonModel",
            "_view_count": null,
            "_view_module": "@jupyter-widgets/controls",
            "_view_module_version": "1.5.0",
            "_view_name": "ButtonView",
            "button_style": "",
            "description": "Submit",
            "disabled": false,
            "icon": "",
            "layout": "IPY_MODEL_840f4586a4384dca8ea3892ddb41b1bf",
            "style": "IPY_MODEL_d63ebba26c2b46b38195cedaea4a2aac",
            "tooltip": ""
          }
        },
        "eb7bd36de3934c91b7b4775f04aa0c9c": {
          "model_module": "@jupyter-widgets/base",
          "model_name": "LayoutModel",
          "model_module_version": "1.2.0",
          "state": {
            "_model_module": "@jupyter-widgets/base",
            "_model_module_version": "1.2.0",
            "_model_name": "LayoutModel",
            "_view_count": null,
            "_view_module": "@jupyter-widgets/base",
            "_view_module_version": "1.2.0",
            "_view_name": "LayoutView",
            "align_content": null,
            "align_items": null,
            "align_self": null,
            "border": null,
            "bottom": null,
            "display": "none",
            "flex": null,
            "flex_flow": null,
            "grid_area": null,
            "grid_auto_columns": null,
            "grid_auto_flow": null,
            "grid_auto_rows": null,
            "grid_column": null,
            "grid_gap": null,
            "grid_row": null,
            "grid_template_areas": null,
            "grid_template_columns": null,
            "grid_template_rows": null,
            "height": null,
            "justify_content": null,
            "justify_items": null,
            "left": null,
            "margin": null,
            "max_height": null,
            "max_width": null,
            "min_height": null,
            "min_width": null,
            "object_fit": null,
            "object_position": null,
            "order": null,
            "overflow": null,
            "overflow_x": null,
            "overflow_y": null,
            "padding": null,
            "right": null,
            "top": null,
            "visibility": null,
            "width": null
          }
        },
        "21c2e775cde8418cab1607879f0033c9": {
          "model_module": "@jupyter-widgets/base",
          "model_name": "LayoutModel",
          "model_module_version": "1.2.0",
          "state": {
            "_model_module": "@jupyter-widgets/base",
            "_model_module_version": "1.2.0",
            "_model_name": "LayoutModel",
            "_view_count": null,
            "_view_module": "@jupyter-widgets/base",
            "_view_module_version": "1.2.0",
            "_view_name": "LayoutView",
            "align_content": null,
            "align_items": null,
            "align_self": null,
            "border": null,
            "bottom": null,
            "display": "block",
            "flex": null,
            "flex_flow": null,
            "grid_area": null,
            "grid_auto_columns": null,
            "grid_auto_flow": null,
            "grid_auto_rows": null,
            "grid_column": null,
            "grid_gap": null,
            "grid_row": null,
            "grid_template_areas": null,
            "grid_template_columns": null,
            "grid_template_rows": null,
            "height": null,
            "justify_content": null,
            "justify_items": null,
            "left": null,
            "margin": null,
            "max_height": null,
            "max_width": null,
            "min_height": null,
            "min_width": null,
            "object_fit": null,
            "object_position": null,
            "order": null,
            "overflow": null,
            "overflow_x": null,
            "overflow_y": null,
            "padding": null,
            "right": null,
            "top": null,
            "visibility": null,
            "width": null
          }
        },
        "c87189855e6b4736895f93f9205eff01": {
          "model_module": "@jupyter-widgets/controls",
          "model_name": "DescriptionStyleModel",
          "model_module_version": "1.5.0",
          "state": {
            "_model_module": "@jupyter-widgets/controls",
            "_model_module_version": "1.5.0",
            "_model_name": "DescriptionStyleModel",
            "_view_count": null,
            "_view_module": "@jupyter-widgets/base",
            "_view_module_version": "1.2.0",
            "_view_name": "StyleView",
            "description_width": ""
          }
        },
        "7f331dc572ed40369b19d3eef2489c09": {
          "model_module": "@jupyter-widgets/base",
          "model_name": "LayoutModel",
          "model_module_version": "1.2.0",
          "state": {
            "_model_module": "@jupyter-widgets/base",
            "_model_module_version": "1.2.0",
            "_model_name": "LayoutModel",
            "_view_count": null,
            "_view_module": "@jupyter-widgets/base",
            "_view_module_version": "1.2.0",
            "_view_name": "LayoutView",
            "align_content": null,
            "align_items": null,
            "align_self": null,
            "border": "2px solid #666666",
            "bottom": null,
            "display": null,
            "flex": null,
            "flex_flow": null,
            "grid_area": null,
            "grid_auto_columns": null,
            "grid_auto_flow": null,
            "grid_auto_rows": null,
            "grid_column": null,
            "grid_gap": null,
            "grid_row": null,
            "grid_template_areas": null,
            "grid_template_columns": null,
            "grid_template_rows": null,
            "height": "auto",
            "justify_content": null,
            "justify_items": null,
            "left": null,
            "margin": null,
            "max_height": null,
            "max_width": null,
            "min_height": null,
            "min_width": null,
            "object_fit": null,
            "object_position": null,
            "order": null,
            "overflow": null,
            "overflow_x": null,
            "overflow_y": null,
            "padding": "0.5em",
            "right": null,
            "top": null,
            "visibility": null,
            "width": "auto"
          }
        },
        "d41089f36eb44d06a9e0d0869d0d759a": {
          "model_module": "@jupyter-widgets/controls",
          "model_name": "ButtonStyleModel",
          "model_module_version": "1.5.0",
          "state": {
            "_model_module": "@jupyter-widgets/controls",
            "_model_module_version": "1.5.0",
            "_model_name": "ButtonStyleModel",
            "_view_count": null,
            "_view_module": "@jupyter-widgets/base",
            "_view_module_version": "1.2.0",
            "_view_name": "StyleView",
            "button_color": "#aaffaa",
            "font_weight": ""
          }
        },
        "14f1517e66ca444f8c67862f0f305dc4": {
          "model_module": "@jupyter-widgets/base",
          "model_name": "LayoutModel",
          "model_module_version": "1.2.0",
          "state": {
            "_model_module": "@jupyter-widgets/base",
            "_model_module_version": "1.2.0",
            "_model_name": "LayoutModel",
            "_view_count": null,
            "_view_module": "@jupyter-widgets/base",
            "_view_module_version": "1.2.0",
            "_view_name": "LayoutView",
            "align_content": null,
            "align_items": null,
            "align_self": null,
            "border": null,
            "bottom": null,
            "display": null,
            "flex": null,
            "flex_flow": null,
            "grid_area": null,
            "grid_auto_columns": null,
            "grid_auto_flow": null,
            "grid_auto_rows": null,
            "grid_column": null,
            "grid_gap": null,
            "grid_row": null,
            "grid_template_areas": null,
            "grid_template_columns": null,
            "grid_template_rows": null,
            "height": "auto",
            "justify_content": null,
            "justify_items": null,
            "left": null,
            "margin": null,
            "max_height": null,
            "max_width": null,
            "min_height": null,
            "min_width": null,
            "object_fit": null,
            "object_position": null,
            "order": null,
            "overflow": null,
            "overflow_x": null,
            "overflow_y": null,
            "padding": "0.5em",
            "right": null,
            "top": null,
            "visibility": null,
            "width": "auto"
          }
        },
        "79f17fe18f07478895367f9df02db311": {
          "model_module": "@jupyter-widgets/controls",
          "model_name": "ButtonStyleModel",
          "model_module_version": "1.5.0",
          "state": {
            "_model_module": "@jupyter-widgets/controls",
            "_model_module_version": "1.5.0",
            "_model_name": "ButtonStyleModel",
            "_view_count": null,
            "_view_module": "@jupyter-widgets/base",
            "_view_module_version": "1.2.0",
            "_view_name": "StyleView",
            "button_color": "#dddd77",
            "font_weight": ""
          }
        },
        "7cc6d10a4ac4462ab82385cb6c136ec8": {
          "model_module": "@jupyter-widgets/base",
          "model_name": "LayoutModel",
          "model_module_version": "1.2.0",
          "state": {
            "_model_module": "@jupyter-widgets/base",
            "_model_module_version": "1.2.0",
            "_model_name": "LayoutModel",
            "_view_count": null,
            "_view_module": "@jupyter-widgets/base",
            "_view_module_version": "1.2.0",
            "_view_name": "LayoutView",
            "align_content": null,
            "align_items": null,
            "align_self": null,
            "border": null,
            "bottom": null,
            "display": null,
            "flex": null,
            "flex_flow": null,
            "grid_area": null,
            "grid_auto_columns": null,
            "grid_auto_flow": null,
            "grid_auto_rows": null,
            "grid_column": null,
            "grid_gap": null,
            "grid_row": null,
            "grid_template_areas": null,
            "grid_template_columns": null,
            "grid_template_rows": null,
            "height": "auto",
            "justify_content": null,
            "justify_items": null,
            "left": null,
            "margin": null,
            "max_height": null,
            "max_width": null,
            "min_height": null,
            "min_width": null,
            "object_fit": null,
            "object_position": null,
            "order": null,
            "overflow": null,
            "overflow_x": null,
            "overflow_y": null,
            "padding": "0.5em",
            "right": null,
            "top": null,
            "visibility": null,
            "width": "auto"
          }
        },
        "00df1ffc35f04f84a44d103dca3b27f6": {
          "model_module": "@jupyter-widgets/controls",
          "model_name": "ButtonStyleModel",
          "model_module_version": "1.5.0",
          "state": {
            "_model_module": "@jupyter-widgets/controls",
            "_model_module_version": "1.5.0",
            "_model_name": "ButtonStyleModel",
            "_view_count": null,
            "_view_module": "@jupyter-widgets/base",
            "_view_module_version": "1.2.0",
            "_view_name": "StyleView",
            "button_color": "#ffaaaa",
            "font_weight": ""
          }
        },
        "8473e48dcaf44b1691c426462f2f3975": {
          "model_module": "@jupyter-widgets/base",
          "model_name": "LayoutModel",
          "model_module_version": "1.2.0",
          "state": {
            "_model_module": "@jupyter-widgets/base",
            "_model_module_version": "1.2.0",
            "_model_name": "LayoutModel",
            "_view_count": null,
            "_view_module": "@jupyter-widgets/base",
            "_view_module_version": "1.2.0",
            "_view_name": "LayoutView",
            "align_content": null,
            "align_items": null,
            "align_self": null,
            "border": null,
            "bottom": null,
            "display": null,
            "flex": null,
            "flex_flow": null,
            "grid_area": null,
            "grid_auto_columns": null,
            "grid_auto_flow": null,
            "grid_auto_rows": null,
            "grid_column": null,
            "grid_gap": null,
            "grid_row": null,
            "grid_template_areas": null,
            "grid_template_columns": null,
            "grid_template_rows": null,
            "height": "auto",
            "justify_content": null,
            "justify_items": null,
            "left": null,
            "margin": null,
            "max_height": null,
            "max_width": null,
            "min_height": null,
            "min_width": null,
            "object_fit": null,
            "object_position": null,
            "order": null,
            "overflow": null,
            "overflow_x": null,
            "overflow_y": null,
            "padding": null,
            "right": null,
            "top": null,
            "visibility": null,
            "width": "auto"
          }
        },
        "52e36ba4d6594c6280ef544094365b2b": {
          "model_module": "@jupyter-widgets/controls",
          "model_name": "DescriptionStyleModel",
          "model_module_version": "1.5.0",
          "state": {
            "_model_module": "@jupyter-widgets/controls",
            "_model_module_version": "1.5.0",
            "_model_name": "DescriptionStyleModel",
            "_view_count": null,
            "_view_module": "@jupyter-widgets/base",
            "_view_module_version": "1.2.0",
            "_view_name": "StyleView",
            "description_width": ""
          }
        },
        "840f4586a4384dca8ea3892ddb41b1bf": {
          "model_module": "@jupyter-widgets/base",
          "model_name": "LayoutModel",
          "model_module_version": "1.2.0",
          "state": {
            "_model_module": "@jupyter-widgets/base",
            "_model_module_version": "1.2.0",
            "_model_name": "LayoutModel",
            "_view_count": null,
            "_view_module": "@jupyter-widgets/base",
            "_view_module_version": "1.2.0",
            "_view_name": "LayoutView",
            "align_content": null,
            "align_items": null,
            "align_self": null,
            "border": null,
            "bottom": null,
            "display": null,
            "flex": null,
            "flex_flow": null,
            "grid_area": null,
            "grid_auto_columns": null,
            "grid_auto_flow": null,
            "grid_auto_rows": null,
            "grid_column": null,
            "grid_gap": null,
            "grid_row": null,
            "grid_template_areas": null,
            "grid_template_columns": null,
            "grid_template_rows": null,
            "height": "auto",
            "justify_content": null,
            "justify_items": null,
            "left": null,
            "margin": null,
            "max_height": null,
            "max_width": null,
            "min_height": null,
            "min_width": null,
            "object_fit": null,
            "object_position": null,
            "order": null,
            "overflow": null,
            "overflow_x": null,
            "overflow_y": null,
            "padding": null,
            "right": null,
            "top": null,
            "visibility": null,
            "width": "auto"
          }
        },
        "d63ebba26c2b46b38195cedaea4a2aac": {
          "model_module": "@jupyter-widgets/controls",
          "model_name": "ButtonStyleModel",
          "model_module_version": "1.5.0",
          "state": {
            "_model_module": "@jupyter-widgets/controls",
            "_model_module_version": "1.5.0",
            "_model_name": "ButtonStyleModel",
            "_view_count": null,
            "_view_module": "@jupyter-widgets/base",
            "_view_module_version": "1.2.0",
            "_view_name": "StyleView",
            "button_color": null,
            "font_weight": ""
          }
        },
        "854ccf9369aa4641b210f38702aa1713": {
          "model_module": "@jupyter-widgets/controls",
          "model_name": "TabModel",
          "model_module_version": "1.5.0",
          "state": {
            "_dom_classes": [],
            "_model_module": "@jupyter-widgets/controls",
            "_model_module_version": "1.5.0",
            "_model_name": "TabModel",
            "_titles": {
              "0": "Youtube",
              "1": "Bilibili"
            },
            "_view_count": null,
            "_view_module": "@jupyter-widgets/controls",
            "_view_module_version": "1.5.0",
            "_view_name": "TabView",
            "box_style": "",
            "children": [
              "IPY_MODEL_d6a1719f4ecf43faa76ec83ad9d7499c",
              "IPY_MODEL_d3ca150ee46148a99621419c409d2a1a"
            ],
            "layout": "IPY_MODEL_d29813a4b41545f29b90ce5e9a4ab6aa",
            "selected_index": 0
          }
        },
        "d6a1719f4ecf43faa76ec83ad9d7499c": {
          "model_module": "@jupyter-widgets/output",
          "model_name": "OutputModel",
          "model_module_version": "1.0.0",
          "state": {
            "_dom_classes": [],
            "_model_module": "@jupyter-widgets/output",
            "_model_module_version": "1.0.0",
            "_model_name": "OutputModel",
            "_view_count": null,
            "_view_module": "@jupyter-widgets/output",
            "_view_module_version": "1.0.0",
            "_view_name": "OutputView",
            "layout": "IPY_MODEL_717b65dde0dc4d8eb3693f3801ebad04",
            "msg_id": "",
            "outputs": [
              {
                "output_type": "stream",
                "name": "stdout",
                "text": [
                  "Video available at https://youtube.com/watch?v=uW2HDk_4-wk\n"
                ]
              },
              {
                "output_type": "display_data",
                "data": {
                  "text/plain": "<IPython.lib.display.YouTubeVideo at 0x7b62e3349290>",
                  "text/html": "\n        <iframe\n            width=\"854\"\n            height=\"480\"\n            src=\"https://www.youtube.com/embed/uW2HDk_4-wk?fs=1&rel=0\"\n            frameborder=\"0\"\n            allowfullscreen\n            \n        ></iframe>\n        ",
                  "image/jpeg": "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\n"
                },
                "metadata": {}
              }
            ]
          }
        },
        "d3ca150ee46148a99621419c409d2a1a": {
          "model_module": "@jupyter-widgets/output",
          "model_name": "OutputModel",
          "model_module_version": "1.0.0",
          "state": {
            "_dom_classes": [],
            "_model_module": "@jupyter-widgets/output",
            "_model_module_version": "1.0.0",
            "_model_name": "OutputModel",
            "_view_count": null,
            "_view_module": "@jupyter-widgets/output",
            "_view_module_version": "1.0.0",
            "_view_name": "OutputView",
            "layout": "IPY_MODEL_92599969bc5c44ecb5272a74245540a5",
            "msg_id": "",
            "outputs": [
              {
                "output_type": "stream",
                "name": "stdout",
                "text": [
                  "Video available at https://www.bilibili.com/video/BV1w54y1S7Eb\n"
                ]
              },
              {
                "output_type": "display_data",
                "data": {
                  "text/plain": "<__main__.PlayVideo at 0x7b62e37dfc50>",
                  "text/html": "\n        <iframe\n            width=\"854\"\n            height=\"480\"\n            src=\"https://player.bilibili.com/player.html?bvid=BV1w54y1S7Eb&page=1?fs=1&autoplay=False\"\n            frameborder=\"0\"\n            allowfullscreen\n            \n        ></iframe>\n        "
                },
                "metadata": {}
              }
            ]
          }
        },
        "d29813a4b41545f29b90ce5e9a4ab6aa": {
          "model_module": "@jupyter-widgets/base",
          "model_name": "LayoutModel",
          "model_module_version": "1.2.0",
          "state": {
            "_model_module": "@jupyter-widgets/base",
            "_model_module_version": "1.2.0",
            "_model_name": "LayoutModel",
            "_view_count": null,
            "_view_module": "@jupyter-widgets/base",
            "_view_module_version": "1.2.0",
            "_view_name": "LayoutView",
            "align_content": null,
            "align_items": null,
            "align_self": null,
            "border": null,
            "bottom": null,
            "display": null,
            "flex": null,
            "flex_flow": null,
            "grid_area": null,
            "grid_auto_columns": null,
            "grid_auto_flow": null,
            "grid_auto_rows": null,
            "grid_column": null,
            "grid_gap": null,
            "grid_row": null,
            "grid_template_areas": null,
            "grid_template_columns": null,
            "grid_template_rows": null,
            "height": null,
            "justify_content": null,
            "justify_items": null,
            "left": null,
            "margin": null,
            "max_height": null,
            "max_width": null,
            "min_height": null,
            "min_width": null,
            "object_fit": null,
            "object_position": null,
            "order": null,
            "overflow": null,
            "overflow_x": null,
            "overflow_y": null,
            "padding": null,
            "right": null,
            "top": null,
            "visibility": null,
            "width": null
          }
        },
        "717b65dde0dc4d8eb3693f3801ebad04": {
          "model_module": "@jupyter-widgets/base",
          "model_name": "LayoutModel",
          "model_module_version": "1.2.0",
          "state": {
            "_model_module": "@jupyter-widgets/base",
            "_model_module_version": "1.2.0",
            "_model_name": "LayoutModel",
            "_view_count": null,
            "_view_module": "@jupyter-widgets/base",
            "_view_module_version": "1.2.0",
            "_view_name": "LayoutView",
            "align_content": null,
            "align_items": null,
            "align_self": null,
            "border": null,
            "bottom": null,
            "display": null,
            "flex": null,
            "flex_flow": null,
            "grid_area": null,
            "grid_auto_columns": null,
            "grid_auto_flow": null,
            "grid_auto_rows": null,
            "grid_column": null,
            "grid_gap": null,
            "grid_row": null,
            "grid_template_areas": null,
            "grid_template_columns": null,
            "grid_template_rows": null,
            "height": null,
            "justify_content": null,
            "justify_items": null,
            "left": null,
            "margin": null,
            "max_height": null,
            "max_width": null,
            "min_height": null,
            "min_width": null,
            "object_fit": null,
            "object_position": null,
            "order": null,
            "overflow": null,
            "overflow_x": null,
            "overflow_y": null,
            "padding": null,
            "right": null,
            "top": null,
            "visibility": null,
            "width": null
          }
        },
        "92599969bc5c44ecb5272a74245540a5": {
          "model_module": "@jupyter-widgets/base",
          "model_name": "LayoutModel",
          "model_module_version": "1.2.0",
          "state": {
            "_model_module": "@jupyter-widgets/base",
            "_model_module_version": "1.2.0",
            "_model_name": "LayoutModel",
            "_view_count": null,
            "_view_module": "@jupyter-widgets/base",
            "_view_module_version": "1.2.0",
            "_view_name": "LayoutView",
            "align_content": null,
            "align_items": null,
            "align_self": null,
            "border": null,
            "bottom": null,
            "display": null,
            "flex": null,
            "flex_flow": null,
            "grid_area": null,
            "grid_auto_columns": null,
            "grid_auto_flow": null,
            "grid_auto_rows": null,
            "grid_column": null,
            "grid_gap": null,
            "grid_row": null,
            "grid_template_areas": null,
            "grid_template_columns": null,
            "grid_template_rows": null,
            "height": null,
            "justify_content": null,
            "justify_items": null,
            "left": null,
            "margin": null,
            "max_height": null,
            "max_width": null,
            "min_height": null,
            "min_width": null,
            "object_fit": null,
            "object_position": null,
            "order": null,
            "overflow": null,
            "overflow_x": null,
            "overflow_y": null,
            "padding": null,
            "right": null,
            "top": null,
            "visibility": null,
            "width": null
          }
        },
        "af36d298083c4ffeb590475317fe77a4": {
          "model_module": "@jupyter-widgets/controls",
          "model_name": "VBoxModel",
          "model_module_version": "1.5.0",
          "state": {
            "_dom_classes": [],
            "_model_module": "@jupyter-widgets/controls",
            "_model_module_version": "1.5.0",
            "_model_name": "VBoxModel",
            "_view_count": null,
            "_view_module": "@jupyter-widgets/controls",
            "_view_module_version": "1.5.0",
            "_view_name": "VBoxView",
            "box_style": "",
            "children": [
              "IPY_MODEL_526762f4a57147119c4ef159f4ed64eb"
            ],
            "layout": "IPY_MODEL_9137c6193ab84c1680abc06bf5848c5c"
          }
        },
        "526762f4a57147119c4ef159f4ed64eb": {
          "model_module": "@jupyter-widgets/controls",
          "model_name": "VBoxModel",
          "model_module_version": "1.5.0",
          "state": {
            "_dom_classes": [],
            "_model_module": "@jupyter-widgets/controls",
            "_model_module_version": "1.5.0",
            "_model_name": "VBoxModel",
            "_view_count": null,
            "_view_module": "@jupyter-widgets/controls",
            "_view_module_version": "1.5.0",
            "_view_name": "VBoxView",
            "box_style": "",
            "children": [
              "IPY_MODEL_e1805e7cd73245afa7e973b4c2b6376b",
              "IPY_MODEL_a58e83fb6503455990da3037e7f7ebe6",
              "IPY_MODEL_9d5678d264cf465684875042410c8d0d"
            ],
            "layout": "IPY_MODEL_910bd5ba68644097aef946a861bbf588"
          }
        },
        "9137c6193ab84c1680abc06bf5848c5c": {
          "model_module": "@jupyter-widgets/base",
          "model_name": "LayoutModel",
          "model_module_version": "1.2.0",
          "state": {
            "_model_module": "@jupyter-widgets/base",
            "_model_module_version": "1.2.0",
            "_model_name": "LayoutModel",
            "_view_count": null,
            "_view_module": "@jupyter-widgets/base",
            "_view_module_version": "1.2.0",
            "_view_name": "LayoutView",
            "align_content": null,
            "align_items": null,
            "align_self": null,
            "border": null,
            "bottom": null,
            "display": null,
            "flex": null,
            "flex_flow": null,
            "grid_area": null,
            "grid_auto_columns": null,
            "grid_auto_flow": null,
            "grid_auto_rows": null,
            "grid_column": null,
            "grid_gap": null,
            "grid_row": null,
            "grid_template_areas": null,
            "grid_template_columns": null,
            "grid_template_rows": null,
            "height": null,
            "justify_content": null,
            "justify_items": null,
            "left": null,
            "margin": null,
            "max_height": null,
            "max_width": null,
            "min_height": null,
            "min_width": null,
            "object_fit": null,
            "object_position": null,
            "order": null,
            "overflow": null,
            "overflow_x": null,
            "overflow_y": null,
            "padding": null,
            "right": null,
            "top": null,
            "visibility": null,
            "width": null
          }
        },
        "e1805e7cd73245afa7e973b4c2b6376b": {
          "model_module": "@jupyter-widgets/controls",
          "model_name": "HBoxModel",
          "model_module_version": "1.5.0",
          "state": {
            "_dom_classes": [],
            "_model_module": "@jupyter-widgets/controls",
            "_model_module_version": "1.5.0",
            "_model_name": "HBoxModel",
            "_view_count": null,
            "_view_module": "@jupyter-widgets/controls",
            "_view_module_version": "1.5.0",
            "_view_name": "HBoxView",
            "box_style": "",
            "children": [
              "IPY_MODEL_cb10a7105f1244c890e7eeeb2a01a840",
              "IPY_MODEL_984af238e8284c93aa9c03317f89868d",
              "IPY_MODEL_982008c8e27346b884e5a3b7f1318ed2"
            ],
            "layout": "IPY_MODEL_5193379d98bc43c390630ee089cef8ee"
          }
        },
        "a58e83fb6503455990da3037e7f7ebe6": {
          "model_module": "@jupyter-widgets/controls",
          "model_name": "HBoxModel",
          "model_module_version": "1.5.0",
          "state": {
            "_dom_classes": [],
            "_model_module": "@jupyter-widgets/controls",
            "_model_module_version": "1.5.0",
            "_model_name": "HBoxModel",
            "_view_count": null,
            "_view_module": "@jupyter-widgets/controls",
            "_view_module_version": "1.5.0",
            "_view_name": "HBoxView",
            "box_style": "",
            "children": [
              "IPY_MODEL_95c6e5d3274443e0a873bd2b4455a6fa",
              "IPY_MODEL_a633a3740f5c4e96bd46d76b12eadf47"
            ],
            "layout": "IPY_MODEL_1b08dac5e0474394a22b21ef22144c75"
          }
        },
        "9d5678d264cf465684875042410c8d0d": {
          "model_module": "@jupyter-widgets/controls",
          "model_name": "LabelModel",
          "model_module_version": "1.5.0",
          "state": {
            "_dom_classes": [],
            "_model_module": "@jupyter-widgets/controls",
            "_model_module_version": "1.5.0",
            "_model_name": "LabelModel",
            "_view_count": null,
            "_view_module": "@jupyter-widgets/controls",
            "_view_module_version": "1.5.0",
            "_view_name": "LabelView",
            "description": "",
            "description_tooltip": null,
            "layout": "IPY_MODEL_31e328d57fa34bffa8bfcdd47db1d5b1",
            "placeholder": "​",
            "style": "IPY_MODEL_c64885eafc4e4cff9060b6510038ab67",
            "value": "Thanks for your feedback!"
          }
        },
        "910bd5ba68644097aef946a861bbf588": {
          "model_module": "@jupyter-widgets/base",
          "model_name": "LayoutModel",
          "model_module_version": "1.2.0",
          "state": {
            "_model_module": "@jupyter-widgets/base",
            "_model_module_version": "1.2.0",
            "_model_name": "LayoutModel",
            "_view_count": null,
            "_view_module": "@jupyter-widgets/base",
            "_view_module_version": "1.2.0",
            "_view_name": "LayoutView",
            "align_content": null,
            "align_items": null,
            "align_self": null,
            "border": null,
            "bottom": null,
            "display": null,
            "flex": null,
            "flex_flow": null,
            "grid_area": null,
            "grid_auto_columns": null,
            "grid_auto_flow": null,
            "grid_auto_rows": null,
            "grid_column": null,
            "grid_gap": null,
            "grid_row": null,
            "grid_template_areas": null,
            "grid_template_columns": null,
            "grid_template_rows": null,
            "height": null,
            "justify_content": null,
            "justify_items": null,
            "left": null,
            "margin": null,
            "max_height": null,
            "max_width": null,
            "min_height": null,
            "min_width": null,
            "object_fit": null,
            "object_position": null,
            "order": null,
            "overflow": null,
            "overflow_x": null,
            "overflow_y": null,
            "padding": null,
            "right": null,
            "top": null,
            "visibility": null,
            "width": null
          }
        },
        "cb10a7105f1244c890e7eeeb2a01a840": {
          "model_module": "@jupyter-widgets/controls",
          "model_name": "ButtonModel",
          "model_module_version": "1.5.0",
          "state": {
            "_dom_classes": [
              "happy"
            ],
            "_model_module": "@jupyter-widgets/controls",
            "_model_module_version": "1.5.0",
            "_model_name": "ButtonModel",
            "_view_count": null,
            "_view_module": "@jupyter-widgets/controls",
            "_view_module_version": "1.5.0",
            "_view_name": "ButtonView",
            "button_style": "",
            "description": "🙂",
            "disabled": false,
            "icon": "",
            "layout": "IPY_MODEL_c36be2028b4a461eb2875e1880668769",
            "style": "IPY_MODEL_56818a349cab40a385fe4ec77d938165",
            "tooltip": "happy"
          }
        },
        "984af238e8284c93aa9c03317f89868d": {
          "model_module": "@jupyter-widgets/controls",
          "model_name": "ButtonModel",
          "model_module_version": "1.5.0",
          "state": {
            "_dom_classes": [
              "medium"
            ],
            "_model_module": "@jupyter-widgets/controls",
            "_model_module_version": "1.5.0",
            "_model_name": "ButtonModel",
            "_view_count": null,
            "_view_module": "@jupyter-widgets/controls",
            "_view_module_version": "1.5.0",
            "_view_name": "ButtonView",
            "button_style": "",
            "description": "😐",
            "disabled": false,
            "icon": "",
            "layout": "IPY_MODEL_02c2d3e406a047aeb5aac7fe5d94f22d",
            "style": "IPY_MODEL_e2c84f7573c04c2999dc0205f754d2b4",
            "tooltip": "medium"
          }
        },
        "982008c8e27346b884e5a3b7f1318ed2": {
          "model_module": "@jupyter-widgets/controls",
          "model_name": "ButtonModel",
          "model_module_version": "1.5.0",
          "state": {
            "_dom_classes": [
              "sad"
            ],
            "_model_module": "@jupyter-widgets/controls",
            "_model_module_version": "1.5.0",
            "_model_name": "ButtonModel",
            "_view_count": null,
            "_view_module": "@jupyter-widgets/controls",
            "_view_module_version": "1.5.0",
            "_view_name": "ButtonView",
            "button_style": "",
            "description": "🙁",
            "disabled": false,
            "icon": "",
            "layout": "IPY_MODEL_a28305eb005b4d7e8a1dfa8d9c6c7278",
            "style": "IPY_MODEL_f357fd94dde44f8ca02d7a22a7b6d910",
            "tooltip": "sad"
          }
        },
        "5193379d98bc43c390630ee089cef8ee": {
          "model_module": "@jupyter-widgets/base",
          "model_name": "LayoutModel",
          "model_module_version": "1.2.0",
          "state": {
            "_model_module": "@jupyter-widgets/base",
            "_model_module_version": "1.2.0",
            "_model_name": "LayoutModel",
            "_view_count": null,
            "_view_module": "@jupyter-widgets/base",
            "_view_module_version": "1.2.0",
            "_view_name": "LayoutView",
            "align_content": null,
            "align_items": null,
            "align_self": null,
            "border": null,
            "bottom": null,
            "display": null,
            "flex": null,
            "flex_flow": null,
            "grid_area": null,
            "grid_auto_columns": null,
            "grid_auto_flow": null,
            "grid_auto_rows": null,
            "grid_column": null,
            "grid_gap": null,
            "grid_row": null,
            "grid_template_areas": null,
            "grid_template_columns": null,
            "grid_template_rows": null,
            "height": null,
            "justify_content": null,
            "justify_items": null,
            "left": null,
            "margin": null,
            "max_height": null,
            "max_width": null,
            "min_height": null,
            "min_width": null,
            "object_fit": null,
            "object_position": null,
            "order": null,
            "overflow": null,
            "overflow_x": null,
            "overflow_y": null,
            "padding": null,
            "right": null,
            "top": null,
            "visibility": null,
            "width": null
          }
        },
        "95c6e5d3274443e0a873bd2b4455a6fa": {
          "model_module": "@jupyter-widgets/controls",
          "model_name": "TextareaModel",
          "model_module_version": "1.5.0",
          "state": {
            "_dom_classes": [],
            "_model_module": "@jupyter-widgets/controls",
            "_model_module_version": "1.5.0",
            "_model_name": "TextareaModel",
            "_view_count": null,
            "_view_module": "@jupyter-widgets/controls",
            "_view_module_version": "1.5.0",
            "_view_name": "TextareaView",
            "continuous_update": true,
            "description": "",
            "description_tooltip": null,
            "disabled": false,
            "layout": "IPY_MODEL_b10f0a8451c84c068a140d59581ba0b2",
            "placeholder": "We want your feedback!",
            "rows": null,
            "style": "IPY_MODEL_934e2fde8e094986b7702b81728228ad",
            "value": ""
          }
        },
        "a633a3740f5c4e96bd46d76b12eadf47": {
          "model_module": "@jupyter-widgets/controls",
          "model_name": "ButtonModel",
          "model_module_version": "1.5.0",
          "state": {
            "_dom_classes": [],
            "_model_module": "@jupyter-widgets/controls",
            "_model_module_version": "1.5.0",
            "_model_name": "ButtonModel",
            "_view_count": null,
            "_view_module": "@jupyter-widgets/controls",
            "_view_module_version": "1.5.0",
            "_view_name": "ButtonView",
            "button_style": "",
            "description": "Submit",
            "disabled": false,
            "icon": "",
            "layout": "IPY_MODEL_3ed77ce3bae944688e72fef39dae6514",
            "style": "IPY_MODEL_09167880d76e42e78e40fc63e80bffe8",
            "tooltip": ""
          }
        },
        "1b08dac5e0474394a22b21ef22144c75": {
          "model_module": "@jupyter-widgets/base",
          "model_name": "LayoutModel",
          "model_module_version": "1.2.0",
          "state": {
            "_model_module": "@jupyter-widgets/base",
            "_model_module_version": "1.2.0",
            "_model_name": "LayoutModel",
            "_view_count": null,
            "_view_module": "@jupyter-widgets/base",
            "_view_module_version": "1.2.0",
            "_view_name": "LayoutView",
            "align_content": null,
            "align_items": null,
            "align_self": null,
            "border": null,
            "bottom": null,
            "display": "none",
            "flex": null,
            "flex_flow": null,
            "grid_area": null,
            "grid_auto_columns": null,
            "grid_auto_flow": null,
            "grid_auto_rows": null,
            "grid_column": null,
            "grid_gap": null,
            "grid_row": null,
            "grid_template_areas": null,
            "grid_template_columns": null,
            "grid_template_rows": null,
            "height": null,
            "justify_content": null,
            "justify_items": null,
            "left": null,
            "margin": null,
            "max_height": null,
            "max_width": null,
            "min_height": null,
            "min_width": null,
            "object_fit": null,
            "object_position": null,
            "order": null,
            "overflow": null,
            "overflow_x": null,
            "overflow_y": null,
            "padding": null,
            "right": null,
            "top": null,
            "visibility": null,
            "width": null
          }
        },
        "31e328d57fa34bffa8bfcdd47db1d5b1": {
          "model_module": "@jupyter-widgets/base",
          "model_name": "LayoutModel",
          "model_module_version": "1.2.0",
          "state": {
            "_model_module": "@jupyter-widgets/base",
            "_model_module_version": "1.2.0",
            "_model_name": "LayoutModel",
            "_view_count": null,
            "_view_module": "@jupyter-widgets/base",
            "_view_module_version": "1.2.0",
            "_view_name": "LayoutView",
            "align_content": null,
            "align_items": null,
            "align_self": null,
            "border": null,
            "bottom": null,
            "display": "block",
            "flex": null,
            "flex_flow": null,
            "grid_area": null,
            "grid_auto_columns": null,
            "grid_auto_flow": null,
            "grid_auto_rows": null,
            "grid_column": null,
            "grid_gap": null,
            "grid_row": null,
            "grid_template_areas": null,
            "grid_template_columns": null,
            "grid_template_rows": null,
            "height": null,
            "justify_content": null,
            "justify_items": null,
            "left": null,
            "margin": null,
            "max_height": null,
            "max_width": null,
            "min_height": null,
            "min_width": null,
            "object_fit": null,
            "object_position": null,
            "order": null,
            "overflow": null,
            "overflow_x": null,
            "overflow_y": null,
            "padding": null,
            "right": null,
            "top": null,
            "visibility": null,
            "width": null
          }
        },
        "c64885eafc4e4cff9060b6510038ab67": {
          "model_module": "@jupyter-widgets/controls",
          "model_name": "DescriptionStyleModel",
          "model_module_version": "1.5.0",
          "state": {
            "_model_module": "@jupyter-widgets/controls",
            "_model_module_version": "1.5.0",
            "_model_name": "DescriptionStyleModel",
            "_view_count": null,
            "_view_module": "@jupyter-widgets/base",
            "_view_module_version": "1.2.0",
            "_view_name": "StyleView",
            "description_width": ""
          }
        },
        "c36be2028b4a461eb2875e1880668769": {
          "model_module": "@jupyter-widgets/base",
          "model_name": "LayoutModel",
          "model_module_version": "1.2.0",
          "state": {
            "_model_module": "@jupyter-widgets/base",
            "_model_module_version": "1.2.0",
            "_model_name": "LayoutModel",
            "_view_count": null,
            "_view_module": "@jupyter-widgets/base",
            "_view_module_version": "1.2.0",
            "_view_name": "LayoutView",
            "align_content": null,
            "align_items": null,
            "align_self": null,
            "border": "2px solid #666666",
            "bottom": null,
            "display": null,
            "flex": null,
            "flex_flow": null,
            "grid_area": null,
            "grid_auto_columns": null,
            "grid_auto_flow": null,
            "grid_auto_rows": null,
            "grid_column": null,
            "grid_gap": null,
            "grid_row": null,
            "grid_template_areas": null,
            "grid_template_columns": null,
            "grid_template_rows": null,
            "height": "auto",
            "justify_content": null,
            "justify_items": null,
            "left": null,
            "margin": null,
            "max_height": null,
            "max_width": null,
            "min_height": null,
            "min_width": null,
            "object_fit": null,
            "object_position": null,
            "order": null,
            "overflow": null,
            "overflow_x": null,
            "overflow_y": null,
            "padding": "0.5em",
            "right": null,
            "top": null,
            "visibility": null,
            "width": "auto"
          }
        },
        "56818a349cab40a385fe4ec77d938165": {
          "model_module": "@jupyter-widgets/controls",
          "model_name": "ButtonStyleModel",
          "model_module_version": "1.5.0",
          "state": {
            "_model_module": "@jupyter-widgets/controls",
            "_model_module_version": "1.5.0",
            "_model_name": "ButtonStyleModel",
            "_view_count": null,
            "_view_module": "@jupyter-widgets/base",
            "_view_module_version": "1.2.0",
            "_view_name": "StyleView",
            "button_color": "#aaffaa",
            "font_weight": ""
          }
        },
        "02c2d3e406a047aeb5aac7fe5d94f22d": {
          "model_module": "@jupyter-widgets/base",
          "model_name": "LayoutModel",
          "model_module_version": "1.2.0",
          "state": {
            "_model_module": "@jupyter-widgets/base",
            "_model_module_version": "1.2.0",
            "_model_name": "LayoutModel",
            "_view_count": null,
            "_view_module": "@jupyter-widgets/base",
            "_view_module_version": "1.2.0",
            "_view_name": "LayoutView",
            "align_content": null,
            "align_items": null,
            "align_self": null,
            "border": "2px solid #666666",
            "bottom": null,
            "display": null,
            "flex": null,
            "flex_flow": null,
            "grid_area": null,
            "grid_auto_columns": null,
            "grid_auto_flow": null,
            "grid_auto_rows": null,
            "grid_column": null,
            "grid_gap": null,
            "grid_row": null,
            "grid_template_areas": null,
            "grid_template_columns": null,
            "grid_template_rows": null,
            "height": "auto",
            "justify_content": null,
            "justify_items": null,
            "left": null,
            "margin": null,
            "max_height": null,
            "max_width": null,
            "min_height": null,
            "min_width": null,
            "object_fit": null,
            "object_position": null,
            "order": null,
            "overflow": null,
            "overflow_x": null,
            "overflow_y": null,
            "padding": "0.5em",
            "right": null,
            "top": null,
            "visibility": null,
            "width": "auto"
          }
        },
        "e2c84f7573c04c2999dc0205f754d2b4": {
          "model_module": "@jupyter-widgets/controls",
          "model_name": "ButtonStyleModel",
          "model_module_version": "1.5.0",
          "state": {
            "_model_module": "@jupyter-widgets/controls",
            "_model_module_version": "1.5.0",
            "_model_name": "ButtonStyleModel",
            "_view_count": null,
            "_view_module": "@jupyter-widgets/base",
            "_view_module_version": "1.2.0",
            "_view_name": "StyleView",
            "button_color": "#dddd77",
            "font_weight": ""
          }
        },
        "a28305eb005b4d7e8a1dfa8d9c6c7278": {
          "model_module": "@jupyter-widgets/base",
          "model_name": "LayoutModel",
          "model_module_version": "1.2.0",
          "state": {
            "_model_module": "@jupyter-widgets/base",
            "_model_module_version": "1.2.0",
            "_model_name": "LayoutModel",
            "_view_count": null,
            "_view_module": "@jupyter-widgets/base",
            "_view_module_version": "1.2.0",
            "_view_name": "LayoutView",
            "align_content": null,
            "align_items": null,
            "align_self": null,
            "border": null,
            "bottom": null,
            "display": null,
            "flex": null,
            "flex_flow": null,
            "grid_area": null,
            "grid_auto_columns": null,
            "grid_auto_flow": null,
            "grid_auto_rows": null,
            "grid_column": null,
            "grid_gap": null,
            "grid_row": null,
            "grid_template_areas": null,
            "grid_template_columns": null,
            "grid_template_rows": null,
            "height": "auto",
            "justify_content": null,
            "justify_items": null,
            "left": null,
            "margin": null,
            "max_height": null,
            "max_width": null,
            "min_height": null,
            "min_width": null,
            "object_fit": null,
            "object_position": null,
            "order": null,
            "overflow": null,
            "overflow_x": null,
            "overflow_y": null,
            "padding": "0.5em",
            "right": null,
            "top": null,
            "visibility": null,
            "width": "auto"
          }
        },
        "f357fd94dde44f8ca02d7a22a7b6d910": {
          "model_module": "@jupyter-widgets/controls",
          "model_name": "ButtonStyleModel",
          "model_module_version": "1.5.0",
          "state": {
            "_model_module": "@jupyter-widgets/controls",
            "_model_module_version": "1.5.0",
            "_model_name": "ButtonStyleModel",
            "_view_count": null,
            "_view_module": "@jupyter-widgets/base",
            "_view_module_version": "1.2.0",
            "_view_name": "StyleView",
            "button_color": "#ffaaaa",
            "font_weight": ""
          }
        },
        "b10f0a8451c84c068a140d59581ba0b2": {
          "model_module": "@jupyter-widgets/base",
          "model_name": "LayoutModel",
          "model_module_version": "1.2.0",
          "state": {
            "_model_module": "@jupyter-widgets/base",
            "_model_module_version": "1.2.0",
            "_model_name": "LayoutModel",
            "_view_count": null,
            "_view_module": "@jupyter-widgets/base",
            "_view_module_version": "1.2.0",
            "_view_name": "LayoutView",
            "align_content": null,
            "align_items": null,
            "align_self": null,
            "border": null,
            "bottom": null,
            "display": null,
            "flex": null,
            "flex_flow": null,
            "grid_area": null,
            "grid_auto_columns": null,
            "grid_auto_flow": null,
            "grid_auto_rows": null,
            "grid_column": null,
            "grid_gap": null,
            "grid_row": null,
            "grid_template_areas": null,
            "grid_template_columns": null,
            "grid_template_rows": null,
            "height": "auto",
            "justify_content": null,
            "justify_items": null,
            "left": null,
            "margin": null,
            "max_height": null,
            "max_width": null,
            "min_height": null,
            "min_width": null,
            "object_fit": null,
            "object_position": null,
            "order": null,
            "overflow": null,
            "overflow_x": null,
            "overflow_y": null,
            "padding": null,
            "right": null,
            "top": null,
            "visibility": null,
            "width": "auto"
          }
        },
        "934e2fde8e094986b7702b81728228ad": {
          "model_module": "@jupyter-widgets/controls",
          "model_name": "DescriptionStyleModel",
          "model_module_version": "1.5.0",
          "state": {
            "_model_module": "@jupyter-widgets/controls",
            "_model_module_version": "1.5.0",
            "_model_name": "DescriptionStyleModel",
            "_view_count": null,
            "_view_module": "@jupyter-widgets/base",
            "_view_module_version": "1.2.0",
            "_view_name": "StyleView",
            "description_width": ""
          }
        },
        "3ed77ce3bae944688e72fef39dae6514": {
          "model_module": "@jupyter-widgets/base",
          "model_name": "LayoutModel",
          "model_module_version": "1.2.0",
          "state": {
            "_model_module": "@jupyter-widgets/base",
            "_model_module_version": "1.2.0",
            "_model_name": "LayoutModel",
            "_view_count": null,
            "_view_module": "@jupyter-widgets/base",
            "_view_module_version": "1.2.0",
            "_view_name": "LayoutView",
            "align_content": null,
            "align_items": null,
            "align_self": null,
            "border": null,
            "bottom": null,
            "display": null,
            "flex": null,
            "flex_flow": null,
            "grid_area": null,
            "grid_auto_columns": null,
            "grid_auto_flow": null,
            "grid_auto_rows": null,
            "grid_column": null,
            "grid_gap": null,
            "grid_row": null,
            "grid_template_areas": null,
            "grid_template_columns": null,
            "grid_template_rows": null,
            "height": "auto",
            "justify_content": null,
            "justify_items": null,
            "left": null,
            "margin": null,
            "max_height": null,
            "max_width": null,
            "min_height": null,
            "min_width": null,
            "object_fit": null,
            "object_position": null,
            "order": null,
            "overflow": null,
            "overflow_x": null,
            "overflow_y": null,
            "padding": null,
            "right": null,
            "top": null,
            "visibility": null,
            "width": "auto"
          }
        },
        "09167880d76e42e78e40fc63e80bffe8": {
          "model_module": "@jupyter-widgets/controls",
          "model_name": "ButtonStyleModel",
          "model_module_version": "1.5.0",
          "state": {
            "_model_module": "@jupyter-widgets/controls",
            "_model_module_version": "1.5.0",
            "_model_name": "ButtonStyleModel",
            "_view_count": null,
            "_view_module": "@jupyter-widgets/base",
            "_view_module_version": "1.2.0",
            "_view_name": "StyleView",
            "button_color": null,
            "font_weight": ""
          }
        }
      }
    }
  },
  "nbformat": 4,
  "nbformat_minor": 0
}